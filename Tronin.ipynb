{
 "cells": [
  {
   "cell_type": "code",
   "execution_count": 11,
   "id": "extended-creature",
   "metadata": {},
   "outputs": [],
   "source": [
    "import pandas as pd\n",
    "import numpy as np\n",
    "import matplotlib.pyplot as plt\n",
    "\n",
    "%matplotlib inline"
   ]
  },
  {
   "cell_type": "code",
   "execution_count": 12,
   "id": "square-roots",
   "metadata": {},
   "outputs": [
    {
     "data": {
      "text/html": [
       "<div>\n",
       "<style scoped>\n",
       "    .dataframe tbody tr th:only-of-type {\n",
       "        vertical-align: middle;\n",
       "    }\n",
       "\n",
       "    .dataframe tbody tr th {\n",
       "        vertical-align: top;\n",
       "    }\n",
       "\n",
       "    .dataframe thead th {\n",
       "        text-align: right;\n",
       "    }\n",
       "</style>\n",
       "<table border=\"1\" class=\"dataframe\">\n",
       "  <thead>\n",
       "    <tr style=\"text-align: right;\">\n",
       "      <th></th>\n",
       "      <th>show_id</th>\n",
       "      <th>type</th>\n",
       "      <th>title</th>\n",
       "      <th>director</th>\n",
       "      <th>cast</th>\n",
       "      <th>country</th>\n",
       "      <th>date_added</th>\n",
       "      <th>release_year</th>\n",
       "      <th>rating</th>\n",
       "      <th>duration</th>\n",
       "      <th>listed_in</th>\n",
       "      <th>description</th>\n",
       "    </tr>\n",
       "  </thead>\n",
       "  <tbody>\n",
       "    <tr>\n",
       "      <th>0</th>\n",
       "      <td>s1</td>\n",
       "      <td>TV Show</td>\n",
       "      <td>3%</td>\n",
       "      <td>NaN</td>\n",
       "      <td>João Miguel, Bianca Comparato, Michel Gomes, R...</td>\n",
       "      <td>Brazil</td>\n",
       "      <td>August 14, 2020</td>\n",
       "      <td>2020</td>\n",
       "      <td>TV-MA</td>\n",
       "      <td>4 Seasons</td>\n",
       "      <td>International TV Shows, TV Dramas, TV Sci-Fi &amp;...</td>\n",
       "      <td>In a future where the elite inhabit an island ...</td>\n",
       "    </tr>\n",
       "    <tr>\n",
       "      <th>1</th>\n",
       "      <td>s2</td>\n",
       "      <td>Movie</td>\n",
       "      <td>7:19</td>\n",
       "      <td>Jorge Michel Grau</td>\n",
       "      <td>Demián Bichir, Héctor Bonilla, Oscar Serrano, ...</td>\n",
       "      <td>Mexico</td>\n",
       "      <td>December 23, 2016</td>\n",
       "      <td>2016</td>\n",
       "      <td>TV-MA</td>\n",
       "      <td>93 min</td>\n",
       "      <td>Dramas, International Movies</td>\n",
       "      <td>After a devastating earthquake hits Mexico Cit...</td>\n",
       "    </tr>\n",
       "    <tr>\n",
       "      <th>2</th>\n",
       "      <td>s3</td>\n",
       "      <td>Movie</td>\n",
       "      <td>23:59</td>\n",
       "      <td>Gilbert Chan</td>\n",
       "      <td>Tedd Chan, Stella Chung, Henley Hii, Lawrence ...</td>\n",
       "      <td>Singapore</td>\n",
       "      <td>December 20, 2018</td>\n",
       "      <td>2011</td>\n",
       "      <td>R</td>\n",
       "      <td>78 min</td>\n",
       "      <td>Horror Movies, International Movies</td>\n",
       "      <td>When an army recruit is found dead, his fellow...</td>\n",
       "    </tr>\n",
       "    <tr>\n",
       "      <th>3</th>\n",
       "      <td>s4</td>\n",
       "      <td>Movie</td>\n",
       "      <td>9</td>\n",
       "      <td>Shane Acker</td>\n",
       "      <td>Elijah Wood, John C. Reilly, Jennifer Connelly...</td>\n",
       "      <td>United States</td>\n",
       "      <td>November 16, 2017</td>\n",
       "      <td>2009</td>\n",
       "      <td>PG-13</td>\n",
       "      <td>80 min</td>\n",
       "      <td>Action &amp; Adventure, Independent Movies, Sci-Fi...</td>\n",
       "      <td>In a postapocalyptic world, rag-doll robots hi...</td>\n",
       "    </tr>\n",
       "    <tr>\n",
       "      <th>4</th>\n",
       "      <td>s5</td>\n",
       "      <td>Movie</td>\n",
       "      <td>21</td>\n",
       "      <td>Robert Luketic</td>\n",
       "      <td>Jim Sturgess, Kevin Spacey, Kate Bosworth, Aar...</td>\n",
       "      <td>United States</td>\n",
       "      <td>January 1, 2020</td>\n",
       "      <td>2008</td>\n",
       "      <td>PG-13</td>\n",
       "      <td>123 min</td>\n",
       "      <td>Dramas</td>\n",
       "      <td>A brilliant group of students become card-coun...</td>\n",
       "    </tr>\n",
       "  </tbody>\n",
       "</table>\n",
       "</div>"
      ],
      "text/plain": [
       "  show_id     type  title           director  \\\n",
       "0      s1  TV Show     3%                NaN   \n",
       "1      s2    Movie   7:19  Jorge Michel Grau   \n",
       "2      s3    Movie  23:59       Gilbert Chan   \n",
       "3      s4    Movie      9        Shane Acker   \n",
       "4      s5    Movie     21     Robert Luketic   \n",
       "\n",
       "                                                cast        country  \\\n",
       "0  João Miguel, Bianca Comparato, Michel Gomes, R...         Brazil   \n",
       "1  Demián Bichir, Héctor Bonilla, Oscar Serrano, ...         Mexico   \n",
       "2  Tedd Chan, Stella Chung, Henley Hii, Lawrence ...      Singapore   \n",
       "3  Elijah Wood, John C. Reilly, Jennifer Connelly...  United States   \n",
       "4  Jim Sturgess, Kevin Spacey, Kate Bosworth, Aar...  United States   \n",
       "\n",
       "          date_added  release_year rating   duration  \\\n",
       "0    August 14, 2020          2020  TV-MA  4 Seasons   \n",
       "1  December 23, 2016          2016  TV-MA     93 min   \n",
       "2  December 20, 2018          2011      R     78 min   \n",
       "3  November 16, 2017          2009  PG-13     80 min   \n",
       "4    January 1, 2020          2008  PG-13    123 min   \n",
       "\n",
       "                                           listed_in  \\\n",
       "0  International TV Shows, TV Dramas, TV Sci-Fi &...   \n",
       "1                       Dramas, International Movies   \n",
       "2                Horror Movies, International Movies   \n",
       "3  Action & Adventure, Independent Movies, Sci-Fi...   \n",
       "4                                             Dramas   \n",
       "\n",
       "                                         description  \n",
       "0  In a future where the elite inhabit an island ...  \n",
       "1  After a devastating earthquake hits Mexico Cit...  \n",
       "2  When an army recruit is found dead, his fellow...  \n",
       "3  In a postapocalyptic world, rag-doll robots hi...  \n",
       "4  A brilliant group of students become card-coun...  "
      ]
     },
     "execution_count": 12,
     "metadata": {},
     "output_type": "execute_result"
    }
   ],
   "source": [
    "data = pd.read_csv('../data/netflix.csv')\n",
    "data.head()"
   ]
  },
  {
   "cell_type": "code",
   "execution_count": 13,
   "id": "alive-american",
   "metadata": {},
   "outputs": [
    {
     "data": {
      "text/plain": [
       "0.09220495697958135"
      ]
     },
     "execution_count": 13,
     "metadata": {},
     "output_type": "execute_result"
    }
   ],
   "source": [
    "flags = data['cast'].isna()\n",
    "flags.sum() / len(data)"
   ]
  },
  {
   "cell_type": "markdown",
   "id": "efficient-forward",
   "metadata": {},
   "source": [
    "В данных об актерах около 9% процентов пропусков, поэтому проигнорируем данные с пропусками."
   ]
  },
  {
   "cell_type": "code",
   "execution_count": 14,
   "id": "sublime-solomon",
   "metadata": {},
   "outputs": [],
   "source": [
    "data = data.dropna(subset=['cast', 'director'])"
   ]
  },
  {
   "cell_type": "markdown",
   "id": "ideal-script",
   "metadata": {},
   "source": [
    "Так как в фильах и сериалах играют несколько актеров, то они указаны вместе. Разделим их для подсчета:"
   ]
  },
  {
   "cell_type": "code",
   "execution_count": 15,
   "id": "statistical-cambridge",
   "metadata": {},
   "outputs": [],
   "source": [
    "data['cast'] = data['cast'].map(lambda names: [name.strip() for name in names.split(',')])"
   ]
  },
  {
   "cell_type": "markdown",
   "id": "simple-exercise",
   "metadata": {},
   "source": [
    "5 самых популярных актеров (в фильмах и сериалах):"
   ]
  },
  {
   "cell_type": "code",
   "execution_count": 16,
   "id": "rough-survival",
   "metadata": {},
   "outputs": [],
   "source": [
    "def get_actors_count(dataframe):\n",
    "    return pd.Series([actor for movie_cast in dataframe['cast'] for actor in movie_cast]).value_counts()"
   ]
  },
  {
   "cell_type": "code",
   "execution_count": 17,
   "id": "blank-abortion",
   "metadata": {},
   "outputs": [
    {
     "data": {
      "text/plain": [
       "Anupam Kher         41\n",
       "Shah Rukh Khan      35\n",
       "Om Puri             30\n",
       "Naseeruddin Shah    30\n",
       "Akshay Kumar        29\n",
       "dtype: int64"
      ]
     },
     "execution_count": 17,
     "metadata": {},
     "output_type": "execute_result"
    }
   ],
   "source": [
    "get_actors_count(data)[:5]"
   ]
  },
  {
   "cell_type": "markdown",
   "id": "appreciated-moral",
   "metadata": {},
   "source": [
    "5 самых популярных актеров сериалов:"
   ]
  },
  {
   "cell_type": "code",
   "execution_count": 150,
   "id": "essential-wellington",
   "metadata": {},
   "outputs": [
    {
     "data": {
      "text/plain": [
       "Takahiro Sakurai    22\n",
       "Yuki Kaji           17\n",
       "Ai Kayano           16\n",
       "Daisuke Ono         16\n",
       "Junichi Suwabe      15\n",
       "dtype: int64"
      ]
     },
     "execution_count": 150,
     "metadata": {},
     "output_type": "execute_result"
    }
   ],
   "source": [
    "shows_only = data[data['type'] == 'TV Show']\n",
    "get_actors_count(shows_only)[:5]"
   ]
  },
  {
   "cell_type": "markdown",
   "id": "grave-tractor",
   "metadata": {},
   "source": [
    "5 самых популярных актеров фильмов:"
   ]
  },
  {
   "cell_type": "code",
   "execution_count": 151,
   "id": "boxed-slide",
   "metadata": {},
   "outputs": [
    {
     "data": {
      "text/plain": [
       "Anupam Kher         41\n",
       "Shah Rukh Khan      35\n",
       "Naseeruddin Shah    30\n",
       "Om Puri             30\n",
       "Akshay Kumar        29\n",
       "dtype: int64"
      ]
     },
     "execution_count": 151,
     "metadata": {},
     "output_type": "execute_result"
    }
   ],
   "source": [
    "movies_only = data[data['type'] == 'Movie']\n",
    "get_actors_count(movies_only)[:5]"
   ]
  },
  {
   "cell_type": "markdown",
   "id": "blocked-little",
   "metadata": {},
   "source": [
    "Посмотрим самых популярных актеров в разных жанрых:"
   ]
  },
  {
   "cell_type": "code",
   "execution_count": 152,
   "id": "funny-secretariat",
   "metadata": {},
   "outputs": [],
   "source": [
    "data['listed_in'] = data['listed_in'].map(lambda genres: [genre.strip() for genre in genres.split(',')])"
   ]
  },
  {
   "cell_type": "code",
   "execution_count": 153,
   "id": "solid-duncan",
   "metadata": {},
   "outputs": [],
   "source": [
    "unpacked_genres = data.explode('listed_in')"
   ]
  },
  {
   "cell_type": "code",
   "execution_count": 154,
   "id": "discrete-needle",
   "metadata": {},
   "outputs": [
    {
     "data": {
      "text/html": [
       "<div>\n",
       "<style scoped>\n",
       "    .dataframe tbody tr th:only-of-type {\n",
       "        vertical-align: middle;\n",
       "    }\n",
       "\n",
       "    .dataframe tbody tr th {\n",
       "        vertical-align: top;\n",
       "    }\n",
       "\n",
       "    .dataframe thead th {\n",
       "        text-align: right;\n",
       "    }\n",
       "</style>\n",
       "<table border=\"1\" class=\"dataframe\">\n",
       "  <thead>\n",
       "    <tr style=\"text-align: right;\">\n",
       "      <th></th>\n",
       "      <th>show_id</th>\n",
       "      <th>type</th>\n",
       "      <th>title</th>\n",
       "      <th>director</th>\n",
       "      <th>cast</th>\n",
       "      <th>country</th>\n",
       "      <th>date_added</th>\n",
       "      <th>release_year</th>\n",
       "      <th>rating</th>\n",
       "      <th>duration</th>\n",
       "      <th>listed_in</th>\n",
       "      <th>description</th>\n",
       "    </tr>\n",
       "  </thead>\n",
       "  <tbody>\n",
       "    <tr>\n",
       "      <th>0</th>\n",
       "      <td>s1</td>\n",
       "      <td>TV Show</td>\n",
       "      <td>3%</td>\n",
       "      <td>NaN</td>\n",
       "      <td>[João Miguel, Bianca Comparato, Michel Gomes, ...</td>\n",
       "      <td>Brazil</td>\n",
       "      <td>August 14, 2020</td>\n",
       "      <td>2020</td>\n",
       "      <td>TV-MA</td>\n",
       "      <td>4 Seasons</td>\n",
       "      <td>International TV Shows</td>\n",
       "      <td>In a future where the elite inhabit an island ...</td>\n",
       "    </tr>\n",
       "    <tr>\n",
       "      <th>0</th>\n",
       "      <td>s1</td>\n",
       "      <td>TV Show</td>\n",
       "      <td>3%</td>\n",
       "      <td>NaN</td>\n",
       "      <td>[João Miguel, Bianca Comparato, Michel Gomes, ...</td>\n",
       "      <td>Brazil</td>\n",
       "      <td>August 14, 2020</td>\n",
       "      <td>2020</td>\n",
       "      <td>TV-MA</td>\n",
       "      <td>4 Seasons</td>\n",
       "      <td>TV Dramas</td>\n",
       "      <td>In a future where the elite inhabit an island ...</td>\n",
       "    </tr>\n",
       "    <tr>\n",
       "      <th>0</th>\n",
       "      <td>s1</td>\n",
       "      <td>TV Show</td>\n",
       "      <td>3%</td>\n",
       "      <td>NaN</td>\n",
       "      <td>[João Miguel, Bianca Comparato, Michel Gomes, ...</td>\n",
       "      <td>Brazil</td>\n",
       "      <td>August 14, 2020</td>\n",
       "      <td>2020</td>\n",
       "      <td>TV-MA</td>\n",
       "      <td>4 Seasons</td>\n",
       "      <td>TV Sci-Fi &amp; Fantasy</td>\n",
       "      <td>In a future where the elite inhabit an island ...</td>\n",
       "    </tr>\n",
       "    <tr>\n",
       "      <th>1</th>\n",
       "      <td>s2</td>\n",
       "      <td>Movie</td>\n",
       "      <td>7:19</td>\n",
       "      <td>Jorge Michel Grau</td>\n",
       "      <td>[Demián Bichir, Héctor Bonilla, Oscar Serrano,...</td>\n",
       "      <td>Mexico</td>\n",
       "      <td>December 23, 2016</td>\n",
       "      <td>2016</td>\n",
       "      <td>TV-MA</td>\n",
       "      <td>93 min</td>\n",
       "      <td>Dramas</td>\n",
       "      <td>After a devastating earthquake hits Mexico Cit...</td>\n",
       "    </tr>\n",
       "    <tr>\n",
       "      <th>1</th>\n",
       "      <td>s2</td>\n",
       "      <td>Movie</td>\n",
       "      <td>7:19</td>\n",
       "      <td>Jorge Michel Grau</td>\n",
       "      <td>[Demián Bichir, Héctor Bonilla, Oscar Serrano,...</td>\n",
       "      <td>Mexico</td>\n",
       "      <td>December 23, 2016</td>\n",
       "      <td>2016</td>\n",
       "      <td>TV-MA</td>\n",
       "      <td>93 min</td>\n",
       "      <td>International Movies</td>\n",
       "      <td>After a devastating earthquake hits Mexico Cit...</td>\n",
       "    </tr>\n",
       "  </tbody>\n",
       "</table>\n",
       "</div>"
      ],
      "text/plain": [
       "  show_id     type title           director  \\\n",
       "0      s1  TV Show    3%                NaN   \n",
       "0      s1  TV Show    3%                NaN   \n",
       "0      s1  TV Show    3%                NaN   \n",
       "1      s2    Movie  7:19  Jorge Michel Grau   \n",
       "1      s2    Movie  7:19  Jorge Michel Grau   \n",
       "\n",
       "                                                cast country  \\\n",
       "0  [João Miguel, Bianca Comparato, Michel Gomes, ...  Brazil   \n",
       "0  [João Miguel, Bianca Comparato, Michel Gomes, ...  Brazil   \n",
       "0  [João Miguel, Bianca Comparato, Michel Gomes, ...  Brazil   \n",
       "1  [Demián Bichir, Héctor Bonilla, Oscar Serrano,...  Mexico   \n",
       "1  [Demián Bichir, Héctor Bonilla, Oscar Serrano,...  Mexico   \n",
       "\n",
       "          date_added  release_year rating   duration               listed_in  \\\n",
       "0    August 14, 2020          2020  TV-MA  4 Seasons  International TV Shows   \n",
       "0    August 14, 2020          2020  TV-MA  4 Seasons               TV Dramas   \n",
       "0    August 14, 2020          2020  TV-MA  4 Seasons     TV Sci-Fi & Fantasy   \n",
       "1  December 23, 2016          2016  TV-MA     93 min                  Dramas   \n",
       "1  December 23, 2016          2016  TV-MA     93 min    International Movies   \n",
       "\n",
       "                                         description  \n",
       "0  In a future where the elite inhabit an island ...  \n",
       "0  In a future where the elite inhabit an island ...  \n",
       "0  In a future where the elite inhabit an island ...  \n",
       "1  After a devastating earthquake hits Mexico Cit...  \n",
       "1  After a devastating earthquake hits Mexico Cit...  "
      ]
     },
     "execution_count": 154,
     "metadata": {},
     "output_type": "execute_result"
    }
   ],
   "source": [
    "unpacked_genres.head()"
   ]
  },
  {
   "cell_type": "markdown",
   "id": "angry-hughes",
   "metadata": {},
   "source": [
    "Все жанры, представленные в наших данных:"
   ]
  },
  {
   "cell_type": "code",
   "execution_count": 155,
   "id": "challenging-trade",
   "metadata": {},
   "outputs": [
    {
     "data": {
      "text/plain": [
       "array(['International TV Shows', 'TV Dramas', 'TV Sci-Fi & Fantasy',\n",
       "       'Dramas', 'International Movies', 'Horror Movies',\n",
       "       'Action & Adventure', 'Independent Movies', 'Sci-Fi & Fantasy',\n",
       "       'TV Mysteries', 'Thrillers', 'Crime TV Shows', 'Documentaries',\n",
       "       'Sports Movies', 'Comedies', 'Anime Series', 'TV Comedies',\n",
       "       'Romantic Movies', 'Romantic TV Shows', 'Docuseries',\n",
       "       'Science & Nature TV', 'Movies', 'British TV Shows', 'Reality TV',\n",
       "       'Korean TV Shows', 'Music & Musicals', 'LGBTQ Movies', \"Kids' TV\",\n",
       "       'TV Action & Adventure', 'Spanish-Language TV Shows',\n",
       "       'Children & Family Movies', 'TV Shows', 'Classic Movies',\n",
       "       'Cult Movies', 'TV Horror', 'Stand-Up Comedy & Talk Shows',\n",
       "       'Teen TV Shows', 'Stand-Up Comedy', 'Anime Features',\n",
       "       'TV Thrillers', 'Faith & Spirituality', 'Classic & Cult TV'],\n",
       "      dtype=object)"
      ]
     },
     "execution_count": 155,
     "metadata": {},
     "output_type": "execute_result"
    }
   ],
   "source": [
    "unpacked_genres['listed_in'].unique()"
   ]
  },
  {
   "cell_type": "markdown",
   "id": "israeli-painting",
   "metadata": {},
   "source": [
    "Например, 5 самых популярных актеров в жанре комедий:"
   ]
  },
  {
   "cell_type": "code",
   "execution_count": 156,
   "id": "confident-porter",
   "metadata": {},
   "outputs": [
    {
     "data": {
      "text/plain": [
       "Anupam Kher       19\n",
       "Paresh Rawal      17\n",
       "Adam Sandler      17\n",
       "Shah Rukh Khan    16\n",
       "Boman Irani       15\n",
       "dtype: int64"
      ]
     },
     "execution_count": 156,
     "metadata": {},
     "output_type": "execute_result"
    }
   ],
   "source": [
    "get_actors_count(unpacked_genres[unpacked_genres['listed_in'] == 'Comedies'])[:5]"
   ]
  },
  {
   "cell_type": "markdown",
   "id": "quality-documentation",
   "metadata": {},
   "source": [
    "Или научная фантастика:"
   ]
  },
  {
   "cell_type": "code",
   "execution_count": 157,
   "id": "signed-purpose",
   "metadata": {},
   "outputs": [
    {
     "data": {
      "text/plain": [
       "Nicolas Cage          6\n",
       "Laurence Fishburne    6\n",
       "Fred Tatasciore       6\n",
       "Paul Bettany          6\n",
       "Hugo Weaving          5\n",
       "dtype: int64"
      ]
     },
     "execution_count": 157,
     "metadata": {},
     "output_type": "execute_result"
    }
   ],
   "source": [
    "get_actors_count(unpacked_genres[unpacked_genres['listed_in'] == 'Sci-Fi & Fantasy'])[:5]"
   ]
  }
 ],
 "metadata": {
  "kernelspec": {
   "display_name": "Python 3",
   "language": "python",
   "name": "python3"
  },
  "language_info": {
   "codemirror_mode": {
    "name": "ipython",
    "version": 3
   },
   "file_extension": ".py",
   "mimetype": "text/x-python",
   "name": "python",
   "nbconvert_exporter": "python",
   "pygments_lexer": "ipython3",
   "version": "3.8.5"
  }
 },
 "nbformat": 4,
 "nbformat_minor": 5
}
