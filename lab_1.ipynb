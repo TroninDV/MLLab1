{
 "cells": [
  {
   "cell_type": "markdown",
   "metadata": {},
   "source": [
    "## Лабораторная работа 1. Введение в машинное обучение.\n",
    "\n",
    "![](https://newapplift-production.s3.amazonaws.com/comfy/cms/files/files/000/001/201/original/machine-learning-robots-dilbert.gif)\n",
    "\n",
    "Результат лабораторной работы − отчет. Мы предпочитаем принимать отчеты в формате ноутбуков Jupyter (ipynb-файл). Постарайтесь сделать ваш отчет интересным рассказом, последовательно отвечающим на вопросы из заданий. Помимо ответов на вопросы, в отчете так же должен быть код, однако чем меньше кода, тем лучше всем: нам − меньше проверять, вам —  проще найти ошибку или дополнить эксперимент. При проверке оценивается четкость ответов на вопросы, аккуратность отчета и кода.\n",
    "\n",
    "\n",
    "### Оценивание и штрафы\n",
    "\n",
    "* Каждая из задач имеет определенную «стоимость» (указана в скобках около задачи)\n",
    "* Максимально допустимая оценка за работу — 15 баллов\n",
    "* Сдавать задание после указанного срока сдачи нельзя\n",
    "* «Похожие» решения считаются плагиатом и все задействованные студенты (в том числе те, у кого списали) не могут получить за него больше 0 баллов и понижают карму (подробнее о плагиате см. на странице курса)\n",
    "* Если вы нашли решение какого-то из заданий в открытом источнике, необходимо прислать ссылку на этот источник (скорее всего вы будете не единственным, кто это нашел, поэтому чтобы исключить подозрение в плагиате, необходима ссылка на источник)\n",
    "* Не оцениваются задания с удалёнными формулировкам\n",
    "* Не оценивается лабораторная работа целиком, если она была выложена в открытый источник"
   ]
  },
  {
   "cell_type": "markdown",
   "metadata": {},
   "source": [
    "### Метрика качества\n",
    "\n",
    "Обучение и оценка качества модели производится на независимых множествах примеров. Как правило, имеющующиеся примеры разбивают на два подмножества: обучающее (train) и тестовое (test). Выбор пропорции разбиения — компромисс. Действительно, большой размер обучения ведет к более качественным алгоритмам, но бОльшему шуму при оценке модели на тесте. И наоборот, большой размер тестовой выборки ведет к менее шумной оценке качества, однако обученные модели получаются менее точными.\n",
    "\n",
    "Многие модели классификации предсказывают оценку принадлежности положительному классу $\\tilde{y}(x) \\in R$ (например, вероятность принадлежности классу 1). После этого принимают решение о классе объекта путем сравнения оценки с некоторым порогом $\\theta$:\n",
    "\n",
    "$$y(x) = \n",
    "\\begin{cases}\n",
    "+1, &\\text{если} \\; \\tilde{y}(x) \\geq \\theta \\\\\n",
    "-1, &\\text{если} \\; \\tilde{y}(x) < \\theta\n",
    "\\end{cases}\n",
    "$$\n",
    "\n",
    "В этом случае можно рассматривать метрики, которые умеют работать с исходным ответом классификатора. В задании мы будем работать с метрикой AUC-ROC, которую в данном случае можно считать как долю неправильно упорядоченных пар объектов, отсортированных по возрастанию предсказанной оценки принадлежности классу 1 (более подробно можно узнать на следующих лекциях или, например, [здесь](https://github.com/esokolov/ml-course-msu/blob/master/ML15/lecture-notes/Sem05_metrics.pdf)). Детального понимания принципов работы метрики AUC-ROC для выполнения этой лабораторной не требуется."
   ]
  },
  {
   "cell_type": "markdown",
   "metadata": {},
   "source": [
    "### Подбор гиперпараметров модели\n",
    "\n",
    "В задачах машинного обучения следует различать параметры модели и гиперпараметры (структурные параметры). Обычно параметры модели настраиваются в ходе обучения (например, веса в линейной модели), в то время как гиперпараметры задаются заранее (например, значение силы регуляризации в линейной модели). Каждая модель, как правило, имеет множество гиперпараметров и нет универсальных наборов гиперпараметров, оптимально работающих во всех задачах, поэтому для каждой задачи нужно подбирать свой набор.\n",
    "\n",
    "Для оптимизации гиперпараметров модели часто используют _перебор по сетке (grid search)_: для каждого гиперпараметра выбирается несколько значений, далее перебираются все комбинации значений и выбирается комбинация, на которой модель показывает лучшее качество (с точки зрения оптимизируемой метрики). Однако, в этом случае нужно грамотно оценивать построенную модель, а именно делать разбиение на обучающую и тестовую выборку.\n",
    "\n",
    "В этом случае сравнение большого числа моделей при переборе гиперпараметров приводит к ситуации, когда лучшая на тестовой подвыборке модель не сохраняет свои качества на новых данных. Можно сказать, что происходит _переобучение_ на тестовую выборку.\n",
    "\n",
    "Для устранения описанной выше проблемы, **можно разбить данные на 3 непересекающихся подвыборки: обучение, валидация и тест**. Валидационную подвыборку используют для сравнения моделей, а тестовую — для окончательной оценки качества и сравнения семейств моделей с подобранными гиперпараметрами.\n",
    "\n",
    "**Другой способ сравнения моделей — [кросс-валидация](http://bit.ly/1CHXsNH)**. \n",
    "\n",
    "Существуют различные **схемы кросс-валидации**:\n",
    "  - Leave-One-Out\n",
    "  - K-Fold\n",
    "  - Многократное случайное разбиение выборки\n",
    "  \n",
    "Кросс-валидация вычислительно затратна, особенно если вы делаете перебор по сетке с очень большим числом комбинации. С учетом конечности времени на выполнение задания, возникает ряд компромиссов: \n",
    "  - сетку гиперпараметров можно делать более разреженной, перебирая меньше значений каждого гиперпараметра; однако, не стоит забывать, что в таком случае можно пропустить хорошую комбинацию гиперпараметров;\n",
    "  - кросс-валидацию можно делать с меньшим числом разбиений или фолдов, но в таком случае оценка качества становится более шумной и увеличивается риск выбрать неоптимальный набор гиперпараметров из-за случайности разбиения;\n",
    "  - гиперпараметры можно оптимизировать последовательно (жадно) — один за другим, а не перебирать все комбинации; такая стратегия не всегда приводит к оптимальному набору;\n",
    "  - перебирать не все комбинации гиперпараметров, а небольшое число случайно выбранных."
   ]
  },
  {
   "cell_type": "markdown",
   "metadata": {},
   "source": [
    "В этой лабораторной работе мы научимся обучать модели машинного обучения, корректно ставить эксперименты, подбирать гиперпараметры, сравнивать и смешивать модели. Вам предлагается решить задачу бинарной классификации, а именно построить алгоритм, предсказывающий победу команды в компьютерной игре Dota2.\n",
    " \n",
    "Более подробно про данные можно почитать на странице первого конкурсного [соревнования](https://www.kaggle.com/t/f2f20fc510f042dfa9751a03c6108805). Целевой признак записан в переменной radiant_win. "
   ]
  },
  {
   "cell_type": "markdown",
   "metadata": {},
   "source": [
    "### Обучение классификаторов на вещественных признаках"
   ]
  },
  {
   "cell_type": "markdown",
   "metadata": {},
   "source": [
    "Загрузите набор данных *train.csv*, *gold.csv* и *lh.csv*. Чтобы лучше понимать, с чем вы работаете/корректно ли вы загрузили данные можно вывести несколько первых строк на экран."
   ]
  },
  {
   "cell_type": "code",
   "execution_count": 1,
   "metadata": {},
   "outputs": [],
   "source": [
    "import pandas as pd\n",
    "import numpy as np"
   ]
  },
  {
   "cell_type": "code",
   "execution_count": 2,
   "metadata": {},
   "outputs": [],
   "source": [
    "lh_data = pd.read_csv(\"lh.csv\", na_values=\"-1\")\n",
    "gold_data = pd.read_csv(\"gold.csv\", na_values=\"-1\")\n",
    "train_data = pd.read_csv(\"train.csv\", na_values=\"-1\")"
   ]
  },
  {
   "cell_type": "code",
   "execution_count": 4,
   "metadata": {},
   "outputs": [
    {
     "data": {
      "text/html": [
       "<div>\n",
       "<style scoped>\n",
       "    .dataframe tbody tr th:only-of-type {\n",
       "        vertical-align: middle;\n",
       "    }\n",
       "\n",
       "    .dataframe tbody tr th {\n",
       "        vertical-align: top;\n",
       "    }\n",
       "\n",
       "    .dataframe thead th {\n",
       "        text-align: right;\n",
       "    }\n",
       "</style>\n",
       "<table border=\"1\" class=\"dataframe\">\n",
       "  <thead>\n",
       "    <tr style=\"text-align: right;\">\n",
       "      <th></th>\n",
       "      <th>mid</th>\n",
       "      <th>times</th>\n",
       "      <th>player_0</th>\n",
       "      <th>player_1</th>\n",
       "      <th>player_2</th>\n",
       "      <th>player_3</th>\n",
       "      <th>player_4</th>\n",
       "      <th>player_5</th>\n",
       "      <th>player_6</th>\n",
       "      <th>player_7</th>\n",
       "      <th>player_8</th>\n",
       "      <th>player_9</th>\n",
       "    </tr>\n",
       "  </thead>\n",
       "  <tbody>\n",
       "    <tr>\n",
       "      <th>0</th>\n",
       "      <td>0</td>\n",
       "      <td>60</td>\n",
       "      <td>1</td>\n",
       "      <td>2</td>\n",
       "      <td>1</td>\n",
       "      <td>1</td>\n",
       "      <td>2</td>\n",
       "      <td>3</td>\n",
       "      <td>2</td>\n",
       "      <td>7</td>\n",
       "      <td>1</td>\n",
       "      <td>2</td>\n",
       "    </tr>\n",
       "    <tr>\n",
       "      <th>1</th>\n",
       "      <td>0</td>\n",
       "      <td>120</td>\n",
       "      <td>1</td>\n",
       "      <td>5</td>\n",
       "      <td>1</td>\n",
       "      <td>2</td>\n",
       "      <td>6</td>\n",
       "      <td>5</td>\n",
       "      <td>6</td>\n",
       "      <td>14</td>\n",
       "      <td>1</td>\n",
       "      <td>6</td>\n",
       "    </tr>\n",
       "    <tr>\n",
       "      <th>2</th>\n",
       "      <td>0</td>\n",
       "      <td>180</td>\n",
       "      <td>2</td>\n",
       "      <td>10</td>\n",
       "      <td>1</td>\n",
       "      <td>7</td>\n",
       "      <td>8</td>\n",
       "      <td>9</td>\n",
       "      <td>9</td>\n",
       "      <td>18</td>\n",
       "      <td>1</td>\n",
       "      <td>9</td>\n",
       "    </tr>\n",
       "    <tr>\n",
       "      <th>3</th>\n",
       "      <td>0</td>\n",
       "      <td>240</td>\n",
       "      <td>2</td>\n",
       "      <td>13</td>\n",
       "      <td>1</td>\n",
       "      <td>13</td>\n",
       "      <td>12</td>\n",
       "      <td>9</td>\n",
       "      <td>12</td>\n",
       "      <td>29</td>\n",
       "      <td>1</td>\n",
       "      <td>10</td>\n",
       "    </tr>\n",
       "    <tr>\n",
       "      <th>4</th>\n",
       "      <td>0</td>\n",
       "      <td>300</td>\n",
       "      <td>2</td>\n",
       "      <td>15</td>\n",
       "      <td>1</td>\n",
       "      <td>17</td>\n",
       "      <td>19</td>\n",
       "      <td>13</td>\n",
       "      <td>13</td>\n",
       "      <td>36</td>\n",
       "      <td>1</td>\n",
       "      <td>19</td>\n",
       "    </tr>\n",
       "  </tbody>\n",
       "</table>\n",
       "</div>"
      ],
      "text/plain": [
       "   mid  times  player_0  player_1  player_2  player_3  player_4  player_5  \\\n",
       "0    0     60         1         2         1         1         2         3   \n",
       "1    0    120         1         5         1         2         6         5   \n",
       "2    0    180         2        10         1         7         8         9   \n",
       "3    0    240         2        13         1        13        12         9   \n",
       "4    0    300         2        15         1        17        19        13   \n",
       "\n",
       "   player_6  player_7  player_8  player_9  \n",
       "0         2         7         1         2  \n",
       "1         6        14         1         6  \n",
       "2         9        18         1         9  \n",
       "3        12        29         1        10  \n",
       "4        13        36         1        19  "
      ]
     },
     "execution_count": 4,
     "metadata": {},
     "output_type": "execute_result"
    }
   ],
   "source": [
    "lh_data.head()"
   ]
  },
  {
   "cell_type": "code",
   "execution_count": 5,
   "metadata": {},
   "outputs": [
    {
     "data": {
      "text/html": [
       "<div>\n",
       "<style scoped>\n",
       "    .dataframe tbody tr th:only-of-type {\n",
       "        vertical-align: middle;\n",
       "    }\n",
       "\n",
       "    .dataframe tbody tr th {\n",
       "        vertical-align: top;\n",
       "    }\n",
       "\n",
       "    .dataframe thead th {\n",
       "        text-align: right;\n",
       "    }\n",
       "</style>\n",
       "<table border=\"1\" class=\"dataframe\">\n",
       "  <thead>\n",
       "    <tr style=\"text-align: right;\">\n",
       "      <th></th>\n",
       "      <th>mid</th>\n",
       "      <th>times</th>\n",
       "      <th>player_0</th>\n",
       "      <th>player_1</th>\n",
       "      <th>player_2</th>\n",
       "      <th>player_3</th>\n",
       "      <th>player_4</th>\n",
       "      <th>player_5</th>\n",
       "      <th>player_6</th>\n",
       "      <th>player_7</th>\n",
       "      <th>player_8</th>\n",
       "      <th>player_9</th>\n",
       "    </tr>\n",
       "  </thead>\n",
       "  <tbody>\n",
       "    <tr>\n",
       "      <th>0</th>\n",
       "      <td>0</td>\n",
       "      <td>60</td>\n",
       "      <td>750</td>\n",
       "      <td>350</td>\n",
       "      <td>389</td>\n",
       "      <td>437</td>\n",
       "      <td>428</td>\n",
       "      <td>398</td>\n",
       "      <td>344</td>\n",
       "      <td>654</td>\n",
       "      <td>287</td>\n",
       "      <td>1056</td>\n",
       "    </tr>\n",
       "    <tr>\n",
       "      <th>1</th>\n",
       "      <td>0</td>\n",
       "      <td>120</td>\n",
       "      <td>957</td>\n",
       "      <td>1071</td>\n",
       "      <td>633</td>\n",
       "      <td>655</td>\n",
       "      <td>1080</td>\n",
       "      <td>669</td>\n",
       "      <td>1147</td>\n",
       "      <td>1164</td>\n",
       "      <td>438</td>\n",
       "      <td>1360</td>\n",
       "    </tr>\n",
       "    <tr>\n",
       "      <th>2</th>\n",
       "      <td>0</td>\n",
       "      <td>180</td>\n",
       "      <td>1161</td>\n",
       "      <td>1527</td>\n",
       "      <td>782</td>\n",
       "      <td>1103</td>\n",
       "      <td>1346</td>\n",
       "      <td>1058</td>\n",
       "      <td>1479</td>\n",
       "      <td>1574</td>\n",
       "      <td>587</td>\n",
       "      <td>2072</td>\n",
       "    </tr>\n",
       "    <tr>\n",
       "      <th>3</th>\n",
       "      <td>0</td>\n",
       "      <td>240</td>\n",
       "      <td>1571</td>\n",
       "      <td>2033</td>\n",
       "      <td>932</td>\n",
       "      <td>1515</td>\n",
       "      <td>2058</td>\n",
       "      <td>1760</td>\n",
       "      <td>1767</td>\n",
       "      <td>2387</td>\n",
       "      <td>737</td>\n",
       "      <td>2283</td>\n",
       "    </tr>\n",
       "    <tr>\n",
       "      <th>4</th>\n",
       "      <td>0</td>\n",
       "      <td>300</td>\n",
       "      <td>1721</td>\n",
       "      <td>2313</td>\n",
       "      <td>1082</td>\n",
       "      <td>1790</td>\n",
       "      <td>2699</td>\n",
       "      <td>2087</td>\n",
       "      <td>1986</td>\n",
       "      <td>2898</td>\n",
       "      <td>887</td>\n",
       "      <td>3302</td>\n",
       "    </tr>\n",
       "  </tbody>\n",
       "</table>\n",
       "</div>"
      ],
      "text/plain": [
       "   mid  times  player_0  player_1  player_2  player_3  player_4  player_5  \\\n",
       "0    0     60       750       350       389       437       428       398   \n",
       "1    0    120       957      1071       633       655      1080       669   \n",
       "2    0    180      1161      1527       782      1103      1346      1058   \n",
       "3    0    240      1571      2033       932      1515      2058      1760   \n",
       "4    0    300      1721      2313      1082      1790      2699      2087   \n",
       "\n",
       "   player_6  player_7  player_8  player_9  \n",
       "0       344       654       287      1056  \n",
       "1      1147      1164       438      1360  \n",
       "2      1479      1574       587      2072  \n",
       "3      1767      2387       737      2283  \n",
       "4      1986      2898       887      3302  "
      ]
     },
     "execution_count": 5,
     "metadata": {},
     "output_type": "execute_result"
    }
   ],
   "source": [
    "gold_data.head()"
   ]
  },
  {
   "cell_type": "code",
   "execution_count": 6,
   "metadata": {},
   "outputs": [
    {
     "data": {
      "text/html": [
       "<div>\n",
       "<style scoped>\n",
       "    .dataframe tbody tr th:only-of-type {\n",
       "        vertical-align: middle;\n",
       "    }\n",
       "\n",
       "    .dataframe tbody tr th {\n",
       "        vertical-align: top;\n",
       "    }\n",
       "\n",
       "    .dataframe thead th {\n",
       "        text-align: right;\n",
       "    }\n",
       "</style>\n",
       "<table border=\"1\" class=\"dataframe\">\n",
       "  <thead>\n",
       "    <tr style=\"text-align: right;\">\n",
       "      <th></th>\n",
       "      <th>mid</th>\n",
       "      <th>radiant_won</th>\n",
       "    </tr>\n",
       "  </thead>\n",
       "  <tbody>\n",
       "    <tr>\n",
       "      <th>0</th>\n",
       "      <td>0</td>\n",
       "      <td>1</td>\n",
       "    </tr>\n",
       "    <tr>\n",
       "      <th>1</th>\n",
       "      <td>1</td>\n",
       "      <td>0</td>\n",
       "    </tr>\n",
       "    <tr>\n",
       "      <th>2</th>\n",
       "      <td>2</td>\n",
       "      <td>1</td>\n",
       "    </tr>\n",
       "    <tr>\n",
       "      <th>3</th>\n",
       "      <td>4</td>\n",
       "      <td>1</td>\n",
       "    </tr>\n",
       "    <tr>\n",
       "      <th>4</th>\n",
       "      <td>5</td>\n",
       "      <td>1</td>\n",
       "    </tr>\n",
       "  </tbody>\n",
       "</table>\n",
       "</div>"
      ],
      "text/plain": [
       "   mid  radiant_won\n",
       "0    0            1\n",
       "1    1            0\n",
       "2    2            1\n",
       "3    4            1\n",
       "4    5            1"
      ]
     },
     "execution_count": 6,
     "metadata": {},
     "output_type": "execute_result"
    }
   ],
   "source": [
    "train_data.head()"
   ]
  },
  {
   "cell_type": "markdown",
   "metadata": {},
   "source": [
    "Иногда в данных встречаются пропуски. Способ обозначения пропусков либо прописывается в описании к данным, либо на месте пропуска после чтения данных оказывается значение [NaN](https://docs.scipy.org/doc/numpy-1.13.0/user/misc.html). Более подробно о работе с пропусками в Pandas можно прочитать например [здесь](http://pandas.pydata.org/pandas-docs/stable/missing_data.html). \n",
    "\n",
    "В данном датасете пропущенные значения обозначены как \"-1\". \n",
    "\n",
    "**Задание 1** (1 балл) \n",
    "\n",
    "Проанализируйте датасет и найдите все признаки, имеющие пропущенные значения (опишите свои наблюдения). \n",
    "\n",
    "Предобработайте текущий датасет так, что бы в нём не осталось пропусков (обоснуйте свой выбор метода предобработки)."
   ]
  },
  {
   "cell_type": "code",
   "execution_count": 7,
   "metadata": {},
   "outputs": [
    {
     "data": {
      "text/plain": [
       "mid            0.0\n",
       "radiant_won    0.0\n",
       "dtype: float64"
      ]
     },
     "execution_count": 7,
     "metadata": {},
     "output_type": "execute_result"
    }
   ],
   "source": [
    "train_data.isna().sum() / len(train_data)"
   ]
  },
  {
   "cell_type": "code",
   "execution_count": 8,
   "metadata": {},
   "outputs": [
    {
     "data": {
      "text/plain": [
       "mid         0.0\n",
       "times       0.0\n",
       "player_0    0.0\n",
       "player_1    0.0\n",
       "player_2    0.0\n",
       "player_3    0.0\n",
       "player_4    0.0\n",
       "player_5    0.0\n",
       "player_6    0.0\n",
       "player_7    0.0\n",
       "player_8    0.0\n",
       "player_9    0.0\n",
       "dtype: float64"
      ]
     },
     "execution_count": 8,
     "metadata": {},
     "output_type": "execute_result"
    }
   ],
   "source": [
    "lh_data.isna().sum() / len(lh_data)"
   ]
  },
  {
   "cell_type": "code",
   "execution_count": 9,
   "metadata": {},
   "outputs": [
    {
     "data": {
      "text/plain": [
       "mid         0.0\n",
       "times       0.0\n",
       "player_0    0.0\n",
       "player_1    0.0\n",
       "player_2    0.0\n",
       "player_3    0.0\n",
       "player_4    0.0\n",
       "player_5    0.0\n",
       "player_6    0.0\n",
       "player_7    0.0\n",
       "player_8    0.0\n",
       "player_9    0.0\n",
       "dtype: float64"
      ]
     },
     "execution_count": 9,
     "metadata": {},
     "output_type": "execute_result"
    }
   ],
   "source": [
    "gold_data.isna().sum() / len(gold_data)"
   ]
  },
  {
   "cell_type": "markdown",
   "metadata": {},
   "source": [
    "*Вывод*: в данных отсутствуют пропущенные значения"
   ]
  },
  {
   "cell_type": "markdown",
   "metadata": {},
   "source": [
    "В начале мы будем работать только с вещественными признаками. \n",
    "\n",
    "Возьмите из *gold.csv* и *lh.csv* данные по 600 секунде для каждого матча и подклейте их к *train.csv* (см. [булево индексирование](https://pandas.pydata.org/pandas-docs/stable/user_guide/indexing.html#boolean-indexing) и [join](https://pandas.pydata.org/pandas-docs/stable/reference/api/pandas.DataFrame.join.html?highlight=join#pandas.DataFrame.join))."
   ]
  },
  {
   "cell_type": "code",
   "execution_count": 3,
   "metadata": {},
   "outputs": [
    {
     "data": {
      "text/html": [
       "<div>\n",
       "<style scoped>\n",
       "    .dataframe tbody tr th:only-of-type {\n",
       "        vertical-align: middle;\n",
       "    }\n",
       "\n",
       "    .dataframe tbody tr th {\n",
       "        vertical-align: top;\n",
       "    }\n",
       "\n",
       "    .dataframe thead th {\n",
       "        text-align: right;\n",
       "    }\n",
       "</style>\n",
       "<table border=\"1\" class=\"dataframe\">\n",
       "  <thead>\n",
       "    <tr style=\"text-align: right;\">\n",
       "      <th></th>\n",
       "      <th>mid</th>\n",
       "      <th>radiant_won</th>\n",
       "      <th>gold_player_0</th>\n",
       "      <th>gold_player_1</th>\n",
       "      <th>gold_player_2</th>\n",
       "      <th>gold_player_3</th>\n",
       "      <th>gold_player_4</th>\n",
       "      <th>gold_player_5</th>\n",
       "      <th>gold_player_6</th>\n",
       "      <th>gold_player_7</th>\n",
       "      <th>...</th>\n",
       "      <th>lh_player_0</th>\n",
       "      <th>lh_player_1</th>\n",
       "      <th>lh_player_2</th>\n",
       "      <th>lh_player_3</th>\n",
       "      <th>lh_player_4</th>\n",
       "      <th>lh_player_5</th>\n",
       "      <th>lh_player_6</th>\n",
       "      <th>lh_player_7</th>\n",
       "      <th>lh_player_8</th>\n",
       "      <th>lh_player_9</th>\n",
       "    </tr>\n",
       "  </thead>\n",
       "  <tbody>\n",
       "    <tr>\n",
       "      <th>0</th>\n",
       "      <td>0</td>\n",
       "      <td>1</td>\n",
       "      <td>3454</td>\n",
       "      <td>5206</td>\n",
       "      <td>2613</td>\n",
       "      <td>4426</td>\n",
       "      <td>5755</td>\n",
       "      <td>4072</td>\n",
       "      <td>3997</td>\n",
       "      <td>5917</td>\n",
       "      <td>...</td>\n",
       "      <td>4</td>\n",
       "      <td>43</td>\n",
       "      <td>3</td>\n",
       "      <td>57</td>\n",
       "      <td>41</td>\n",
       "      <td>34</td>\n",
       "      <td>35</td>\n",
       "      <td>75</td>\n",
       "      <td>2</td>\n",
       "      <td>46</td>\n",
       "    </tr>\n",
       "    <tr>\n",
       "      <th>1</th>\n",
       "      <td>1</td>\n",
       "      <td>0</td>\n",
       "      <td>2477</td>\n",
       "      <td>5760</td>\n",
       "      <td>3816</td>\n",
       "      <td>4353</td>\n",
       "      <td>5759</td>\n",
       "      <td>7659</td>\n",
       "      <td>5066</td>\n",
       "      <td>2748</td>\n",
       "      <td>...</td>\n",
       "      <td>5</td>\n",
       "      <td>63</td>\n",
       "      <td>14</td>\n",
       "      <td>28</td>\n",
       "      <td>47</td>\n",
       "      <td>49</td>\n",
       "      <td>23</td>\n",
       "      <td>3</td>\n",
       "      <td>30</td>\n",
       "      <td>39</td>\n",
       "    </tr>\n",
       "    <tr>\n",
       "      <th>2</th>\n",
       "      <td>2</td>\n",
       "      <td>1</td>\n",
       "      <td>3604</td>\n",
       "      <td>1948</td>\n",
       "      <td>8581</td>\n",
       "      <td>4390</td>\n",
       "      <td>2869</td>\n",
       "      <td>3096</td>\n",
       "      <td>2301</td>\n",
       "      <td>5130</td>\n",
       "      <td>...</td>\n",
       "      <td>34</td>\n",
       "      <td>6</td>\n",
       "      <td>69</td>\n",
       "      <td>42</td>\n",
       "      <td>23</td>\n",
       "      <td>6</td>\n",
       "      <td>12</td>\n",
       "      <td>56</td>\n",
       "      <td>13</td>\n",
       "      <td>12</td>\n",
       "    </tr>\n",
       "    <tr>\n",
       "      <th>3</th>\n",
       "      <td>4</td>\n",
       "      <td>1</td>\n",
       "      <td>3675</td>\n",
       "      <td>4103</td>\n",
       "      <td>5154</td>\n",
       "      <td>3030</td>\n",
       "      <td>2076</td>\n",
       "      <td>3920</td>\n",
       "      <td>3494</td>\n",
       "      <td>3392</td>\n",
       "      <td>...</td>\n",
       "      <td>30</td>\n",
       "      <td>41</td>\n",
       "      <td>45</td>\n",
       "      <td>23</td>\n",
       "      <td>4</td>\n",
       "      <td>26</td>\n",
       "      <td>9</td>\n",
       "      <td>23</td>\n",
       "      <td>37</td>\n",
       "      <td>6</td>\n",
       "    </tr>\n",
       "    <tr>\n",
       "      <th>4</th>\n",
       "      <td>5</td>\n",
       "      <td>1</td>\n",
       "      <td>4252</td>\n",
       "      <td>2412</td>\n",
       "      <td>2545</td>\n",
       "      <td>4264</td>\n",
       "      <td>2544</td>\n",
       "      <td>4752</td>\n",
       "      <td>5389</td>\n",
       "      <td>4954</td>\n",
       "      <td>...</td>\n",
       "      <td>42</td>\n",
       "      <td>5</td>\n",
       "      <td>16</td>\n",
       "      <td>30</td>\n",
       "      <td>3</td>\n",
       "      <td>42</td>\n",
       "      <td>24</td>\n",
       "      <td>53</td>\n",
       "      <td>12</td>\n",
       "      <td>14</td>\n",
       "    </tr>\n",
       "    <tr>\n",
       "      <th>...</th>\n",
       "      <td>...</td>\n",
       "      <td>...</td>\n",
       "      <td>...</td>\n",
       "      <td>...</td>\n",
       "      <td>...</td>\n",
       "      <td>...</td>\n",
       "      <td>...</td>\n",
       "      <td>...</td>\n",
       "      <td>...</td>\n",
       "      <td>...</td>\n",
       "      <td>...</td>\n",
       "      <td>...</td>\n",
       "      <td>...</td>\n",
       "      <td>...</td>\n",
       "      <td>...</td>\n",
       "      <td>...</td>\n",
       "      <td>...</td>\n",
       "      <td>...</td>\n",
       "      <td>...</td>\n",
       "      <td>...</td>\n",
       "      <td>...</td>\n",
       "    </tr>\n",
       "    <tr>\n",
       "      <th>24969</th>\n",
       "      <td>49939</td>\n",
       "      <td>0</td>\n",
       "      <td>4262</td>\n",
       "      <td>7316</td>\n",
       "      <td>3996</td>\n",
       "      <td>3863</td>\n",
       "      <td>2199</td>\n",
       "      <td>5718</td>\n",
       "      <td>3876</td>\n",
       "      <td>4296</td>\n",
       "      <td>...</td>\n",
       "      <td>49</td>\n",
       "      <td>74</td>\n",
       "      <td>30</td>\n",
       "      <td>12</td>\n",
       "      <td>2</td>\n",
       "      <td>47</td>\n",
       "      <td>5</td>\n",
       "      <td>35</td>\n",
       "      <td>39</td>\n",
       "      <td>4</td>\n",
       "    </tr>\n",
       "    <tr>\n",
       "      <th>24970</th>\n",
       "      <td>49940</td>\n",
       "      <td>1</td>\n",
       "      <td>7250</td>\n",
       "      <td>3984</td>\n",
       "      <td>6380</td>\n",
       "      <td>2954</td>\n",
       "      <td>6243</td>\n",
       "      <td>3095</td>\n",
       "      <td>5105</td>\n",
       "      <td>1811</td>\n",
       "      <td>...</td>\n",
       "      <td>48</td>\n",
       "      <td>2</td>\n",
       "      <td>54</td>\n",
       "      <td>12</td>\n",
       "      <td>61</td>\n",
       "      <td>26</td>\n",
       "      <td>71</td>\n",
       "      <td>4</td>\n",
       "      <td>49</td>\n",
       "      <td>5</td>\n",
       "    </tr>\n",
       "    <tr>\n",
       "      <th>24971</th>\n",
       "      <td>49941</td>\n",
       "      <td>1</td>\n",
       "      <td>2873</td>\n",
       "      <td>4727</td>\n",
       "      <td>4655</td>\n",
       "      <td>4923</td>\n",
       "      <td>3645</td>\n",
       "      <td>5978</td>\n",
       "      <td>2801</td>\n",
       "      <td>3875</td>\n",
       "      <td>...</td>\n",
       "      <td>31</td>\n",
       "      <td>54</td>\n",
       "      <td>42</td>\n",
       "      <td>52</td>\n",
       "      <td>7</td>\n",
       "      <td>49</td>\n",
       "      <td>1</td>\n",
       "      <td>10</td>\n",
       "      <td>16</td>\n",
       "      <td>53</td>\n",
       "    </tr>\n",
       "    <tr>\n",
       "      <th>24972</th>\n",
       "      <td>49945</td>\n",
       "      <td>0</td>\n",
       "      <td>2325</td>\n",
       "      <td>1813</td>\n",
       "      <td>2530</td>\n",
       "      <td>4807</td>\n",
       "      <td>5542</td>\n",
       "      <td>2242</td>\n",
       "      <td>2359</td>\n",
       "      <td>5997</td>\n",
       "      <td>...</td>\n",
       "      <td>13</td>\n",
       "      <td>6</td>\n",
       "      <td>2</td>\n",
       "      <td>37</td>\n",
       "      <td>67</td>\n",
       "      <td>7</td>\n",
       "      <td>7</td>\n",
       "      <td>61</td>\n",
       "      <td>49</td>\n",
       "      <td>2</td>\n",
       "    </tr>\n",
       "    <tr>\n",
       "      <th>24973</th>\n",
       "      <td>49946</td>\n",
       "      <td>0</td>\n",
       "      <td>4134</td>\n",
       "      <td>3141</td>\n",
       "      <td>4086</td>\n",
       "      <td>4405</td>\n",
       "      <td>3517</td>\n",
       "      <td>2887</td>\n",
       "      <td>7450</td>\n",
       "      <td>3634</td>\n",
       "      <td>...</td>\n",
       "      <td>2</td>\n",
       "      <td>24</td>\n",
       "      <td>15</td>\n",
       "      <td>23</td>\n",
       "      <td>30</td>\n",
       "      <td>9</td>\n",
       "      <td>72</td>\n",
       "      <td>4</td>\n",
       "      <td>51</td>\n",
       "      <td>36</td>\n",
       "    </tr>\n",
       "  </tbody>\n",
       "</table>\n",
       "<p>24974 rows × 22 columns</p>\n",
       "</div>"
      ],
      "text/plain": [
       "         mid  radiant_won  gold_player_0  gold_player_1  gold_player_2  \\\n",
       "0          0            1           3454           5206           2613   \n",
       "1          1            0           2477           5760           3816   \n",
       "2          2            1           3604           1948           8581   \n",
       "3          4            1           3675           4103           5154   \n",
       "4          5            1           4252           2412           2545   \n",
       "...      ...          ...            ...            ...            ...   \n",
       "24969  49939            0           4262           7316           3996   \n",
       "24970  49940            1           7250           3984           6380   \n",
       "24971  49941            1           2873           4727           4655   \n",
       "24972  49945            0           2325           1813           2530   \n",
       "24973  49946            0           4134           3141           4086   \n",
       "\n",
       "       gold_player_3  gold_player_4  gold_player_5  gold_player_6  \\\n",
       "0               4426           5755           4072           3997   \n",
       "1               4353           5759           7659           5066   \n",
       "2               4390           2869           3096           2301   \n",
       "3               3030           2076           3920           3494   \n",
       "4               4264           2544           4752           5389   \n",
       "...              ...            ...            ...            ...   \n",
       "24969           3863           2199           5718           3876   \n",
       "24970           2954           6243           3095           5105   \n",
       "24971           4923           3645           5978           2801   \n",
       "24972           4807           5542           2242           2359   \n",
       "24973           4405           3517           2887           7450   \n",
       "\n",
       "       gold_player_7  ...  lh_player_0  lh_player_1  lh_player_2  lh_player_3  \\\n",
       "0               5917  ...            4           43            3           57   \n",
       "1               2748  ...            5           63           14           28   \n",
       "2               5130  ...           34            6           69           42   \n",
       "3               3392  ...           30           41           45           23   \n",
       "4               4954  ...           42            5           16           30   \n",
       "...              ...  ...          ...          ...          ...          ...   \n",
       "24969           4296  ...           49           74           30           12   \n",
       "24970           1811  ...           48            2           54           12   \n",
       "24971           3875  ...           31           54           42           52   \n",
       "24972           5997  ...           13            6            2           37   \n",
       "24973           3634  ...            2           24           15           23   \n",
       "\n",
       "       lh_player_4  lh_player_5  lh_player_6  lh_player_7  lh_player_8  \\\n",
       "0               41           34           35           75            2   \n",
       "1               47           49           23            3           30   \n",
       "2               23            6           12           56           13   \n",
       "3                4           26            9           23           37   \n",
       "4                3           42           24           53           12   \n",
       "...            ...          ...          ...          ...          ...   \n",
       "24969            2           47            5           35           39   \n",
       "24970           61           26           71            4           49   \n",
       "24971            7           49            1           10           16   \n",
       "24972           67            7            7           61           49   \n",
       "24973           30            9           72            4           51   \n",
       "\n",
       "       lh_player_9  \n",
       "0               46  \n",
       "1               39  \n",
       "2               12  \n",
       "3                6  \n",
       "4               14  \n",
       "...            ...  \n",
       "24969            4  \n",
       "24970            5  \n",
       "24971           53  \n",
       "24972            2  \n",
       "24973           36  \n",
       "\n",
       "[24974 rows x 22 columns]"
      ]
     },
     "execution_count": 3,
     "metadata": {},
     "output_type": "execute_result"
    }
   ],
   "source": [
    "train_data_gold_lh = train_data.merge(\n",
    "    gold_data[gold_data[\"times\"] == 600].add_prefix(\"gold_\"), left_on=\"mid\", right_on=\"gold_mid\", how=\"inner\")\n",
    "train_data_gold_lh = train_data_gold_lh.merge(\n",
    "    lh_data[lh_data[\"times\"] == 600].add_prefix(\"lh_\"), left_on=\"mid\", right_on=\"lh_mid\", how=\"inner\")\n",
    "train_data_gold_lh.drop([\"gold_mid\", \"lh_mid\", \"gold_times\", \"lh_times\"], axis=1, inplace=True)\n",
    "train_data_gold_lh"
   ]
  },
  {
   "cell_type": "markdown",
   "metadata": {},
   "source": [
    "**Задание 2** (1 балл)\n",
    "\n",
    "Постройте для команд radiant и dire различные агригаты по игрокам на 600 секунде. Опишите какие именно агригаты вы построили и почему."
   ]
  },
  {
   "cell_type": "markdown",
   "metadata": {},
   "source": [
    "Введем следующие агригаты:\n",
    "\n",
    "  1) Сумма золота всей команды -- чем больше золота, тем больше полезных предметов может купить команда\n",
    "  \n",
    "  2) Минимальное и максимальное кол-во золота -- в игре есть четкое дифференцирование по ролям, и одни игроки должны уступать свой \"заработок\" (добивания крипов, убийства, руны) другим, чтобы те становились сильнее и побеждали в сражениях\n",
    "  \n",
    "  3) Минимальное и максимальное кол-во добиваний -- аналогично золоту"
   ]
  },
  {
   "cell_type": "code",
   "execution_count": 4,
   "metadata": {},
   "outputs": [
    {
     "data": {
      "text/html": [
       "<div>\n",
       "<style scoped>\n",
       "    .dataframe tbody tr th:only-of-type {\n",
       "        vertical-align: middle;\n",
       "    }\n",
       "\n",
       "    .dataframe tbody tr th {\n",
       "        vertical-align: top;\n",
       "    }\n",
       "\n",
       "    .dataframe thead th {\n",
       "        text-align: right;\n",
       "    }\n",
       "</style>\n",
       "<table border=\"1\" class=\"dataframe\">\n",
       "  <thead>\n",
       "    <tr style=\"text-align: right;\">\n",
       "      <th></th>\n",
       "      <th>radiant_won</th>\n",
       "      <th>radiant_sum_gold</th>\n",
       "      <th>radiant_max_gold</th>\n",
       "      <th>radiant_min_gold</th>\n",
       "      <th>dire_sum_gold</th>\n",
       "      <th>dire_max_gold</th>\n",
       "      <th>dire_min_gold</th>\n",
       "      <th>radiant_max_lh</th>\n",
       "      <th>radiant_min_lh</th>\n",
       "      <th>dire_max_lh</th>\n",
       "      <th>dire_min_lh</th>\n",
       "    </tr>\n",
       "    <tr>\n",
       "      <th>mid</th>\n",
       "      <th></th>\n",
       "      <th></th>\n",
       "      <th></th>\n",
       "      <th></th>\n",
       "      <th></th>\n",
       "      <th></th>\n",
       "      <th></th>\n",
       "      <th></th>\n",
       "      <th></th>\n",
       "      <th></th>\n",
       "      <th></th>\n",
       "    </tr>\n",
       "  </thead>\n",
       "  <tbody>\n",
       "    <tr>\n",
       "      <th>0</th>\n",
       "      <td>1</td>\n",
       "      <td>21454</td>\n",
       "      <td>5755</td>\n",
       "      <td>2613</td>\n",
       "      <td>22095</td>\n",
       "      <td>6384</td>\n",
       "      <td>1725</td>\n",
       "      <td>57</td>\n",
       "      <td>3</td>\n",
       "      <td>75</td>\n",
       "      <td>2</td>\n",
       "    </tr>\n",
       "    <tr>\n",
       "      <th>1</th>\n",
       "      <td>0</td>\n",
       "      <td>22165</td>\n",
       "      <td>5760</td>\n",
       "      <td>2477</td>\n",
       "      <td>24536</td>\n",
       "      <td>7659</td>\n",
       "      <td>2748</td>\n",
       "      <td>63</td>\n",
       "      <td>5</td>\n",
       "      <td>49</td>\n",
       "      <td>3</td>\n",
       "    </tr>\n",
       "    <tr>\n",
       "      <th>2</th>\n",
       "      <td>1</td>\n",
       "      <td>21392</td>\n",
       "      <td>8581</td>\n",
       "      <td>1948</td>\n",
       "      <td>15548</td>\n",
       "      <td>5130</td>\n",
       "      <td>2301</td>\n",
       "      <td>69</td>\n",
       "      <td>6</td>\n",
       "      <td>56</td>\n",
       "      <td>6</td>\n",
       "    </tr>\n",
       "    <tr>\n",
       "      <th>4</th>\n",
       "      <td>1</td>\n",
       "      <td>18038</td>\n",
       "      <td>5154</td>\n",
       "      <td>2076</td>\n",
       "      <td>17484</td>\n",
       "      <td>4458</td>\n",
       "      <td>2220</td>\n",
       "      <td>45</td>\n",
       "      <td>4</td>\n",
       "      <td>37</td>\n",
       "      <td>6</td>\n",
       "    </tr>\n",
       "    <tr>\n",
       "      <th>5</th>\n",
       "      <td>1</td>\n",
       "      <td>16017</td>\n",
       "      <td>4264</td>\n",
       "      <td>2412</td>\n",
       "      <td>22041</td>\n",
       "      <td>5389</td>\n",
       "      <td>2992</td>\n",
       "      <td>42</td>\n",
       "      <td>3</td>\n",
       "      <td>53</td>\n",
       "      <td>12</td>\n",
       "    </tr>\n",
       "    <tr>\n",
       "      <th>...</th>\n",
       "      <td>...</td>\n",
       "      <td>...</td>\n",
       "      <td>...</td>\n",
       "      <td>...</td>\n",
       "      <td>...</td>\n",
       "      <td>...</td>\n",
       "      <td>...</td>\n",
       "      <td>...</td>\n",
       "      <td>...</td>\n",
       "      <td>...</td>\n",
       "      <td>...</td>\n",
       "    </tr>\n",
       "    <tr>\n",
       "      <th>49939</th>\n",
       "      <td>0</td>\n",
       "      <td>21636</td>\n",
       "      <td>7316</td>\n",
       "      <td>2199</td>\n",
       "      <td>20907</td>\n",
       "      <td>5718</td>\n",
       "      <td>2520</td>\n",
       "      <td>74</td>\n",
       "      <td>2</td>\n",
       "      <td>47</td>\n",
       "      <td>4</td>\n",
       "    </tr>\n",
       "    <tr>\n",
       "      <th>49940</th>\n",
       "      <td>1</td>\n",
       "      <td>26811</td>\n",
       "      <td>7250</td>\n",
       "      <td>2954</td>\n",
       "      <td>17305</td>\n",
       "      <td>5105</td>\n",
       "      <td>1811</td>\n",
       "      <td>61</td>\n",
       "      <td>2</td>\n",
       "      <td>71</td>\n",
       "      <td>4</td>\n",
       "    </tr>\n",
       "    <tr>\n",
       "      <th>49941</th>\n",
       "      <td>1</td>\n",
       "      <td>20823</td>\n",
       "      <td>4923</td>\n",
       "      <td>2873</td>\n",
       "      <td>22511</td>\n",
       "      <td>5978</td>\n",
       "      <td>2801</td>\n",
       "      <td>54</td>\n",
       "      <td>7</td>\n",
       "      <td>53</td>\n",
       "      <td>1</td>\n",
       "    </tr>\n",
       "    <tr>\n",
       "      <th>49945</th>\n",
       "      <td>0</td>\n",
       "      <td>17017</td>\n",
       "      <td>5542</td>\n",
       "      <td>1813</td>\n",
       "      <td>18165</td>\n",
       "      <td>5997</td>\n",
       "      <td>2044</td>\n",
       "      <td>67</td>\n",
       "      <td>2</td>\n",
       "      <td>61</td>\n",
       "      <td>2</td>\n",
       "    </tr>\n",
       "    <tr>\n",
       "      <th>49946</th>\n",
       "      <td>0</td>\n",
       "      <td>19283</td>\n",
       "      <td>4405</td>\n",
       "      <td>3141</td>\n",
       "      <td>24853</td>\n",
       "      <td>7450</td>\n",
       "      <td>2887</td>\n",
       "      <td>30</td>\n",
       "      <td>2</td>\n",
       "      <td>72</td>\n",
       "      <td>4</td>\n",
       "    </tr>\n",
       "  </tbody>\n",
       "</table>\n",
       "<p>24974 rows × 11 columns</p>\n",
       "</div>"
      ],
      "text/plain": [
       "       radiant_won  radiant_sum_gold  radiant_max_gold  radiant_min_gold  \\\n",
       "mid                                                                        \n",
       "0                1             21454              5755              2613   \n",
       "1                0             22165              5760              2477   \n",
       "2                1             21392              8581              1948   \n",
       "4                1             18038              5154              2076   \n",
       "5                1             16017              4264              2412   \n",
       "...            ...               ...               ...               ...   \n",
       "49939            0             21636              7316              2199   \n",
       "49940            1             26811              7250              2954   \n",
       "49941            1             20823              4923              2873   \n",
       "49945            0             17017              5542              1813   \n",
       "49946            0             19283              4405              3141   \n",
       "\n",
       "       dire_sum_gold  dire_max_gold  dire_min_gold  radiant_max_lh  \\\n",
       "mid                                                                  \n",
       "0              22095           6384           1725              57   \n",
       "1              24536           7659           2748              63   \n",
       "2              15548           5130           2301              69   \n",
       "4              17484           4458           2220              45   \n",
       "5              22041           5389           2992              42   \n",
       "...              ...            ...            ...             ...   \n",
       "49939          20907           5718           2520              74   \n",
       "49940          17305           5105           1811              61   \n",
       "49941          22511           5978           2801              54   \n",
       "49945          18165           5997           2044              67   \n",
       "49946          24853           7450           2887              30   \n",
       "\n",
       "       radiant_min_lh  dire_max_lh  dire_min_lh  \n",
       "mid                                              \n",
       "0                   3           75            2  \n",
       "1                   5           49            3  \n",
       "2                   6           56            6  \n",
       "4                   4           37            6  \n",
       "5                   3           53           12  \n",
       "...               ...          ...          ...  \n",
       "49939               2           47            4  \n",
       "49940               2           71            4  \n",
       "49941               7           53            1  \n",
       "49945               2           61            2  \n",
       "49946               2           72            4  \n",
       "\n",
       "[24974 rows x 11 columns]"
      ]
     },
     "execution_count": 4,
     "metadata": {},
     "output_type": "execute_result"
    }
   ],
   "source": [
    "train_agregate_data = train_data_gold_lh[[\"mid\", \"radiant_won\"]].copy()\n",
    "\n",
    "radiant_players_gold = [\"gold_player_\" + str(i) for i in range(0, 5)]\n",
    "radiant_players_lh = [\"lh_player_\" + str(i) for i in range(0, 5)]\n",
    "dire_players_gold = [\"gold_player_\" + str(i) for i in range(5, 10)]\n",
    "dire_players_lh = [\"lh_player_\" + str(i) for i in range(5, 10)]\n",
    "\n",
    "train_agregate_data.loc[:, \"radiant_sum_gold\"] = train_data_gold_lh[radiant_players_gold].sum(axis=1)\n",
    "train_agregate_data.loc[:, \"radiant_max_gold\"] = train_data_gold_lh[radiant_players_gold].max(axis=1)\n",
    "train_agregate_data.loc[:, \"radiant_min_gold\"] = train_data_gold_lh[radiant_players_gold].min(axis=1)\n",
    "\n",
    "train_agregate_data.loc[:, \"dire_sum_gold\"] = train_data_gold_lh[dire_players_gold].sum(axis=1)\n",
    "train_agregate_data.loc[:, \"dire_max_gold\"] = train_data_gold_lh[dire_players_gold].max(axis=1)\n",
    "train_agregate_data.loc[:, \"dire_min_gold\"] = train_data_gold_lh[dire_players_gold].min(axis=1)\n",
    "\n",
    "train_agregate_data.loc[:, \"radiant_max_lh\"] = train_data_gold_lh[radiant_players_lh].max(axis=1)\n",
    "train_agregate_data.loc[:, \"radiant_min_lh\"] = train_data_gold_lh[radiant_players_lh].min(axis=1)\n",
    "\n",
    "train_agregate_data.loc[:, \"dire_max_lh\"] = train_data_gold_lh[dire_players_lh].max(axis=1)\n",
    "train_agregate_data.loc[:, \"dire_min_lh\"] = train_data_gold_lh[dire_players_lh].min(axis=1)\n",
    "\n",
    "train_agregate_data.set_index('mid', inplace=True)\n",
    "train_agregate_data"
   ]
  },
  {
   "cell_type": "markdown",
   "metadata": {},
   "source": [
    "Сейчас и далее будем рассматривать следующие алгоритмы:\n",
    " - [Logistic Regression Classifier](https://scikit-learn.org/stable/modules/generated/sklearn.linear_model.LogisticRegression.html)\n",
    " - [C-Support Vector Classification](https://scikit-learn.org/stable/modules/generated/sklearn.svm.SVC.html)\n",
    " - [Multi-layer Perceptron Classifier](https://scikit-learn.org/stable/modules/generated/sklearn.neural_network.MLPClassifier.html)"
   ]
  },
  {
   "cell_type": "markdown",
   "metadata": {},
   "source": [
    "**Задание 3** (1.5 балла) \n",
    "\n",
    "Для каждого алгоритма выберете один гиперпараметр и подберите его оптимальное значение. Для подбора гиперпараметров воспользуйтесь перебором по сетке, который реализован в классе [GridSearchCV](http://scikit-learn.org/stable/modules/generated/sklearn.model_selection.GridSearchCV.html#sklearn.model_selection.GridSearchCV). В качестве схемы кросс-валидации используйте 5-Fold CV, которую можно задать с помощью класса [KFoldCV](http://scikit-learn.org/stable/modules/generated/sklearn.model_selection.KFold.html#sklearn.model_selection.KFold).\n",
    "\n",
    "Постройте график среднего значения качества по кросс-валидации алгоритма при заданном значении гиперпараметра, на котором также отобразите доверительный интервал. Для получения значения качества на каждом фолде, среднего значение качества и другой полезной информации можно воспользоваться полем [*cv results_*](http://scikit-learn.org/stable/modules/generated/sklearn.model_selection.GridSearchCV.html#sklearn.model_selection.GridSearchCV)\n",
    "\n",
    "У какого алгоритма наибольшее среднее значение качества? Наибольший доверительный интервал?"
   ]
  },
  {
   "cell_type": "code",
   "execution_count": 38,
   "metadata": {},
   "outputs": [
    {
     "data": {
      "image/png": "[encoded data removed]",
      "text/plain": [
       "<Figure size 432x288 with 1 Axes>"
      ]
     },
     "metadata": {
      "needs_background": "light"
     },
     "output_type": "display_data"
    }
   ],
   "source": [
    "fig = sns.scatterplot(x=train_agregate_data[\"radiant_max_lh\"], y=train_agregate_data[\"dire_max_lh\"], style=target)\n",
    "plt.show()"
   ]
  },
  {
   "cell_type": "code",
   "execution_count": 5,
   "metadata": {},
   "outputs": [],
   "source": [
    "from sklearn.linear_model import LogisticRegression, SGDClassifier\n",
    "from sklearn.svm import SVC\n",
    "from sklearn.neural_network import MLPClassifier\n",
    "from sklearn.model_selection import cross_val_score\n",
    "from sklearn.model_selection import GridSearchCV"
   ]
  },
  {
   "cell_type": "code",
   "execution_count": 6,
   "metadata": {},
   "outputs": [],
   "source": [
    "target = train_agregate_data.pop('radiant_won')"
   ]
  },
  {
   "cell_type": "code",
   "execution_count": 58,
   "metadata": {},
   "outputs": [],
   "source": [
    "params = {'C': [1e-7, 1, 10, 100, 1000, 1e7]}\n",
    "log_reg = LogisticRegression(max_iter=1000, solver='sag')\n",
    "log_reg_clf = GridSearchCV(log_reg, params, scoring='roc_auc', n_jobs=-1, cv=5, return_train_score=True)"
   ]
  },
  {
   "cell_type": "code",
   "execution_count": 59,
   "metadata": {},
   "outputs": [
    {
     "name": "stderr",
     "output_type": "stream",
     "text": [
      "/home/tronindmitr/DAS/SecondSemester/ML/ml_env/lib/python3.8/site-packages/sklearn/linear_model/_sag.py:328: ConvergenceWarning: The max_iter was reached which means the coef_ did not converge\n",
      "  warnings.warn(\"The max_iter was reached which means \"\n"
     ]
    },
    {
     "data": {
      "text/plain": [
       "GridSearchCV(cv=5, estimator=LogisticRegression(max_iter=1000, solver='sag'),\n",
       "             n_jobs=-1, param_grid={'C': [1e-07, 1, 10, 100, 1000, 10000000.0]},\n",
       "             return_train_score=True, scoring='roc_auc')"
      ]
     },
     "execution_count": 59,
     "metadata": {},
     "output_type": "execute_result"
    }
   ],
   "source": [
    "log_reg_clf.fit(train_agregate_data, target)"
   ]
  },
  {
   "cell_type": "code",
   "execution_count": 61,
   "metadata": {},
   "outputs": [
    {
     "data": {
      "text/plain": [
       "{'mean_fit_time': array([ 6.58043008, 14.74215112, 15.35028996, 17.25075107, 14.29480491,\n",
       "        10.09331751]),\n",
       " 'std_fit_time': array([1.59494001, 1.90521435, 2.19877582, 1.53817161, 2.07362579,\n",
       "        0.78524288]),\n",
       " 'mean_score_time': array([0.01918335, 0.01540656, 0.02661538, 0.01926117, 0.01490183,\n",
       "        0.00952086]),\n",
       " 'std_score_time': array([0.00457183, 0.00256956, 0.00593901, 0.00623541, 0.00271642,\n",
       "        0.00201669]),\n",
       " 'param_C': masked_array(data=[1e-07, 1, 10, 100, 1000, 10000000.0],\n",
       "              mask=[False, False, False, False, False, False],\n",
       "        fill_value='?',\n",
       "             dtype=object),\n",
       " 'params': [{'C': 1e-07},\n",
       "  {'C': 1},\n",
       "  {'C': 10},\n",
       "  {'C': 100},\n",
       "  {'C': 1000},\n",
       "  {'C': 10000000.0}],\n",
       " 'split0_test_score': array([0.71523603, 0.71511159, 0.71511127, 0.71511127, 0.71511079,\n",
       "        0.71511143]),\n",
       " 'split1_test_score': array([0.71118144, 0.71221275, 0.7122166 , 0.71221355, 0.71221516,\n",
       "        0.71221468]),\n",
       " 'split2_test_score': array([0.70711673, 0.70768128, 0.70768048, 0.70768176, 0.70768128,\n",
       "        0.7076808 ]),\n",
       " 'split3_test_score': array([0.7005456 , 0.70076574, 0.70076638, 0.70076557, 0.70076654,\n",
       "        0.70076606]),\n",
       " 'split4_test_score': array([0.70918578, 0.70967136, 0.7096712 , 0.70967136, 0.70967088,\n",
       "        0.70967088]),\n",
       " 'mean_test_score': array([0.70865312, 0.70908854, 0.70908918, 0.7090887 , 0.70908893,\n",
       "        0.70908877]),\n",
       " 'std_test_score': array([0.00486011, 0.0048503 , 0.00485054, 0.00485035, 0.00485012,\n",
       "        0.00485041]),\n",
       " 'rank_test_score': array([6, 5, 1, 4, 2, 3], dtype=int32),\n",
       " 'split0_train_score': array([0.70736148, 0.70810857, 0.70810869, 0.7081088 , 0.70810901,\n",
       "        0.70810895]),\n",
       " 'split1_train_score': array([0.70841152, 0.70887403, 0.7088734 , 0.70887368, 0.70887396,\n",
       "        0.70887398]),\n",
       " 'split2_train_score': array([0.70931975, 0.70986965, 0.70986999, 0.70987062, 0.70987002,\n",
       "        0.70987005]),\n",
       " 'split3_train_score': array([0.71109029, 0.71169671, 0.71169684, 0.71169654, 0.71169699,\n",
       "        0.71169669]),\n",
       " 'split4_train_score': array([0.7088845 , 0.70938653, 0.70938668, 0.70938689, 0.7093868 ,\n",
       "        0.70938689]),\n",
       " 'mean_train_score': array([0.70901351, 0.7095871 , 0.70958712, 0.70958731, 0.70958736,\n",
       "        0.70958731]),\n",
       " 'std_train_score': array([0.00122597, 0.00120541, 0.00120551, 0.00120537, 0.00120541,\n",
       "        0.00120532])}"
      ]
     },
     "execution_count": 61,
     "metadata": {},
     "output_type": "execute_result"
    }
   ],
   "source": [
    "log_reg_clf.cv_results_"
   ]
  },
  {
   "cell_type": "code",
   "execution_count": 9,
   "metadata": {},
   "outputs": [],
   "source": [
    "import seaborn as sns\n",
    "import matplotlib.pyplot as plt\n",
    "%matplotlib inline"
   ]
  },
  {
   "cell_type": "code",
   "execution_count": 62,
   "metadata": {},
   "outputs": [
    {
     "data": {
      "image/png": "[encoded data removed]",
      "text/plain": [
       "<Figure size 432x288 with 1 Axes>"
      ]
     },
     "metadata": {
      "needs_background": "light"
     },
     "output_type": "display_data"
    }
   ],
   "source": [
    "fig = sns.barplot(x=params['C'], y=log_reg_clf.cv_results_['mean_test_score'],\n",
    "            ci=log_reg_clf.cv_results_['std_test_score'], palette=\"tab10\")\n",
    "plt.xlabel(\"Значение параметра C\")\n",
    "plt.ylabel(\"AUR_ROC\")\n",
    "pass"
   ]
  },
  {
   "cell_type": "code",
   "execution_count": 77,
   "metadata": {},
   "outputs": [],
   "source": [
    "svc_parms = {'C': [1]}\n",
    "svc = SVC(kernel='linear', cache_size=1000)\n",
    "svc_clf = GridSearchCV(svc, params, scoring='roc_auc', n_jobs=-1, cv=5)"
   ]
  },
  {
   "cell_type": "code",
   "execution_count": 32,
   "metadata": {},
   "outputs": [
    {
     "ename": "NameError",
     "evalue": "name 'svc_clf' is not defined",
     "output_type": "error",
     "traceback": [
      "\u001b[0;31m---------------------------------------------------------------------------\u001b[0m",
      "\u001b[0;31mNameError\u001b[0m                                 Traceback (most recent call last)",
      "\u001b[0;32m<ipython-input-32-31bc3df4757f>\u001b[0m in \u001b[0;36m<module>\u001b[0;34m\u001b[0m\n\u001b[0;32m----> 1\u001b[0;31m \u001b[0msvc_clf\u001b[0m\u001b[0;34m.\u001b[0m\u001b[0mfit\u001b[0m\u001b[0;34m(\u001b[0m\u001b[0mtrain_agregate_data\u001b[0m\u001b[0;34m.\u001b[0m\u001b[0miloc\u001b[0m\u001b[0;34m[\u001b[0m\u001b[0;34m:\u001b[0m\u001b[0;36m1000\u001b[0m\u001b[0;34m]\u001b[0m\u001b[0;34m,\u001b[0m \u001b[0mtarget\u001b[0m\u001b[0;34m.\u001b[0m\u001b[0miloc\u001b[0m\u001b[0;34m[\u001b[0m\u001b[0;34m:\u001b[0m\u001b[0;36m1000\u001b[0m\u001b[0;34m]\u001b[0m\u001b[0;34m)\u001b[0m\u001b[0;34m\u001b[0m\u001b[0;34m\u001b[0m\u001b[0m\n\u001b[0m",
      "\u001b[0;31mNameError\u001b[0m: name 'svc_clf' is not defined"
     ]
    }
   ],
   "source": [
    "svc_clf.fit(train_agregate_data.iloc[:1000], target.iloc[:1000])"
   ]
  },
  {
   "cell_type": "code",
   "execution_count": 94,
   "metadata": {},
   "outputs": [
    {
     "ename": "AttributeError",
     "evalue": "'GridSearchCV' object has no attribute 'cv_results_'",
     "output_type": "error",
     "traceback": [
      "\u001b[0;31m---------------------------------------------------------------------------\u001b[0m",
      "\u001b[0;31mAttributeError\u001b[0m                            Traceback (most recent call last)",
      "\u001b[0;32m<ipython-input-94-79385aa2c4e8>\u001b[0m in \u001b[0;36m<module>\u001b[0;34m\u001b[0m\n\u001b[0;32m----> 1\u001b[0;31m \u001b[0msvc_clf\u001b[0m\u001b[0;34m.\u001b[0m\u001b[0mcv_results_\u001b[0m\u001b[0;34m\u001b[0m\u001b[0;34m\u001b[0m\u001b[0m\n\u001b[0m",
      "\u001b[0;31mAttributeError\u001b[0m: 'GridSearchCV' object has no attribute 'cv_results_'"
     ]
    }
   ],
   "source": [
    "svc_clf.cv_results_"
   ]
  },
  {
   "cell_type": "code",
   "execution_count": 21,
   "metadata": {},
   "outputs": [
    {
     "data": {
      "image/png": "[encoded data removed]",
      "text/plain": [
       "<Figure size 432x288 with 1 Axes>"
      ]
     },
     "metadata": {
      "needs_background": "light"
     },
     "output_type": "display_data"
    }
   ],
   "source": [
    "fig_svc = sns.barplot(x=params['C'], y=svc_clf.cv_results_['mean_test_score'],\n",
    "            ci=svc_clf.cv_results_['std_test_score'], palette=\"tab10\")\n",
    "plt.xlabel(\"Значение параметра C\")\n",
    "plt.ylabel(\"AUR_ROC\")\n",
    "pass"
   ]
  },
  {
   "cell_type": "code",
   "execution_count": 63,
   "metadata": {},
   "outputs": [],
   "source": [
    "perceptron = MLPClassifier(activation='logistic')\n",
    "mplr_clf = GridSearchCV(perceptron, {'hidden_layer_sizes': [35, 32, 30, 28, 25, 23, 20, 19, 17, 15, 13, 10, 8, 5, 2]}, scoring='roc_auc', n_jobs=-1, cv=5)"
   ]
  },
  {
   "cell_type": "code",
   "execution_count": 64,
   "metadata": {},
   "outputs": [
    {
     "data": {
      "text/plain": [
       "GridSearchCV(cv=5, estimator=MLPClassifier(activation='logistic'), n_jobs=-1,\n",
       "             param_grid={'hidden_layer_sizes': [35, 32, 30, 28, 25, 23, 20, 19,\n",
       "                                                17, 15, 13, 10, 8, 5, 2]},\n",
       "             scoring='roc_auc')"
      ]
     },
     "execution_count": 64,
     "metadata": {},
     "output_type": "execute_result"
    }
   ],
   "source": [
    "mplr_clf.fit(train_agregate_data, target)"
   ]
  },
  {
   "cell_type": "code",
   "execution_count": 65,
   "metadata": {},
   "outputs": [
    {
     "data": {
      "text/plain": [
       "{'mean_fit_time': array([12.41019959, 11.12844887, 12.19423776,  9.66268864,  9.52088861,\n",
       "         7.91034923,  6.65821962, 10.38372822,  7.70667462,  7.43340201,\n",
       "         8.00454311,  7.67011294,  5.00463896,  4.55549045,  5.68864398]),\n",
       " 'std_fit_time': array([3.39400907, 4.33066385, 5.05773447, 1.41343173, 2.00780354,\n",
       "        1.79059978, 2.67510258, 3.13467123, 3.40073283, 0.89303654,\n",
       "        3.08371249, 3.55667828, 2.15759416, 0.93876337, 2.08893291]),\n",
       " 'mean_score_time': array([0.06051936, 0.05342679, 0.04440212, 0.0409771 , 0.05528188,\n",
       "        0.03700652, 0.03590813, 0.04152784, 0.03529725, 0.03309298,\n",
       "        0.03662229, 0.02626309, 0.03036523, 0.02480736, 0.0186183 ]),\n",
       " 'std_score_time': array([0.01080361, 0.00934455, 0.00310985, 0.00329426, 0.01510882,\n",
       "        0.00715412, 0.00329007, 0.01036916, 0.00509911, 0.00372642,\n",
       "        0.00979403, 0.0033116 , 0.00667561, 0.00642913, 0.00585762]),\n",
       " 'param_hidden_layer_sizes': masked_array(data=[35, 32, 30, 28, 25, 23, 20, 19, 17, 15, 13, 10, 8, 5,\n",
       "                    2],\n",
       "              mask=[False, False, False, False, False, False, False, False,\n",
       "                    False, False, False, False, False, False, False],\n",
       "        fill_value='?',\n",
       "             dtype=object),\n",
       " 'params': [{'hidden_layer_sizes': 35},\n",
       "  {'hidden_layer_sizes': 32},\n",
       "  {'hidden_layer_sizes': 30},\n",
       "  {'hidden_layer_sizes': 28},\n",
       "  {'hidden_layer_sizes': 25},\n",
       "  {'hidden_layer_sizes': 23},\n",
       "  {'hidden_layer_sizes': 20},\n",
       "  {'hidden_layer_sizes': 19},\n",
       "  {'hidden_layer_sizes': 17},\n",
       "  {'hidden_layer_sizes': 15},\n",
       "  {'hidden_layer_sizes': 13},\n",
       "  {'hidden_layer_sizes': 10},\n",
       "  {'hidden_layer_sizes': 8},\n",
       "  {'hidden_layer_sizes': 5},\n",
       "  {'hidden_layer_sizes': 2}],\n",
       " 'split0_test_score': array([0.62377898, 0.68709634, 0.66744557, 0.65744629, 0.65815992,\n",
       "        0.69611769, 0.65525698, 0.6821307 , 0.68794862, 0.64863664,\n",
       "        0.67621813, 0.64457025, 0.67502697, 0.5       , 0.5       ]),\n",
       " 'split1_test_score': array([0.68641932, 0.67092309, 0.68726895, 0.67469099, 0.67024037,\n",
       "        0.67845737, 0.68137203, 0.69630387, 0.68781037, 0.68440085,\n",
       "        0.49939082, 0.50064033, 0.49884393, 0.62890888, 0.65235493]),\n",
       " 'split2_test_score': array([0.69752995, 0.68629295, 0.67744348, 0.67619493, 0.67328235,\n",
       "        0.61254785, 0.67928067, 0.68555989, 0.6754096 , 0.64184827,\n",
       "        0.67443224, 0.65514435, 0.63099141, 0.50252906, 0.61569051]),\n",
       " 'split3_test_score': array([0.65439009, 0.67084819, 0.68246074, 0.61902473, 0.66575594,\n",
       "        0.66024318, 0.56381029, 0.6105676 , 0.68177585, 0.67527641,\n",
       "        0.646818  , 0.66408068, 0.57043521, 0.58878276, 0.5       ]),\n",
       " 'split4_test_score': array([0.69239913, 0.65620727, 0.67138557, 0.67205297, 0.68959683,\n",
       "        0.67536647, 0.43652644, 0.67076924, 0.69221184, 0.68494065,\n",
       "        0.65315753, 0.64642259, 0.5       , 0.499375  , 0.64016769]),\n",
       " 'mean_test_score': array([0.67090349, 0.67427357, 0.67720086, 0.65988198, 0.67140708,\n",
       "        0.66454651, 0.60324928, 0.66906626, 0.68503126, 0.66702056,\n",
       "        0.63000334, 0.62217164, 0.57505951, 0.54391914, 0.58164263]),\n",
       " 'std_test_score': array([0.02794703, 0.01147379, 0.00718436, 0.0214886 , 0.01042274,\n",
       "        0.02838909, 0.09374505, 0.03036314, 0.00584755, 0.01823719,\n",
       "        0.06631473, 0.06116082, 0.07012275, 0.05452011, 0.06769891]),\n",
       " 'rank_test_score': array([ 5,  3,  2,  9,  4,  8, 12,  6,  1,  7, 10, 11, 14, 15, 13],\n",
       "       dtype=int32)}"
      ]
     },
     "execution_count": 65,
     "metadata": {},
     "output_type": "execute_result"
    }
   ],
   "source": [
    "mplr_clf.cv_results_"
   ]
  },
  {
   "cell_type": "code",
   "execution_count": 68,
   "metadata": {},
   "outputs": [
    {
     "data": {
      "image/png": "[encoded data removed]",
      "text/plain": [
       "<Figure size 432x288 with 1 Axes>"
      ]
     },
     "metadata": {
      "needs_background": "light"
     },
     "output_type": "display_data"
    }
   ],
   "source": [
    "fig_mlp = sns.barplot(x=[35, 32, 30, 28, 25, 23, 20, 19, 17, 15, 13, 10, 8, 5, 2],\n",
    "                      y=mplr_clf.cv_results_['mean_test_score'],\n",
    "            ci=mplr_clf.cv_results_['std_test_score'], palette=\"tab10\")\n",
    "plt.xlabel(\"Количество элементов\")\n",
    "plt.ylabel(\"AUR_ROC\")\n",
    "pass"
   ]
  },
  {
   "cell_type": "markdown",
   "metadata": {},
   "source": [
    "При обучении алгоритмов стоит обращать внимание не только на их качество, но и каким образом они работают с данными. В этой задаче получилось так, что некоторые из используемых алгоритмов чувствительны к масштабу признаков. Чтобы убедиться, что это могло повлиять на качество, давайте посмотрим на значения самих признаков."
   ]
  },
  {
   "cell_type": "markdown",
   "metadata": {},
   "source": [
    "**Задание 4** (1 балл) \n",
    "\n",
    "Посмотрите на значения признаков по gold и lh. В чем заключается особенность данных? На какие из рассматриваемых алгоритмов это может повлиять? Может ли масштабирование повлиять на работу этих алгоритмов?"
   ]
  },
  {
   "cell_type": "markdown",
   "metadata": {},
   "source": [
    "Для анализа возьмем одну колонку какого-нибудь игрока в данных о золоте и добиваниях. Расмотрим стандартные характеристики среднее значение и диспресия (так как у нас много данных, то по одной колонке мы может говорить о харакетере всего датасета)."
   ]
  },
  {
   "cell_type": "code",
   "execution_count": 45,
   "metadata": {},
   "outputs": [
    {
     "name": "stdout",
     "output_type": "stream",
     "text": [
      "count    499480.000000\n",
      "mean       2152.879521\n",
      "std        1431.458854\n",
      "min         168.000000\n",
      "25%        1010.000000\n",
      "50%        1876.000000\n",
      "75%        3006.000000\n",
      "max       15046.000000\n",
      "Name: player_0, dtype: float64\n",
      "--------------------\n",
      "count    499480.000000\n",
      "mean         14.600811\n",
      "std          14.283622\n",
      "min           1.000000\n",
      "25%           3.000000\n",
      "50%           9.000000\n",
      "75%          23.000000\n",
      "max         113.000000\n",
      "Name: player_0, dtype: float64\n"
     ]
    }
   ],
   "source": [
    "print(gold_data[\"player_0\"].describe())\n",
    "print('-' * 20)\n",
    "print(lh_data[\"player_0\"].describe())"
   ]
  },
  {
   "cell_type": "markdown",
   "metadata": {},
   "source": [
    "Мы видим, что данные очень отличаются и по среднему и по дисперсии."
   ]
  },
  {
   "cell_type": "code",
   "execution_count": 50,
   "metadata": {},
   "outputs": [
    {
     "name": "stdout",
     "output_type": "stream",
     "text": [
      "count    24974.000000\n",
      "mean     20089.322535\n",
      "std       2614.068298\n",
      "min      11247.000000\n",
      "25%      18316.250000\n",
      "50%      19929.000000\n",
      "75%      21666.000000\n",
      "max      47074.000000\n",
      "Name: radiant_sum_gold, dtype: float64\n",
      "--------------------\n",
      "count    24974.000000\n",
      "mean        51.800753\n",
      "std         13.038086\n",
      "min         13.000000\n",
      "25%         42.000000\n",
      "50%         51.000000\n",
      "75%         60.000000\n",
      "max        131.000000\n",
      "Name: radiant_max_lh, dtype: float64\n"
     ]
    }
   ],
   "source": [
    "print(train_agregate_data[\"radiant_sum_gold\"].describe())\n",
    "print('-' * 20)\n",
    "print(train_agregate_data[\"radiant_max_lh\"].describe())"
   ]
  },
  {
   "cell_type": "markdown",
   "metadata": {},
   "source": [
    "Еще сильнее данные разнятся на наших агрегатных признаках."
   ]
  },
  {
   "cell_type": "markdown",
   "metadata": {},
   "source": [
    "Масштабирование признаков можно выполнить, например, одним из следующих способов:\n",
    " - $x_{new} = \\dfrac{x - \\mu}{\\sigma}$, где $\\mu, \\sigma$ — среднее и стандартное отклонение значения признака по всей выборке (см. функцию [scale](http://scikit-learn.org/stable/modules/generated/sklearn.preprocessing.scale.html))\n",
    " - $x_{new} = \\dfrac{x - x_{min}}{x_{max} - x_{min}}$, где $[x_{min}, x_{max}]$ — минимальный интервал значений признака\n",
    "\n",
    "Похожие схемы масштабирования приведены в классах [StandardScaler](http://scikit-learn.org/stable/modules/generated/sklearn.preprocessing.StandardScaler.html#sklearn.preprocessing.StandardScaler) и [MinMaxScaler](http://scikit-learn.org/stable/modules/generated/sklearn.preprocessing.MinMaxScaler.html#sklearn.preprocessing.MinMaxScaler).\n",
    " "
   ]
  },
  {
   "cell_type": "markdown",
   "metadata": {},
   "source": [
    "**Задание 5** (1 балл) \n",
    "\n",
    "Отмасштабируйте все вещественные признаки одним из указанных выше способов и подберите оптимальные значения гиперпараметров аналогично пункту выше.\n",
    "\n",
    "Изменилось ли качество алгоритмов и почему?"
   ]
  },
  {
   "cell_type": "code",
   "execution_count": 21,
   "metadata": {},
   "outputs": [],
   "source": [
    "from sklearn.preprocessing import scale"
   ]
  },
  {
   "cell_type": "code",
   "execution_count": 28,
   "metadata": {},
   "outputs": [],
   "source": [
    "log_reg_scaled = LogisticRegression(max_iter=100000, solver='sag')\n",
    "log_reg_clf_scaled = GridSearchCV(log_reg, params, scoring='roc_auc', n_jobs=-1, cv=5)"
   ]
  },
  {
   "cell_type": "code",
   "execution_count": 29,
   "metadata": {},
   "outputs": [
    {
     "data": {
      "text/plain": [
       "GridSearchCV(cv=5, estimator=LogisticRegression(max_iter=100000, solver='sag'),\n",
       "             n_jobs=-1,\n",
       "             param_grid={'C': [1e-07, 0.001, 0.01, 0.1, 1, 10, 100, 1000, 10000,\n",
       "                               10000000.0]},\n",
       "             scoring='roc_auc')"
      ]
     },
     "execution_count": 29,
     "metadata": {},
     "output_type": "execute_result"
    }
   ],
   "source": [
    "log_reg_clf_scaled.fit(scale(train_agregate_data), target)"
   ]
  },
  {
   "cell_type": "code",
   "execution_count": 36,
   "metadata": {},
   "outputs": [
    {
     "data": {
      "text/plain": [
       "{'mean_fit_time': array([0.13894982, 0.17357883, 0.19663353, 0.24474511, 0.27017288,\n",
       "        0.26537328, 0.25986915, 0.26332798, 0.27457237, 0.25019512]),\n",
       " 'std_fit_time': array([0.01454534, 0.01994645, 0.01173359, 0.02270463, 0.01851253,\n",
       "        0.01763643, 0.00704724, 0.01382939, 0.01881793, 0.02658398]),\n",
       " 'mean_score_time': array([0.0075491 , 0.0087903 , 0.0076273 , 0.0069952 , 0.00784059,\n",
       "        0.00734501, 0.00752187, 0.00747089, 0.00753865, 0.00603113]),\n",
       " 'std_score_time': array([0.00067711, 0.00195738, 0.00080374, 0.00066435, 0.00148112,\n",
       "        0.00106759, 0.00127242, 0.00101348, 0.00067362, 0.00066557]),\n",
       " 'param_C': masked_array(data=[1e-07, 0.001, 0.01, 0.1, 1, 10, 100, 1000, 10000,\n",
       "                    10000000.0],\n",
       "              mask=[False, False, False, False, False, False, False, False,\n",
       "                    False, False],\n",
       "        fill_value='?',\n",
       "             dtype=object),\n",
       " 'params': [{'C': 1e-07},\n",
       "  {'C': 0.001},\n",
       "  {'C': 0.01},\n",
       "  {'C': 0.1},\n",
       "  {'C': 1},\n",
       "  {'C': 10},\n",
       "  {'C': 100},\n",
       "  {'C': 1000},\n",
       "  {'C': 10000},\n",
       "  {'C': 10000000.0}],\n",
       " 'split0_test_score': array([0.70764017, 0.71326252, 0.71515206, 0.7153518 , 0.71538696,\n",
       "        0.71539066, 0.71539098, 0.7153876 , 0.71538696, 0.71538825]),\n",
       " 'split1_test_score': array([0.70941169, 0.71217084, 0.71317807, 0.71320344, 0.71319926,\n",
       "        0.7131975 , 0.71319589, 0.71319509, 0.71319573, 0.71319573]),\n",
       " 'split2_test_score': array([0.70214258, 0.70605459, 0.70815302, 0.70833574, 0.70836015,\n",
       "        0.70835902, 0.70835918, 0.7083579 , 0.70835838, 0.70835983]),\n",
       " 'split3_test_score': array([0.69673748, 0.70132113, 0.7022203 , 0.70209409, 0.70207996,\n",
       "        0.70207755, 0.70207691, 0.70207466, 0.70207595, 0.70207803]),\n",
       " 'split4_test_score': array([0.70493302, 0.70961642, 0.7109387 , 0.71093887, 0.71092971,\n",
       "        0.71092907, 0.71092826, 0.71092794, 0.71092778, 0.7109281 ]),\n",
       " 'mean_test_score': array([0.70417299, 0.7084851 , 0.70992843, 0.70998479, 0.70999121,\n",
       "        0.70999076, 0.70999024, 0.70998864, 0.70998896, 0.70998999]),\n",
       " 'std_test_score': array([0.00445987, 0.00435702, 0.0045041 , 0.00458382, 0.00459423,\n",
       "        0.00459573, 0.00459576, 0.00459571, 0.00459517, 0.00459466]),\n",
       " 'rank_test_score': array([10,  9,  8,  7,  1,  2,  3,  6,  5,  4], dtype=int32)}"
      ]
     },
     "execution_count": 36,
     "metadata": {},
     "output_type": "execute_result"
    }
   ],
   "source": [
    "log_reg_clf_scaled.cv_results_"
   ]
  },
  {
   "cell_type": "code",
   "execution_count": 35,
   "metadata": {},
   "outputs": [
    {
     "data": {
      "image/png": "[encoded data removed]",
      "text/plain": [
       "<Figure size 432x288 with 1 Axes>"
      ]
     },
     "metadata": {
      "needs_background": "light"
     },
     "output_type": "display_data"
    }
   ],
   "source": [
    "fig = sns.barplot(x=params['C'], y=log_reg_clf.cv_results_['mean_test_score'],\n",
    "            ci=log_reg_clf.cv_results_['std_test_score'], palette=\"tab10\")\n",
    "plt.xlabel(\"Значение параметра C\")\n",
    "plt.ylabel(\"AUR_ROC\")\n",
    "pass"
   ]
  },
  {
   "cell_type": "markdown",
   "metadata": {},
   "source": [
    "**Задание 6** (1.5 балла) \n",
    "\n",
    "Теперь сделайте перебор нескольких гиперпараметров по сетке и найдите оптимальные комбинации (лучшее среднее значение качества) для каждого алгоритма. Какие гиперпараметры вы настраивали? Удалось ли улучшить качество алгоритмов?"
   ]
  },
  {
   "cell_type": "code",
   "execution_count": null,
   "metadata": {},
   "outputs": [],
   "source": []
  },
  {
   "cell_type": "markdown",
   "metadata": {},
   "source": [
    "### Добавление категориальных признаков в модели"
   ]
  },
  {
   "cell_type": "markdown",
   "metadata": {},
   "source": [
    "**Задание 7** (1 балл) \n",
    "\n",
    "Постройте для разных алгоритмов графики [кривых обучения](http://scikit-learn.org/stable/modules/generated/sklearn.model_selection.learning_curve.html), изображающие зависимость качества на тестовой и обучающей выборках от количества объектов, на которых обучаются модели. Посмотрите на поведение кривых и ответьте на вопросы:\n",
    "* Может ли с ростом числа объектов убывать качество на тестовой выборке? А на обучающей? Почему?\n",
    "* Для каких целей можно использовать знание качества на обучающей части выборки?\n",
    "* Какой из алгоритмов лучше обучается на меньшем числе объектов?\n",
    "* Может ли добавление новых объектов значительно повысить качество какого-то из алгоритмов или при существующем наборе данных для всех алгоритмов произошло насыщение?"
   ]
  },
  {
   "cell_type": "code",
   "execution_count": null,
   "metadata": {},
   "outputs": [],
   "source": []
  },
  {
   "cell_type": "markdown",
   "metadata": {},
   "source": [
    "После выполнения данного блока вы получите решение, которое можно отправить в соревнование на [kaggle](https://www.kaggle.com/t/f2f20fc510f042dfa9751a03c6108805). \n",
    "\n",
    "Будьте внимательными, для части матчей из test.csv отсутствуют некоторые данные, для этих матчей все равно требуется что-то предсказать."
   ]
  },
  {
   "cell_type": "code",
   "execution_count": null,
   "metadata": {},
   "outputs": [],
   "source": []
  },
  {
   "cell_type": "markdown",
   "metadata": {},
   "source": [
    " "
   ]
  },
  {
   "cell_type": "markdown",
   "metadata": {},
   "source": [
    "Пока мы не использовали нечисловые признаки, которые есть в датасете. Давайте посмотрим, правильно ли мы сделали и увеличится ли качество моделей после добавлениях этих признаков. \n",
    "\n",
    "**Задание 8** (1 балл) \n",
    "\n",
    "Преобразуйте все категориальные признаки с помощью метода one-hot-encoding (например, это можно сделать с помощью функции [pandas.get_dummies](http://pandas.pydata.org/pandas-docs/stable/generated/pandas.get_dummies.html) или [DictVectorizer](http://scikit-learn.org/stable/modules/generated/sklearn.feature_extraction.DictVectorizer.html) / [OneHotEncoder](http://scikit-learn.org/stable/modules/generated/sklearn.preprocessing.OneHotEncoder.html) из sklearn). Это задание предлагается делать с использованием *heroes.csv*. Представьте каждую из команд в виде one-hot-encoded вектора с пятью единицами и остальными нулями."
   ]
  },
  {
   "cell_type": "code",
   "execution_count": null,
   "metadata": {},
   "outputs": [],
   "source": []
  },
  {
   "cell_type": "markdown",
   "metadata": {},
   "source": [
    "После кодирования признаков получилось достаточно много и правильно будет заново подобрать оптимальные гиперпараметры для моделей. \n",
    "\n",
    "**Задание 9** (1 балл)\n",
    "\n",
    "Добавьте к масштабированным вещественным признакам закодированные категориальные и подберите гиперпараметры заново. Дало ли добавление новых признаков прирост качества? Измеряйте качество, как и раньше, используя 5-Fold CV. Для этого удобно воспользоваться функцией [cross_val_score](http://scikit-learn.org/stable/modules/generated/sklearn.cross_validation.cross_val_score.html#sklearn.cross_validation.cross_val_score).\n",
    "\n",
    "Отличается ли теперь наилучший классификатор от наилучшего в предыдущем пункте?\n",
    "\n",
    "One-hot encoding значительно увеличил количество входных данных. \n",
    "\n",
    "Как изменилось количество параметров у моделей? Наблюдается ли переобучение?"
   ]
  },
  {
   "cell_type": "code",
   "execution_count": null,
   "metadata": {},
   "outputs": [],
   "source": []
  },
  {
   "cell_type": "markdown",
   "metadata": {},
   "source": [
    "### Смешивание моделей (blending)\n",
    "\n",
    "Часто на практике оказывается возможным увеличить качество предсказания путем смешивания разных моделей. Давайте посмотрим, действительно ли такой подход дает прирост в качестве.\n",
    "\n",
    "Выберите из построенных моделей двух предыдущих пунктов две, которые дали наибольшее начество на кросс-валидации (обозначим их $clf_1$ и $clf_2$). Далее постройте новый классификатор, ответ которого на некотором объекте $x$ будет выглядеть следующим образом:\n",
    "\n",
    "$$result(x) = clf_1(x) * \\alpha + clf_2(x) * (1 - \\alpha)$$\n",
    "\n",
    "где $\\alpha$ — гиперпараметр нового классификатора."
   ]
  },
  {
   "cell_type": "markdown",
   "metadata": {},
   "source": [
    "**Задание 10** (2 балла)\n",
    "\n",
    "При реализации своих моделей хорошей практикой является создание sklearn-совместимых классов. Во-первых, такая реализация будет иметь стандартный интерфейс и позволит другим людям безболезненно обучать реализованные вами модели. Во-вторых, появляется возможность использовать любой функционал пакета sklearn, принимающий на вход модель.\n",
    "\n",
    "Создайте классификатор, который инициализируется двумя произвольными классификаторами и параметром $\\alpha$. Во время обучения такой классификатор должен обучать обе базовые модели, а на этапе предсказания замешивать предсказания базовых моделей по формуле, указанной выше. \n",
    "\n",
    "Для создания пользовательского классификатора необходимо отнаследоваться от базовых классов *[BaseEstimator](http://scikit-learn.org/stable/modules/generated/sklearn.base.BaseEstimator.html), [ClassifierMixin](http://scikit-learn.org/stable/modules/generated/sklearn.base.ClassifierMixin.html)* и реализовать методы *\\_\\_init\\_\\_, fit, predict и predict_proba*. Пример sklearn-совместимого классификатора с комментариями можно найти [здесь](http://scikit-learn.org/stable/developers/contributing.html#rolling-your-own-estimator) "
   ]
  },
  {
   "cell_type": "code",
   "execution_count": null,
   "metadata": {},
   "outputs": [],
   "source": []
  },
  {
   "cell_type": "markdown",
   "metadata": {},
   "source": [
    "**Задание 11** (1 балл)\n",
    "\n",
    "Подберите по сетке от 0 до 1 значение $\\alpha$ для этого классификатора. Если класс реализован правильно, то вы cможете использовать *GridSearchCV*, как в случае с обычными классификаторами.\n",
    "\n",
    "Изобразите на графике среднее качество по фолдам и доверительный интервал в зависимости от $\\alpha$.\n",
    "\n",
    "Дал ли этот подход прирост к качеству по сравнению с моделями, обученными по-отдельности? Поясните, почему даже простой блендинг моделей может влять на итоговое качество?"
   ]
  },
  {
   "cell_type": "code",
   "execution_count": null,
   "metadata": {
    "jupyter": {
     "outputs_hidden": true
    }
   },
   "outputs": [],
   "source": []
  },
  {
   "cell_type": "markdown",
   "metadata": {},
   "source": [
    "### Сравнение построенных моделей\n",
    "\n",
    "![](http://cdn.shopify.com/s/files/1/0870/1066/files/compare_e8b89647-3cb6-4871-a976-2e36e5987773.png?1750043340268621065)\n",
    "\n",
    "После того как было построено много моделей, правильным продолжением является сравнение их между собой.  Воспользуйтесь диаграммой размаха (\"ящик с усами\") для сравнения алгоритмов между собой. Эту диаграмму можно построить при помощи [boxplot](https://matplotlib.org/3.1.0/api/_as_gen/matplotlib.pyplot.boxplot.html) из matplotlib либо через [обертку](https://pandas.pydata.org/pandas-docs/stable/reference/api/pandas.DataFrame.boxplot.html) над ней из pandas."
   ]
  },
  {
   "cell_type": "markdown",
   "metadata": {},
   "source": [
    "**Задание 12** (2 балла) \n",
    "\n",
    "Для каждого типа классификатора, а так же смешанной модели, выберите тот, которых давал наилучшее качество на кросс-валидации и постройте диаграмму размаха. Все классификаторы должны быть изображены на одном графике.\n",
    " \n",
    "Сделайте общие итоговые выводы о классификаторах с точки зрения их работы с признаками и сложности самой модели (какие гиперпараметры есть у модели, сильно ли изменение значения гиперпараметра влияет на качество модели)."
   ]
  },
  {
   "cell_type": "code",
   "execution_count": null,
   "metadata": {},
   "outputs": [],
   "source": []
  },
  {
   "cell_type": "markdown",
   "metadata": {},
   "source": [
    "Не забудьте продолжить участвовать в соревнование, воспользовавшись всеми полученными наработками."
   ]
  }
 ],
 "metadata": {
  "kernelspec": {
   "display_name": "Python 3",
   "language": "python",
   "name": "python3"
  },
  "language_info": {
   "codemirror_mode": {
    "name": "ipython",
    "version": 3
   },
   "file_extension": ".py",
   "mimetype": "text/x-python",
   "name": "python",
   "nbconvert_exporter": "python",
   "pygments_lexer": "ipython3",
   "version": "3.8.5"
  }
 },
 "nbformat": 4,
 "nbformat_minor": 4
}
