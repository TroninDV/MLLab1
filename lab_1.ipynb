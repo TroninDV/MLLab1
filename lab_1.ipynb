{
 "cells": [
  {
   "cell_type": "markdown",
   "metadata": {},
   "source": [
    "## Лабораторная работа 1. Введение в машинное обучение.\n",
    "\n",
    "![](https://newapplift-production.s3.amazonaws.com/comfy/cms/files/files/000/001/201/original/machine-learning-robots-dilbert.gif)\n",
    "\n",
    "Результат лабораторной работы − отчет. Мы предпочитаем принимать отчеты в формате ноутбуков Jupyter (ipynb-файл). Постарайтесь сделать ваш отчет интересным рассказом, последовательно отвечающим на вопросы из заданий. Помимо ответов на вопросы, в отчете так же должен быть код, однако чем меньше кода, тем лучше всем: нам − меньше проверять, вам —  проще найти ошибку или дополнить эксперимент. При проверке оценивается четкость ответов на вопросы, аккуратность отчета и кода.\n",
    "\n",
    "\n",
    "### Оценивание и штрафы\n",
    "\n",
    "* Каждая из задач имеет определенную «стоимость» (указана в скобках около задачи)\n",
    "* Максимально допустимая оценка за работу — 15 баллов\n",
    "* Сдавать задание после указанного срока сдачи нельзя\n",
    "* «Похожие» решения считаются плагиатом и все задействованные студенты (в том числе те, у кого списали) не могут получить за него больше 0 баллов и понижают карму (подробнее о плагиате см. на странице курса)\n",
    "* Если вы нашли решение какого-то из заданий в открытом источнике, необходимо прислать ссылку на этот источник (скорее всего вы будете не единственным, кто это нашел, поэтому чтобы исключить подозрение в плагиате, необходима ссылка на источник)\n",
    "* Не оцениваются задания с удалёнными формулировкам\n",
    "* Не оценивается лабораторная работа целиком, если она была выложена в открытый источник"
   ]
  },
  {
   "cell_type": "markdown",
   "metadata": {},
   "source": [
    "### Метрика качества\n",
    "\n",
    "Обучение и оценка качества модели производится на независимых множествах примеров. Как правило, имеющующиеся примеры разбивают на два подмножества: обучающее (train) и тестовое (test). Выбор пропорции разбиения — компромисс. Действительно, большой размер обучения ведет к более качественным алгоритмам, но бОльшему шуму при оценке модели на тесте. И наоборот, большой размер тестовой выборки ведет к менее шумной оценке качества, однако обученные модели получаются менее точными.\n",
    "\n",
    "Многие модели классификации предсказывают оценку принадлежности положительному классу $\\tilde{y}(x) \\in R$ (например, вероятность принадлежности классу 1). После этого принимают решение о классе объекта путем сравнения оценки с некоторым порогом $\\theta$:\n",
    "\n",
    "$$y(x) = \n",
    "\\begin{cases}\n",
    "+1, &\\text{если} \\; \\tilde{y}(x) \\geq \\theta \\\\\n",
    "-1, &\\text{если} \\; \\tilde{y}(x) < \\theta\n",
    "\\end{cases}\n",
    "$$\n",
    "\n",
    "В этом случае можно рассматривать метрики, которые умеют работать с исходным ответом классификатора. В задании мы будем работать с метрикой AUC-ROC, которую в данном случае можно считать как долю неправильно упорядоченных пар объектов, отсортированных по возрастанию предсказанной оценки принадлежности классу 1 (более подробно можно узнать на следующих лекциях или, например, [здесь](https://github.com/esokolov/ml-course-msu/blob/master/ML15/lecture-notes/Sem05_metrics.pdf)). Детального понимания принципов работы метрики AUC-ROC для выполнения этой лабораторной не требуется."
   ]
  },
  {
   "cell_type": "markdown",
   "metadata": {},
   "source": [
    "### Подбор гиперпараметров модели\n",
    "\n",
    "В задачах машинного обучения следует различать параметры модели и гиперпараметры (структурные параметры). Обычно параметры модели настраиваются в ходе обучения (например, веса в линейной модели), в то время как гиперпараметры задаются заранее (например, значение силы регуляризации в линейной модели). Каждая модель, как правило, имеет множество гиперпараметров и нет универсальных наборов гиперпараметров, оптимально работающих во всех задачах, поэтому для каждой задачи нужно подбирать свой набор.\n",
    "\n",
    "Для оптимизации гиперпараметров модели часто используют _перебор по сетке (grid search)_: для каждого гиперпараметра выбирается несколько значений, далее перебираются все комбинации значений и выбирается комбинация, на которой модель показывает лучшее качество (с точки зрения оптимизируемой метрики). Однако, в этом случае нужно грамотно оценивать построенную модель, а именно делать разбиение на обучающую и тестовую выборку.\n",
    "\n",
    "В этом случае сравнение большого числа моделей при переборе гиперпараметров приводит к ситуации, когда лучшая на тестовой подвыборке модель не сохраняет свои качества на новых данных. Можно сказать, что происходит _переобучение_ на тестовую выборку.\n",
    "\n",
    "Для устранения описанной выше проблемы, **можно разбить данные на 3 непересекающихся подвыборки: обучение, валидация и тест**. Валидационную подвыборку используют для сравнения моделей, а тестовую — для окончательной оценки качества и сравнения семейств моделей с подобранными гиперпараметрами.\n",
    "\n",
    "**Другой способ сравнения моделей — [кросс-валидация](http://bit.ly/1CHXsNH)**. \n",
    "\n",
    "Существуют различные **схемы кросс-валидации**:\n",
    "  - Leave-One-Out\n",
    "  - K-Fold\n",
    "  - Многократное случайное разбиение выборки\n",
    "  \n",
    "Кросс-валидация вычислительно затратна, особенно если вы делаете перебор по сетке с очень большим числом комбинации. С учетом конечности времени на выполнение задания, возникает ряд компромиссов: \n",
    "  - сетку гиперпараметров можно делать более разреженной, перебирая меньше значений каждого гиперпараметра; однако, не стоит забывать, что в таком случае можно пропустить хорошую комбинацию гиперпараметров;\n",
    "  - кросс-валидацию можно делать с меньшим числом разбиений или фолдов, но в таком случае оценка качества становится более шумной и увеличивается риск выбрать неоптимальный набор гиперпараметров из-за случайности разбиения;\n",
    "  - гиперпараметры можно оптимизировать последовательно (жадно) — один за другим, а не перебирать все комбинации; такая стратегия не всегда приводит к оптимальному набору;\n",
    "  - перебирать не все комбинации гиперпараметров, а небольшое число случайно выбранных."
   ]
  },
  {
   "cell_type": "markdown",
   "metadata": {},
   "source": [
    "В этой лабораторной работе мы научимся обучать модели машинного обучения, корректно ставить эксперименты, подбирать гиперпараметры, сравнивать и смешивать модели. Вам предлагается решить задачу бинарной классификации, а именно построить алгоритм, предсказывающий победу команды в компьютерной игре Dota2.\n",
    " \n",
    "Более подробно про данные можно почитать на странице первого конкурсного [соревнования](https://www.kaggle.com/t/f2f20fc510f042dfa9751a03c6108805). Целевой признак записан в переменной radiant_win. "
   ]
  },
  {
   "cell_type": "markdown",
   "metadata": {},
   "source": [
    "### Обучение классификаторов на вещественных признаках"
   ]
  },
  {
   "cell_type": "markdown",
   "metadata": {},
   "source": [
    "Загрузите набор данных *train.csv*, *gold.csv* и *lh.csv*. Чтобы лучше понимать, с чем вы работаете/корректно ли вы загрузили данные можно вывести несколько первых строк на экран."
   ]
  },
  {
   "cell_type": "code",
   "execution_count": 2,
   "metadata": {},
   "outputs": [],
   "source": [
    "import pandas as pd\n",
    "import numpy as np"
   ]
  },
  {
   "cell_type": "code",
   "execution_count": 3,
   "metadata": {},
   "outputs": [],
   "source": [
    "lh_data = pd.read_csv(\"lh.csv\", na_values=\"-1\")\n",
    "gold_data = pd.read_csv(\"gold.csv\", na_values=\"-1\")\n",
    "train_data = pd.read_csv(\"train.csv\", na_values=\"-1\")"
   ]
  },
  {
   "cell_type": "code",
   "execution_count": 6,
   "metadata": {},
   "outputs": [
    {
     "data": {
      "text/html": [
       "<div>\n",
       "<style scoped>\n",
       "    .dataframe tbody tr th:only-of-type {\n",
       "        vertical-align: middle;\n",
       "    }\n",
       "\n",
       "    .dataframe tbody tr th {\n",
       "        vertical-align: top;\n",
       "    }\n",
       "\n",
       "    .dataframe thead th {\n",
       "        text-align: right;\n",
       "    }\n",
       "</style>\n",
       "<table border=\"1\" class=\"dataframe\">\n",
       "  <thead>\n",
       "    <tr style=\"text-align: right;\">\n",
       "      <th></th>\n",
       "      <th>mid</th>\n",
       "      <th>times</th>\n",
       "      <th>player_0</th>\n",
       "      <th>player_1</th>\n",
       "      <th>player_2</th>\n",
       "      <th>player_3</th>\n",
       "      <th>player_4</th>\n",
       "      <th>player_5</th>\n",
       "      <th>player_6</th>\n",
       "      <th>player_7</th>\n",
       "      <th>player_8</th>\n",
       "      <th>player_9</th>\n",
       "    </tr>\n",
       "  </thead>\n",
       "  <tbody>\n",
       "    <tr>\n",
       "      <th>0</th>\n",
       "      <td>0</td>\n",
       "      <td>60</td>\n",
       "      <td>1</td>\n",
       "      <td>2</td>\n",
       "      <td>1</td>\n",
       "      <td>1</td>\n",
       "      <td>2</td>\n",
       "      <td>3</td>\n",
       "      <td>2</td>\n",
       "      <td>7</td>\n",
       "      <td>1</td>\n",
       "      <td>2</td>\n",
       "    </tr>\n",
       "    <tr>\n",
       "      <th>1</th>\n",
       "      <td>0</td>\n",
       "      <td>120</td>\n",
       "      <td>1</td>\n",
       "      <td>5</td>\n",
       "      <td>1</td>\n",
       "      <td>2</td>\n",
       "      <td>6</td>\n",
       "      <td>5</td>\n",
       "      <td>6</td>\n",
       "      <td>14</td>\n",
       "      <td>1</td>\n",
       "      <td>6</td>\n",
       "    </tr>\n",
       "    <tr>\n",
       "      <th>2</th>\n",
       "      <td>0</td>\n",
       "      <td>180</td>\n",
       "      <td>2</td>\n",
       "      <td>10</td>\n",
       "      <td>1</td>\n",
       "      <td>7</td>\n",
       "      <td>8</td>\n",
       "      <td>9</td>\n",
       "      <td>9</td>\n",
       "      <td>18</td>\n",
       "      <td>1</td>\n",
       "      <td>9</td>\n",
       "    </tr>\n",
       "    <tr>\n",
       "      <th>3</th>\n",
       "      <td>0</td>\n",
       "      <td>240</td>\n",
       "      <td>2</td>\n",
       "      <td>13</td>\n",
       "      <td>1</td>\n",
       "      <td>13</td>\n",
       "      <td>12</td>\n",
       "      <td>9</td>\n",
       "      <td>12</td>\n",
       "      <td>29</td>\n",
       "      <td>1</td>\n",
       "      <td>10</td>\n",
       "    </tr>\n",
       "    <tr>\n",
       "      <th>4</th>\n",
       "      <td>0</td>\n",
       "      <td>300</td>\n",
       "      <td>2</td>\n",
       "      <td>15</td>\n",
       "      <td>1</td>\n",
       "      <td>17</td>\n",
       "      <td>19</td>\n",
       "      <td>13</td>\n",
       "      <td>13</td>\n",
       "      <td>36</td>\n",
       "      <td>1</td>\n",
       "      <td>19</td>\n",
       "    </tr>\n",
       "  </tbody>\n",
       "</table>\n",
       "</div>"
      ],
      "text/plain": [
       "   mid  times  player_0  player_1  player_2  player_3  player_4  player_5  \\\n",
       "0    0     60         1         2         1         1         2         3   \n",
       "1    0    120         1         5         1         2         6         5   \n",
       "2    0    180         2        10         1         7         8         9   \n",
       "3    0    240         2        13         1        13        12         9   \n",
       "4    0    300         2        15         1        17        19        13   \n",
       "\n",
       "   player_6  player_7  player_8  player_9  \n",
       "0         2         7         1         2  \n",
       "1         6        14         1         6  \n",
       "2         9        18         1         9  \n",
       "3        12        29         1        10  \n",
       "4        13        36         1        19  "
      ]
     },
     "execution_count": 6,
     "metadata": {},
     "output_type": "execute_result"
    }
   ],
   "source": [
    "lh_data.head()"
   ]
  },
  {
   "cell_type": "code",
   "execution_count": 5,
   "metadata": {},
   "outputs": [
    {
     "data": {
      "text/html": [
       "<div>\n",
       "<style scoped>\n",
       "    .dataframe tbody tr th:only-of-type {\n",
       "        vertical-align: middle;\n",
       "    }\n",
       "\n",
       "    .dataframe tbody tr th {\n",
       "        vertical-align: top;\n",
       "    }\n",
       "\n",
       "    .dataframe thead th {\n",
       "        text-align: right;\n",
       "    }\n",
       "</style>\n",
       "<table border=\"1\" class=\"dataframe\">\n",
       "  <thead>\n",
       "    <tr style=\"text-align: right;\">\n",
       "      <th></th>\n",
       "      <th>mid</th>\n",
       "      <th>times</th>\n",
       "      <th>player_0</th>\n",
       "      <th>player_1</th>\n",
       "      <th>player_2</th>\n",
       "      <th>player_3</th>\n",
       "      <th>player_4</th>\n",
       "      <th>player_5</th>\n",
       "      <th>player_6</th>\n",
       "      <th>player_7</th>\n",
       "      <th>player_8</th>\n",
       "      <th>player_9</th>\n",
       "    </tr>\n",
       "  </thead>\n",
       "  <tbody>\n",
       "    <tr>\n",
       "      <th>0</th>\n",
       "      <td>0</td>\n",
       "      <td>60</td>\n",
       "      <td>750</td>\n",
       "      <td>350</td>\n",
       "      <td>389</td>\n",
       "      <td>437</td>\n",
       "      <td>428</td>\n",
       "      <td>398</td>\n",
       "      <td>344</td>\n",
       "      <td>654</td>\n",
       "      <td>287</td>\n",
       "      <td>1056</td>\n",
       "    </tr>\n",
       "    <tr>\n",
       "      <th>1</th>\n",
       "      <td>0</td>\n",
       "      <td>120</td>\n",
       "      <td>957</td>\n",
       "      <td>1071</td>\n",
       "      <td>633</td>\n",
       "      <td>655</td>\n",
       "      <td>1080</td>\n",
       "      <td>669</td>\n",
       "      <td>1147</td>\n",
       "      <td>1164</td>\n",
       "      <td>438</td>\n",
       "      <td>1360</td>\n",
       "    </tr>\n",
       "    <tr>\n",
       "      <th>2</th>\n",
       "      <td>0</td>\n",
       "      <td>180</td>\n",
       "      <td>1161</td>\n",
       "      <td>1527</td>\n",
       "      <td>782</td>\n",
       "      <td>1103</td>\n",
       "      <td>1346</td>\n",
       "      <td>1058</td>\n",
       "      <td>1479</td>\n",
       "      <td>1574</td>\n",
       "      <td>587</td>\n",
       "      <td>2072</td>\n",
       "    </tr>\n",
       "    <tr>\n",
       "      <th>3</th>\n",
       "      <td>0</td>\n",
       "      <td>240</td>\n",
       "      <td>1571</td>\n",
       "      <td>2033</td>\n",
       "      <td>932</td>\n",
       "      <td>1515</td>\n",
       "      <td>2058</td>\n",
       "      <td>1760</td>\n",
       "      <td>1767</td>\n",
       "      <td>2387</td>\n",
       "      <td>737</td>\n",
       "      <td>2283</td>\n",
       "    </tr>\n",
       "    <tr>\n",
       "      <th>4</th>\n",
       "      <td>0</td>\n",
       "      <td>300</td>\n",
       "      <td>1721</td>\n",
       "      <td>2313</td>\n",
       "      <td>1082</td>\n",
       "      <td>1790</td>\n",
       "      <td>2699</td>\n",
       "      <td>2087</td>\n",
       "      <td>1986</td>\n",
       "      <td>2898</td>\n",
       "      <td>887</td>\n",
       "      <td>3302</td>\n",
       "    </tr>\n",
       "  </tbody>\n",
       "</table>\n",
       "</div>"
      ],
      "text/plain": [
       "   mid  times  player_0  player_1  player_2  player_3  player_4  player_5  \\\n",
       "0    0     60       750       350       389       437       428       398   \n",
       "1    0    120       957      1071       633       655      1080       669   \n",
       "2    0    180      1161      1527       782      1103      1346      1058   \n",
       "3    0    240      1571      2033       932      1515      2058      1760   \n",
       "4    0    300      1721      2313      1082      1790      2699      2087   \n",
       "\n",
       "   player_6  player_7  player_8  player_9  \n",
       "0       344       654       287      1056  \n",
       "1      1147      1164       438      1360  \n",
       "2      1479      1574       587      2072  \n",
       "3      1767      2387       737      2283  \n",
       "4      1986      2898       887      3302  "
      ]
     },
     "execution_count": 5,
     "metadata": {},
     "output_type": "execute_result"
    }
   ],
   "source": [
    "gold_data.head()"
   ]
  },
  {
   "cell_type": "code",
   "execution_count": 6,
   "metadata": {},
   "outputs": [
    {
     "data": {
      "text/html": [
       "<div>\n",
       "<style scoped>\n",
       "    .dataframe tbody tr th:only-of-type {\n",
       "        vertical-align: middle;\n",
       "    }\n",
       "\n",
       "    .dataframe tbody tr th {\n",
       "        vertical-align: top;\n",
       "    }\n",
       "\n",
       "    .dataframe thead th {\n",
       "        text-align: right;\n",
       "    }\n",
       "</style>\n",
       "<table border=\"1\" class=\"dataframe\">\n",
       "  <thead>\n",
       "    <tr style=\"text-align: right;\">\n",
       "      <th></th>\n",
       "      <th>mid</th>\n",
       "      <th>radiant_won</th>\n",
       "    </tr>\n",
       "  </thead>\n",
       "  <tbody>\n",
       "    <tr>\n",
       "      <th>0</th>\n",
       "      <td>0</td>\n",
       "      <td>1</td>\n",
       "    </tr>\n",
       "    <tr>\n",
       "      <th>1</th>\n",
       "      <td>1</td>\n",
       "      <td>0</td>\n",
       "    </tr>\n",
       "    <tr>\n",
       "      <th>2</th>\n",
       "      <td>2</td>\n",
       "      <td>1</td>\n",
       "    </tr>\n",
       "    <tr>\n",
       "      <th>3</th>\n",
       "      <td>4</td>\n",
       "      <td>1</td>\n",
       "    </tr>\n",
       "    <tr>\n",
       "      <th>4</th>\n",
       "      <td>5</td>\n",
       "      <td>1</td>\n",
       "    </tr>\n",
       "  </tbody>\n",
       "</table>\n",
       "</div>"
      ],
      "text/plain": [
       "   mid  radiant_won\n",
       "0    0            1\n",
       "1    1            0\n",
       "2    2            1\n",
       "3    4            1\n",
       "4    5            1"
      ]
     },
     "execution_count": 6,
     "metadata": {},
     "output_type": "execute_result"
    }
   ],
   "source": [
    "train_data.head()"
   ]
  },
  {
   "cell_type": "markdown",
   "metadata": {},
   "source": [
    "Иногда в данных встречаются пропуски. Способ обозначения пропусков либо прописывается в описании к данным, либо на месте пропуска после чтения данных оказывается значение [NaN](https://docs.scipy.org/doc/numpy-1.13.0/user/misc.html). Более подробно о работе с пропусками в Pandas можно прочитать например [здесь](http://pandas.pydata.org/pandas-docs/stable/missing_data.html). \n",
    "\n",
    "В данном датасете пропущенные значения обозначены как \"-1\". \n",
    "\n",
    "**Задание 1** (1 балл) \n",
    "\n",
    "Проанализируйте датасет и найдите все признаки, имеющие пропущенные значения (опишите свои наблюдения). \n",
    "\n",
    "Предобработайте текущий датасет так, что бы в нём не осталось пропусков (обоснуйте свой выбор метода предобработки)."
   ]
  },
  {
   "cell_type": "code",
   "execution_count": 7,
   "metadata": {},
   "outputs": [
    {
     "data": {
      "text/plain": [
       "mid            0.0\n",
       "radiant_won    0.0\n",
       "dtype: float64"
      ]
     },
     "execution_count": 7,
     "metadata": {},
     "output_type": "execute_result"
    }
   ],
   "source": [
    "train_data.isna().sum() / len(train_data)"
   ]
  },
  {
   "cell_type": "code",
   "execution_count": 8,
   "metadata": {},
   "outputs": [
    {
     "data": {
      "text/plain": [
       "mid         0.0\n",
       "times       0.0\n",
       "player_0    0.0\n",
       "player_1    0.0\n",
       "player_2    0.0\n",
       "player_3    0.0\n",
       "player_4    0.0\n",
       "player_5    0.0\n",
       "player_6    0.0\n",
       "player_7    0.0\n",
       "player_8    0.0\n",
       "player_9    0.0\n",
       "dtype: float64"
      ]
     },
     "execution_count": 8,
     "metadata": {},
     "output_type": "execute_result"
    }
   ],
   "source": [
    "lh_data.isna().sum() / len(lh_data)"
   ]
  },
  {
   "cell_type": "code",
   "execution_count": 9,
   "metadata": {},
   "outputs": [
    {
     "data": {
      "text/plain": [
       "mid         0.0\n",
       "times       0.0\n",
       "player_0    0.0\n",
       "player_1    0.0\n",
       "player_2    0.0\n",
       "player_3    0.0\n",
       "player_4    0.0\n",
       "player_5    0.0\n",
       "player_6    0.0\n",
       "player_7    0.0\n",
       "player_8    0.0\n",
       "player_9    0.0\n",
       "dtype: float64"
      ]
     },
     "execution_count": 9,
     "metadata": {},
     "output_type": "execute_result"
    }
   ],
   "source": [
    "gold_data.isna().sum() / len(gold_data)"
   ]
  },
  {
   "cell_type": "markdown",
   "metadata": {},
   "source": [
    "*Вывод*: в данных отсутствуют пропущенные значения"
   ]
  },
  {
   "cell_type": "markdown",
   "metadata": {},
   "source": [
    "В начале мы будем работать только с вещественными признаками. \n",
    "\n",
    "Возьмите из *gold.csv* и *lh.csv* данные по 600 секунде для каждого матча и подклейте их к *train.csv* (см. [булево индексирование](https://pandas.pydata.org/pandas-docs/stable/user_guide/indexing.html#boolean-indexing) и [join](https://pandas.pydata.org/pandas-docs/stable/reference/api/pandas.DataFrame.join.html?highlight=join#pandas.DataFrame.join))."
   ]
  },
  {
   "cell_type": "code",
   "execution_count": 4,
   "metadata": {},
   "outputs": [
    {
     "data": {
      "text/html": [
       "<div>\n",
       "<style scoped>\n",
       "    .dataframe tbody tr th:only-of-type {\n",
       "        vertical-align: middle;\n",
       "    }\n",
       "\n",
       "    .dataframe tbody tr th {\n",
       "        vertical-align: top;\n",
       "    }\n",
       "\n",
       "    .dataframe thead th {\n",
       "        text-align: right;\n",
       "    }\n",
       "</style>\n",
       "<table border=\"1\" class=\"dataframe\">\n",
       "  <thead>\n",
       "    <tr style=\"text-align: right;\">\n",
       "      <th></th>\n",
       "      <th>mid</th>\n",
       "      <th>radiant_won</th>\n",
       "      <th>gold_player_0</th>\n",
       "      <th>gold_player_1</th>\n",
       "      <th>gold_player_2</th>\n",
       "      <th>gold_player_3</th>\n",
       "      <th>gold_player_4</th>\n",
       "      <th>gold_player_5</th>\n",
       "      <th>gold_player_6</th>\n",
       "      <th>gold_player_7</th>\n",
       "      <th>...</th>\n",
       "      <th>lh_player_0</th>\n",
       "      <th>lh_player_1</th>\n",
       "      <th>lh_player_2</th>\n",
       "      <th>lh_player_3</th>\n",
       "      <th>lh_player_4</th>\n",
       "      <th>lh_player_5</th>\n",
       "      <th>lh_player_6</th>\n",
       "      <th>lh_player_7</th>\n",
       "      <th>lh_player_8</th>\n",
       "      <th>lh_player_9</th>\n",
       "    </tr>\n",
       "  </thead>\n",
       "  <tbody>\n",
       "    <tr>\n",
       "      <th>0</th>\n",
       "      <td>0</td>\n",
       "      <td>1</td>\n",
       "      <td>3454</td>\n",
       "      <td>5206</td>\n",
       "      <td>2613</td>\n",
       "      <td>4426</td>\n",
       "      <td>5755</td>\n",
       "      <td>4072</td>\n",
       "      <td>3997</td>\n",
       "      <td>5917</td>\n",
       "      <td>...</td>\n",
       "      <td>4</td>\n",
       "      <td>43</td>\n",
       "      <td>3</td>\n",
       "      <td>57</td>\n",
       "      <td>41</td>\n",
       "      <td>34</td>\n",
       "      <td>35</td>\n",
       "      <td>75</td>\n",
       "      <td>2</td>\n",
       "      <td>46</td>\n",
       "    </tr>\n",
       "    <tr>\n",
       "      <th>1</th>\n",
       "      <td>1</td>\n",
       "      <td>0</td>\n",
       "      <td>2477</td>\n",
       "      <td>5760</td>\n",
       "      <td>3816</td>\n",
       "      <td>4353</td>\n",
       "      <td>5759</td>\n",
       "      <td>7659</td>\n",
       "      <td>5066</td>\n",
       "      <td>2748</td>\n",
       "      <td>...</td>\n",
       "      <td>5</td>\n",
       "      <td>63</td>\n",
       "      <td>14</td>\n",
       "      <td>28</td>\n",
       "      <td>47</td>\n",
       "      <td>49</td>\n",
       "      <td>23</td>\n",
       "      <td>3</td>\n",
       "      <td>30</td>\n",
       "      <td>39</td>\n",
       "    </tr>\n",
       "    <tr>\n",
       "      <th>2</th>\n",
       "      <td>2</td>\n",
       "      <td>1</td>\n",
       "      <td>3604</td>\n",
       "      <td>1948</td>\n",
       "      <td>8581</td>\n",
       "      <td>4390</td>\n",
       "      <td>2869</td>\n",
       "      <td>3096</td>\n",
       "      <td>2301</td>\n",
       "      <td>5130</td>\n",
       "      <td>...</td>\n",
       "      <td>34</td>\n",
       "      <td>6</td>\n",
       "      <td>69</td>\n",
       "      <td>42</td>\n",
       "      <td>23</td>\n",
       "      <td>6</td>\n",
       "      <td>12</td>\n",
       "      <td>56</td>\n",
       "      <td>13</td>\n",
       "      <td>12</td>\n",
       "    </tr>\n",
       "    <tr>\n",
       "      <th>3</th>\n",
       "      <td>4</td>\n",
       "      <td>1</td>\n",
       "      <td>3675</td>\n",
       "      <td>4103</td>\n",
       "      <td>5154</td>\n",
       "      <td>3030</td>\n",
       "      <td>2076</td>\n",
       "      <td>3920</td>\n",
       "      <td>3494</td>\n",
       "      <td>3392</td>\n",
       "      <td>...</td>\n",
       "      <td>30</td>\n",
       "      <td>41</td>\n",
       "      <td>45</td>\n",
       "      <td>23</td>\n",
       "      <td>4</td>\n",
       "      <td>26</td>\n",
       "      <td>9</td>\n",
       "      <td>23</td>\n",
       "      <td>37</td>\n",
       "      <td>6</td>\n",
       "    </tr>\n",
       "    <tr>\n",
       "      <th>4</th>\n",
       "      <td>5</td>\n",
       "      <td>1</td>\n",
       "      <td>4252</td>\n",
       "      <td>2412</td>\n",
       "      <td>2545</td>\n",
       "      <td>4264</td>\n",
       "      <td>2544</td>\n",
       "      <td>4752</td>\n",
       "      <td>5389</td>\n",
       "      <td>4954</td>\n",
       "      <td>...</td>\n",
       "      <td>42</td>\n",
       "      <td>5</td>\n",
       "      <td>16</td>\n",
       "      <td>30</td>\n",
       "      <td>3</td>\n",
       "      <td>42</td>\n",
       "      <td>24</td>\n",
       "      <td>53</td>\n",
       "      <td>12</td>\n",
       "      <td>14</td>\n",
       "    </tr>\n",
       "    <tr>\n",
       "      <th>...</th>\n",
       "      <td>...</td>\n",
       "      <td>...</td>\n",
       "      <td>...</td>\n",
       "      <td>...</td>\n",
       "      <td>...</td>\n",
       "      <td>...</td>\n",
       "      <td>...</td>\n",
       "      <td>...</td>\n",
       "      <td>...</td>\n",
       "      <td>...</td>\n",
       "      <td>...</td>\n",
       "      <td>...</td>\n",
       "      <td>...</td>\n",
       "      <td>...</td>\n",
       "      <td>...</td>\n",
       "      <td>...</td>\n",
       "      <td>...</td>\n",
       "      <td>...</td>\n",
       "      <td>...</td>\n",
       "      <td>...</td>\n",
       "      <td>...</td>\n",
       "    </tr>\n",
       "    <tr>\n",
       "      <th>24969</th>\n",
       "      <td>49939</td>\n",
       "      <td>0</td>\n",
       "      <td>4262</td>\n",
       "      <td>7316</td>\n",
       "      <td>3996</td>\n",
       "      <td>3863</td>\n",
       "      <td>2199</td>\n",
       "      <td>5718</td>\n",
       "      <td>3876</td>\n",
       "      <td>4296</td>\n",
       "      <td>...</td>\n",
       "      <td>49</td>\n",
       "      <td>74</td>\n",
       "      <td>30</td>\n",
       "      <td>12</td>\n",
       "      <td>2</td>\n",
       "      <td>47</td>\n",
       "      <td>5</td>\n",
       "      <td>35</td>\n",
       "      <td>39</td>\n",
       "      <td>4</td>\n",
       "    </tr>\n",
       "    <tr>\n",
       "      <th>24970</th>\n",
       "      <td>49940</td>\n",
       "      <td>1</td>\n",
       "      <td>7250</td>\n",
       "      <td>3984</td>\n",
       "      <td>6380</td>\n",
       "      <td>2954</td>\n",
       "      <td>6243</td>\n",
       "      <td>3095</td>\n",
       "      <td>5105</td>\n",
       "      <td>1811</td>\n",
       "      <td>...</td>\n",
       "      <td>48</td>\n",
       "      <td>2</td>\n",
       "      <td>54</td>\n",
       "      <td>12</td>\n",
       "      <td>61</td>\n",
       "      <td>26</td>\n",
       "      <td>71</td>\n",
       "      <td>4</td>\n",
       "      <td>49</td>\n",
       "      <td>5</td>\n",
       "    </tr>\n",
       "    <tr>\n",
       "      <th>24971</th>\n",
       "      <td>49941</td>\n",
       "      <td>1</td>\n",
       "      <td>2873</td>\n",
       "      <td>4727</td>\n",
       "      <td>4655</td>\n",
       "      <td>4923</td>\n",
       "      <td>3645</td>\n",
       "      <td>5978</td>\n",
       "      <td>2801</td>\n",
       "      <td>3875</td>\n",
       "      <td>...</td>\n",
       "      <td>31</td>\n",
       "      <td>54</td>\n",
       "      <td>42</td>\n",
       "      <td>52</td>\n",
       "      <td>7</td>\n",
       "      <td>49</td>\n",
       "      <td>1</td>\n",
       "      <td>10</td>\n",
       "      <td>16</td>\n",
       "      <td>53</td>\n",
       "    </tr>\n",
       "    <tr>\n",
       "      <th>24972</th>\n",
       "      <td>49945</td>\n",
       "      <td>0</td>\n",
       "      <td>2325</td>\n",
       "      <td>1813</td>\n",
       "      <td>2530</td>\n",
       "      <td>4807</td>\n",
       "      <td>5542</td>\n",
       "      <td>2242</td>\n",
       "      <td>2359</td>\n",
       "      <td>5997</td>\n",
       "      <td>...</td>\n",
       "      <td>13</td>\n",
       "      <td>6</td>\n",
       "      <td>2</td>\n",
       "      <td>37</td>\n",
       "      <td>67</td>\n",
       "      <td>7</td>\n",
       "      <td>7</td>\n",
       "      <td>61</td>\n",
       "      <td>49</td>\n",
       "      <td>2</td>\n",
       "    </tr>\n",
       "    <tr>\n",
       "      <th>24973</th>\n",
       "      <td>49946</td>\n",
       "      <td>0</td>\n",
       "      <td>4134</td>\n",
       "      <td>3141</td>\n",
       "      <td>4086</td>\n",
       "      <td>4405</td>\n",
       "      <td>3517</td>\n",
       "      <td>2887</td>\n",
       "      <td>7450</td>\n",
       "      <td>3634</td>\n",
       "      <td>...</td>\n",
       "      <td>2</td>\n",
       "      <td>24</td>\n",
       "      <td>15</td>\n",
       "      <td>23</td>\n",
       "      <td>30</td>\n",
       "      <td>9</td>\n",
       "      <td>72</td>\n",
       "      <td>4</td>\n",
       "      <td>51</td>\n",
       "      <td>36</td>\n",
       "    </tr>\n",
       "  </tbody>\n",
       "</table>\n",
       "<p>24974 rows × 22 columns</p>\n",
       "</div>"
      ],
      "text/plain": [
       "         mid  radiant_won  gold_player_0  gold_player_1  gold_player_2  \\\n",
       "0          0            1           3454           5206           2613   \n",
       "1          1            0           2477           5760           3816   \n",
       "2          2            1           3604           1948           8581   \n",
       "3          4            1           3675           4103           5154   \n",
       "4          5            1           4252           2412           2545   \n",
       "...      ...          ...            ...            ...            ...   \n",
       "24969  49939            0           4262           7316           3996   \n",
       "24970  49940            1           7250           3984           6380   \n",
       "24971  49941            1           2873           4727           4655   \n",
       "24972  49945            0           2325           1813           2530   \n",
       "24973  49946            0           4134           3141           4086   \n",
       "\n",
       "       gold_player_3  gold_player_4  gold_player_5  gold_player_6  \\\n",
       "0               4426           5755           4072           3997   \n",
       "1               4353           5759           7659           5066   \n",
       "2               4390           2869           3096           2301   \n",
       "3               3030           2076           3920           3494   \n",
       "4               4264           2544           4752           5389   \n",
       "...              ...            ...            ...            ...   \n",
       "24969           3863           2199           5718           3876   \n",
       "24970           2954           6243           3095           5105   \n",
       "24971           4923           3645           5978           2801   \n",
       "24972           4807           5542           2242           2359   \n",
       "24973           4405           3517           2887           7450   \n",
       "\n",
       "       gold_player_7  ...  lh_player_0  lh_player_1  lh_player_2  lh_player_3  \\\n",
       "0               5917  ...            4           43            3           57   \n",
       "1               2748  ...            5           63           14           28   \n",
       "2               5130  ...           34            6           69           42   \n",
       "3               3392  ...           30           41           45           23   \n",
       "4               4954  ...           42            5           16           30   \n",
       "...              ...  ...          ...          ...          ...          ...   \n",
       "24969           4296  ...           49           74           30           12   \n",
       "24970           1811  ...           48            2           54           12   \n",
       "24971           3875  ...           31           54           42           52   \n",
       "24972           5997  ...           13            6            2           37   \n",
       "24973           3634  ...            2           24           15           23   \n",
       "\n",
       "       lh_player_4  lh_player_5  lh_player_6  lh_player_7  lh_player_8  \\\n",
       "0               41           34           35           75            2   \n",
       "1               47           49           23            3           30   \n",
       "2               23            6           12           56           13   \n",
       "3                4           26            9           23           37   \n",
       "4                3           42           24           53           12   \n",
       "...            ...          ...          ...          ...          ...   \n",
       "24969            2           47            5           35           39   \n",
       "24970           61           26           71            4           49   \n",
       "24971            7           49            1           10           16   \n",
       "24972           67            7            7           61           49   \n",
       "24973           30            9           72            4           51   \n",
       "\n",
       "       lh_player_9  \n",
       "0               46  \n",
       "1               39  \n",
       "2               12  \n",
       "3                6  \n",
       "4               14  \n",
       "...            ...  \n",
       "24969            4  \n",
       "24970            5  \n",
       "24971           53  \n",
       "24972            2  \n",
       "24973           36  \n",
       "\n",
       "[24974 rows x 22 columns]"
      ]
     },
     "execution_count": 4,
     "metadata": {},
     "output_type": "execute_result"
    }
   ],
   "source": [
    "train_data_gold_lh = train_data.merge(\n",
    "    gold_data[gold_data[\"times\"] == 600].add_prefix(\"gold_\"), left_on=\"mid\", right_on=\"gold_mid\", how=\"inner\")\n",
    "train_data_gold_lh = train_data_gold_lh.merge(\n",
    "    lh_data[lh_data[\"times\"] == 600].add_prefix(\"lh_\"), left_on=\"mid\", right_on=\"lh_mid\", how=\"inner\")\n",
    "train_data_gold_lh.drop([\"gold_mid\", \"lh_mid\", \"gold_times\", \"lh_times\"], axis=1, inplace=True)\n",
    "train_data_gold_lh"
   ]
  },
  {
   "cell_type": "markdown",
   "metadata": {},
   "source": [
    "**Задание 2** (1 балл)\n",
    "\n",
    "Постройте для команд radiant и dire различные агригаты по игрокам на 600 секунде. Опишите какие именно агригаты вы построили и почему."
   ]
  },
  {
   "cell_type": "markdown",
   "metadata": {},
   "source": [
    "Введем следующие агригаты:\n",
    "\n",
    "  1) Сумма золота всей команды -- чем больше золота, тем больше полезных предметов может купить команда\n",
    "  \n",
    "  2) Минимальное и максимальное кол-во золота -- в игре есть четкое дифференцирование по ролям, и одни игроки должны уступать свой \"заработок\" (добивания крипов, убийства, руны) другим, чтобы те становились сильнее и побеждали в сражениях\n",
    "  \n",
    "  3) Минимальное и максимальное кол-во добиваний -- аналогично золоту"
   ]
  },
  {
   "cell_type": "code",
   "execution_count": 5,
   "metadata": {},
   "outputs": [
    {
     "data": {
      "text/html": [
       "<div>\n",
       "<style scoped>\n",
       "    .dataframe tbody tr th:only-of-type {\n",
       "        vertical-align: middle;\n",
       "    }\n",
       "\n",
       "    .dataframe tbody tr th {\n",
       "        vertical-align: top;\n",
       "    }\n",
       "\n",
       "    .dataframe thead th {\n",
       "        text-align: right;\n",
       "    }\n",
       "</style>\n",
       "<table border=\"1\" class=\"dataframe\">\n",
       "  <thead>\n",
       "    <tr style=\"text-align: right;\">\n",
       "      <th></th>\n",
       "      <th>radiant_won</th>\n",
       "      <th>radiant_sum_gold</th>\n",
       "      <th>radiant_max_gold</th>\n",
       "      <th>radiant_min_gold</th>\n",
       "      <th>dire_sum_gold</th>\n",
       "      <th>dire_max_gold</th>\n",
       "      <th>dire_min_gold</th>\n",
       "      <th>radiant_max_lh</th>\n",
       "      <th>radiant_min_lh</th>\n",
       "      <th>radiant_sum_lh</th>\n",
       "      <th>dire_max_lh</th>\n",
       "      <th>dire_min_lh</th>\n",
       "      <th>dire_sum_lh</th>\n",
       "    </tr>\n",
       "    <tr>\n",
       "      <th>mid</th>\n",
       "      <th></th>\n",
       "      <th></th>\n",
       "      <th></th>\n",
       "      <th></th>\n",
       "      <th></th>\n",
       "      <th></th>\n",
       "      <th></th>\n",
       "      <th></th>\n",
       "      <th></th>\n",
       "      <th></th>\n",
       "      <th></th>\n",
       "      <th></th>\n",
       "      <th></th>\n",
       "    </tr>\n",
       "  </thead>\n",
       "  <tbody>\n",
       "    <tr>\n",
       "      <th>0</th>\n",
       "      <td>1</td>\n",
       "      <td>21454</td>\n",
       "      <td>5755</td>\n",
       "      <td>2613</td>\n",
       "      <td>22095</td>\n",
       "      <td>6384</td>\n",
       "      <td>1725</td>\n",
       "      <td>57</td>\n",
       "      <td>3</td>\n",
       "      <td>148</td>\n",
       "      <td>75</td>\n",
       "      <td>2</td>\n",
       "      <td>192</td>\n",
       "    </tr>\n",
       "    <tr>\n",
       "      <th>1</th>\n",
       "      <td>0</td>\n",
       "      <td>22165</td>\n",
       "      <td>5760</td>\n",
       "      <td>2477</td>\n",
       "      <td>24536</td>\n",
       "      <td>7659</td>\n",
       "      <td>2748</td>\n",
       "      <td>63</td>\n",
       "      <td>5</td>\n",
       "      <td>157</td>\n",
       "      <td>49</td>\n",
       "      <td>3</td>\n",
       "      <td>144</td>\n",
       "    </tr>\n",
       "    <tr>\n",
       "      <th>2</th>\n",
       "      <td>1</td>\n",
       "      <td>21392</td>\n",
       "      <td>8581</td>\n",
       "      <td>1948</td>\n",
       "      <td>15548</td>\n",
       "      <td>5130</td>\n",
       "      <td>2301</td>\n",
       "      <td>69</td>\n",
       "      <td>6</td>\n",
       "      <td>174</td>\n",
       "      <td>56</td>\n",
       "      <td>6</td>\n",
       "      <td>99</td>\n",
       "    </tr>\n",
       "    <tr>\n",
       "      <th>4</th>\n",
       "      <td>1</td>\n",
       "      <td>18038</td>\n",
       "      <td>5154</td>\n",
       "      <td>2076</td>\n",
       "      <td>17484</td>\n",
       "      <td>4458</td>\n",
       "      <td>2220</td>\n",
       "      <td>45</td>\n",
       "      <td>4</td>\n",
       "      <td>143</td>\n",
       "      <td>37</td>\n",
       "      <td>6</td>\n",
       "      <td>101</td>\n",
       "    </tr>\n",
       "    <tr>\n",
       "      <th>5</th>\n",
       "      <td>1</td>\n",
       "      <td>16017</td>\n",
       "      <td>4264</td>\n",
       "      <td>2412</td>\n",
       "      <td>22041</td>\n",
       "      <td>5389</td>\n",
       "      <td>2992</td>\n",
       "      <td>42</td>\n",
       "      <td>3</td>\n",
       "      <td>96</td>\n",
       "      <td>53</td>\n",
       "      <td>12</td>\n",
       "      <td>145</td>\n",
       "    </tr>\n",
       "    <tr>\n",
       "      <th>...</th>\n",
       "      <td>...</td>\n",
       "      <td>...</td>\n",
       "      <td>...</td>\n",
       "      <td>...</td>\n",
       "      <td>...</td>\n",
       "      <td>...</td>\n",
       "      <td>...</td>\n",
       "      <td>...</td>\n",
       "      <td>...</td>\n",
       "      <td>...</td>\n",
       "      <td>...</td>\n",
       "      <td>...</td>\n",
       "      <td>...</td>\n",
       "    </tr>\n",
       "    <tr>\n",
       "      <th>49939</th>\n",
       "      <td>0</td>\n",
       "      <td>21636</td>\n",
       "      <td>7316</td>\n",
       "      <td>2199</td>\n",
       "      <td>20907</td>\n",
       "      <td>5718</td>\n",
       "      <td>2520</td>\n",
       "      <td>74</td>\n",
       "      <td>2</td>\n",
       "      <td>167</td>\n",
       "      <td>47</td>\n",
       "      <td>4</td>\n",
       "      <td>130</td>\n",
       "    </tr>\n",
       "    <tr>\n",
       "      <th>49940</th>\n",
       "      <td>1</td>\n",
       "      <td>26811</td>\n",
       "      <td>7250</td>\n",
       "      <td>2954</td>\n",
       "      <td>17305</td>\n",
       "      <td>5105</td>\n",
       "      <td>1811</td>\n",
       "      <td>61</td>\n",
       "      <td>2</td>\n",
       "      <td>177</td>\n",
       "      <td>71</td>\n",
       "      <td>4</td>\n",
       "      <td>155</td>\n",
       "    </tr>\n",
       "    <tr>\n",
       "      <th>49941</th>\n",
       "      <td>1</td>\n",
       "      <td>20823</td>\n",
       "      <td>4923</td>\n",
       "      <td>2873</td>\n",
       "      <td>22511</td>\n",
       "      <td>5978</td>\n",
       "      <td>2801</td>\n",
       "      <td>54</td>\n",
       "      <td>7</td>\n",
       "      <td>186</td>\n",
       "      <td>53</td>\n",
       "      <td>1</td>\n",
       "      <td>129</td>\n",
       "    </tr>\n",
       "    <tr>\n",
       "      <th>49945</th>\n",
       "      <td>0</td>\n",
       "      <td>17017</td>\n",
       "      <td>5542</td>\n",
       "      <td>1813</td>\n",
       "      <td>18165</td>\n",
       "      <td>5997</td>\n",
       "      <td>2044</td>\n",
       "      <td>67</td>\n",
       "      <td>2</td>\n",
       "      <td>125</td>\n",
       "      <td>61</td>\n",
       "      <td>2</td>\n",
       "      <td>126</td>\n",
       "    </tr>\n",
       "    <tr>\n",
       "      <th>49946</th>\n",
       "      <td>0</td>\n",
       "      <td>19283</td>\n",
       "      <td>4405</td>\n",
       "      <td>3141</td>\n",
       "      <td>24853</td>\n",
       "      <td>7450</td>\n",
       "      <td>2887</td>\n",
       "      <td>30</td>\n",
       "      <td>2</td>\n",
       "      <td>94</td>\n",
       "      <td>72</td>\n",
       "      <td>4</td>\n",
       "      <td>172</td>\n",
       "    </tr>\n",
       "  </tbody>\n",
       "</table>\n",
       "<p>24974 rows × 13 columns</p>\n",
       "</div>"
      ],
      "text/plain": [
       "       radiant_won  radiant_sum_gold  radiant_max_gold  radiant_min_gold  \\\n",
       "mid                                                                        \n",
       "0                1             21454              5755              2613   \n",
       "1                0             22165              5760              2477   \n",
       "2                1             21392              8581              1948   \n",
       "4                1             18038              5154              2076   \n",
       "5                1             16017              4264              2412   \n",
       "...            ...               ...               ...               ...   \n",
       "49939            0             21636              7316              2199   \n",
       "49940            1             26811              7250              2954   \n",
       "49941            1             20823              4923              2873   \n",
       "49945            0             17017              5542              1813   \n",
       "49946            0             19283              4405              3141   \n",
       "\n",
       "       dire_sum_gold  dire_max_gold  dire_min_gold  radiant_max_lh  \\\n",
       "mid                                                                  \n",
       "0              22095           6384           1725              57   \n",
       "1              24536           7659           2748              63   \n",
       "2              15548           5130           2301              69   \n",
       "4              17484           4458           2220              45   \n",
       "5              22041           5389           2992              42   \n",
       "...              ...            ...            ...             ...   \n",
       "49939          20907           5718           2520              74   \n",
       "49940          17305           5105           1811              61   \n",
       "49941          22511           5978           2801              54   \n",
       "49945          18165           5997           2044              67   \n",
       "49946          24853           7450           2887              30   \n",
       "\n",
       "       radiant_min_lh  radiant_sum_lh  dire_max_lh  dire_min_lh  dire_sum_lh  \n",
       "mid                                                                           \n",
       "0                   3             148           75            2          192  \n",
       "1                   5             157           49            3          144  \n",
       "2                   6             174           56            6           99  \n",
       "4                   4             143           37            6          101  \n",
       "5                   3              96           53           12          145  \n",
       "...               ...             ...          ...          ...          ...  \n",
       "49939               2             167           47            4          130  \n",
       "49940               2             177           71            4          155  \n",
       "49941               7             186           53            1          129  \n",
       "49945               2             125           61            2          126  \n",
       "49946               2              94           72            4          172  \n",
       "\n",
       "[24974 rows x 13 columns]"
      ]
     },
     "execution_count": 5,
     "metadata": {},
     "output_type": "execute_result"
    }
   ],
   "source": [
    "train_agregate_data = train_data_gold_lh[[\"mid\", \"radiant_won\"]].copy()\n",
    "\n",
    "radiant_players_gold = [\"gold_player_\" + str(i) for i in range(0, 5)]\n",
    "radiant_players_lh = [\"lh_player_\" + str(i) for i in range(0, 5)]\n",
    "dire_players_gold = [\"gold_player_\" + str(i) for i in range(5, 10)]\n",
    "dire_players_lh = [\"lh_player_\" + str(i) for i in range(5, 10)]\n",
    "\n",
    "train_agregate_data.loc[:, \"radiant_sum_gold\"] = train_data_gold_lh[radiant_players_gold].sum(axis=1)\n",
    "train_agregate_data.loc[:, \"radiant_max_gold\"] = train_data_gold_lh[radiant_players_gold].max(axis=1)\n",
    "train_agregate_data.loc[:, \"radiant_min_gold\"] = train_data_gold_lh[radiant_players_gold].min(axis=1)\n",
    "\n",
    "train_agregate_data.loc[:, \"dire_sum_gold\"] = train_data_gold_lh[dire_players_gold].sum(axis=1)\n",
    "train_agregate_data.loc[:, \"dire_max_gold\"] = train_data_gold_lh[dire_players_gold].max(axis=1)\n",
    "train_agregate_data.loc[:, \"dire_min_gold\"] = train_data_gold_lh[dire_players_gold].min(axis=1)\n",
    "\n",
    "train_agregate_data.loc[:, \"radiant_max_lh\"] = train_data_gold_lh[radiant_players_lh].max(axis=1)\n",
    "train_agregate_data.loc[:, \"radiant_min_lh\"] = train_data_gold_lh[radiant_players_lh].min(axis=1)\n",
    "train_agregate_data.loc[:, \"radiant_sum_lh\"] = train_data_gold_lh[radiant_players_lh].sum(axis=1)\n",
    "\n",
    "train_agregate_data.loc[:, \"dire_max_lh\"] = train_data_gold_lh[dire_players_lh].max(axis=1)\n",
    "train_agregate_data.loc[:, \"dire_min_lh\"] = train_data_gold_lh[dire_players_lh].min(axis=1)\n",
    "train_agregate_data.loc[:, \"dire_sum_lh\"] = train_data_gold_lh[dire_players_lh].sum(axis=1)\n",
    "\n",
    "\n",
    "train_agregate_data.set_index('mid', inplace=True)\n",
    "train_agregate_data"
   ]
  },
  {
   "cell_type": "markdown",
   "metadata": {},
   "source": [
    "Сейчас и далее будем рассматривать следующие алгоритмы:\n",
    " - [Logistic Regression Classifier](https://scikit-learn.org/stable/modules/generated/sklearn.linear_model.LogisticRegression.html)\n",
    " - [C-Support Vector Classification](https://scikit-learn.org/stable/modules/generated/sklearn.svm.SVC.html)\n",
    " - [Multi-layer Perceptron Classifier](https://scikit-learn.org/stable/modules/generated/sklearn.neural_network.MLPClassifier.html)"
   ]
  },
  {
   "cell_type": "markdown",
   "metadata": {},
   "source": [
    "**Задание 3** (1.5 балла) \n",
    "\n",
    "Для каждого алгоритма выберете один гиперпараметр и подберите его оптимальное значение. Для подбора гиперпараметров воспользуйтесь перебором по сетке, который реализован в классе [GridSearchCV](http://scikit-learn.org/stable/modules/generated/sklearn.model_selection.GridSearchCV.html#sklearn.model_selection.GridSearchCV). В качестве схемы кросс-валидации используйте 5-Fold CV, которую можно задать с помощью класса [KFoldCV](http://scikit-learn.org/stable/modules/generated/sklearn.model_selection.KFold.html#sklearn.model_selection.KFold).\n",
    "\n",
    "Постройте график среднего значения качества по кросс-валидации алгоритма при заданном значении гиперпараметра, на котором также отобразите доверительный интервал. Для получения значения качества на каждом фолде, среднего значение качества и другой полезной информации можно воспользоваться полем [*cv results_*](http://scikit-learn.org/stable/modules/generated/sklearn.model_selection.GridSearchCV.html#sklearn.model_selection.GridSearchCV)\n",
    "\n",
    "У какого алгоритма наибольшее среднее значение качества? Наибольший доверительный интервал?"
   ]
  },
  {
   "cell_type": "code",
   "execution_count": 6,
   "metadata": {},
   "outputs": [],
   "source": [
    "from sklearn.linear_model import LogisticRegression, SGDClassifier\n",
    "from sklearn.svm import SVC, LinearSVC\n",
    "from sklearn.neural_network import MLPClassifier\n",
    "from sklearn.model_selection import cross_val_score\n",
    "from sklearn.model_selection import GridSearchCV"
   ]
  },
  {
   "cell_type": "markdown",
   "metadata": {},
   "source": [
    "**Логистическая регрессия**:"
   ]
  },
  {
   "cell_type": "code",
   "execution_count": 7,
   "metadata": {},
   "outputs": [],
   "source": [
    "target = train_agregate_data.pop('radiant_won')"
   ]
  },
  {
   "cell_type": "code",
   "execution_count": 11,
   "metadata": {},
   "outputs": [],
   "source": [
    "params = {'C' : [1e-5, 1e-3, 1, 100, 1e4]}\n",
    "log_reg = LogisticRegression(max_iter=1000, solver='liblinear')\n",
    "log_reg_clf = GridSearchCV(log_reg, params, scoring='roc_auc', n_jobs=-1, cv=5)"
   ]
  },
  {
   "cell_type": "code",
   "execution_count": 12,
   "metadata": {},
   "outputs": [
    {
     "data": {
      "text/plain": [
       "GridSearchCV(cv=5,\n",
       "             estimator=LogisticRegression(max_iter=1000, solver='liblinear'),\n",
       "             n_jobs=-1, param_grid={'C': [1e-05, 0.001, 1, 100, 10000.0]},\n",
       "             scoring='roc_auc')"
      ]
     },
     "execution_count": 12,
     "metadata": {},
     "output_type": "execute_result"
    }
   ],
   "source": [
    "log_reg_clf.fit(train_agregate_data, target)"
   ]
  },
  {
   "cell_type": "code",
   "execution_count": 18,
   "metadata": {},
   "outputs": [],
   "source": [
    "import seaborn as sns\n",
    "import matplotlib.pyplot as plt\n",
    "%matplotlib inline"
   ]
  },
  {
   "cell_type": "code",
   "execution_count": 26,
   "metadata": {},
   "outputs": [
    {
     "data": {
      "image/png": "[encoded data removed]",
      "text/plain": [
       "<Figure size 432x288 with 1 Axes>"
      ]
     },
     "metadata": {
      "needs_background": "light"
     },
     "output_type": "display_data"
    }
   ],
   "source": [
    "fig = sns.barplot(x=params['C'], y=log_reg_clf.cv_results_['mean_test_score'],\n",
    "            ci=log_reg_clf.cv_results_['std_test_score'], palette=\"tab10\")\n",
    "plt.xlabel(\"Значение параметра C\")\n",
    "plt.ylabel(\"AUR_ROC\")\n",
    "plt.title(\"Логистическая регрессия\")\n",
    "pass"
   ]
  },
  {
   "cell_type": "markdown",
   "metadata": {},
   "source": [
    "Посмотрим на веса получившейся модели:"
   ]
  },
  {
   "cell_type": "code",
   "execution_count": 16,
   "metadata": {},
   "outputs": [
    {
     "data": {
      "text/plain": [
       "array([[ 2.46586736e-04,  3.63548136e-05, -1.19821700e-04,\n",
       "        -2.22905215e-04, -6.71109188e-05,  4.34343571e-05,\n",
       "         1.30390383e-02, -4.08731428e-03, -5.86671426e-03,\n",
       "        -1.36138210e-02,  6.20759835e-03,  5.71691662e-03]])"
      ]
     },
     "execution_count": 16,
     "metadata": {},
     "output_type": "execute_result"
    }
   ],
   "source": [
    "log_reg_clf.best_estimator_.coef_"
   ]
  },
  {
   "cell_type": "markdown",
   "metadata": {},
   "source": [
    "Так они достаточно малые, то оценка качества почти не отличается при разных значениях гиперпараметра."
   ]
  },
  {
   "cell_type": "markdown",
   "metadata": {},
   "source": [
    "**Метод опорных векторов:**"
   ]
  },
  {
   "cell_type": "code",
   "execution_count": 20,
   "metadata": {},
   "outputs": [],
   "source": [
    "svc_parms = {'C': [0.01, 0.1, 1, 10]}\n",
    "            \n",
    "svc = LinearSVC(max_iter=20000, penalty='l1', dual=False, verbose = True)\n",
    "svc_clf = GridSearchCV(svc, svc_parms, scoring='roc_auc', n_jobs=-1, cv=5)"
   ]
  },
  {
   "cell_type": "code",
   "execution_count": 21,
   "metadata": {},
   "outputs": [
    {
     "name": "stdout",
     "output_type": "stream",
     "text": [
      "[LibLinear]"
     ]
    },
    {
     "data": {
      "text/plain": [
       "GridSearchCV(cv=5,\n",
       "             estimator=LinearSVC(dual=False, max_iter=20000, penalty='l1',\n",
       "                                 verbose=True),\n",
       "             n_jobs=-1, param_grid={'C': [0.01, 0.1, 1, 10]},\n",
       "             scoring='roc_auc')"
      ]
     },
     "execution_count": 21,
     "metadata": {},
     "output_type": "execute_result"
    }
   ],
   "source": [
    "svc_clf.fit(train_agregate_data, target)"
   ]
  },
  {
   "cell_type": "code",
   "execution_count": 23,
   "metadata": {},
   "outputs": [
    {
     "data": {
      "image/png": "[encoded data removed]",
      "text/plain": [
       "<Figure size 432x288 with 1 Axes>"
      ]
     },
     "metadata": {
      "needs_background": "light"
     },
     "output_type": "display_data"
    }
   ],
   "source": [
    "fig_svc = sns.barplot(x=svc_parms['C'], y=svc_clf.cv_results_['mean_test_score'],\n",
    "            ci=svc_clf.cv_results_['std_test_score'], palette=\"tab10\")\n",
    "plt.xlabel(\"Значение параметра C\")\n",
    "plt.ylabel(\"AUR_ROC\")\n",
    "plt.title(\"Метод опорных векторов\")\n",
    "pass"
   ]
  },
  {
   "cell_type": "markdown",
   "metadata": {},
   "source": [
    "Здесь различия также малозаметны."
   ]
  },
  {
   "cell_type": "markdown",
   "metadata": {},
   "source": [
    "**Многослойный персетрон:**"
   ]
  },
  {
   "cell_type": "code",
   "execution_count": 27,
   "metadata": {},
   "outputs": [],
   "source": [
    "perceptron = MLPClassifier(activation='logistic')\n",
    "mplr_clf = GridSearchCV(perceptron, {'hidden_layer_sizes': [35, 32, 30, 28, 25, 23, 20, 19, 17, 15, 13, 10, 8, 5, 2]}, scoring='roc_auc', n_jobs=-1, cv=5)"
   ]
  },
  {
   "cell_type": "code",
   "execution_count": 28,
   "metadata": {},
   "outputs": [
    {
     "data": {
      "text/plain": [
       "GridSearchCV(cv=5, estimator=MLPClassifier(activation='logistic'), n_jobs=-1,\n",
       "             param_grid={'hidden_layer_sizes': [35, 32, 30, 28, 25, 23, 20, 19,\n",
       "                                                17, 15, 13, 10, 8, 5, 2]},\n",
       "             scoring='roc_auc')"
      ]
     },
     "execution_count": 28,
     "metadata": {},
     "output_type": "execute_result"
    }
   ],
   "source": [
    "mplr_clf.fit(train_agregate_data, target)"
   ]
  },
  {
   "cell_type": "code",
   "execution_count": 31,
   "metadata": {},
   "outputs": [
    {
     "data": {
      "image/png": "[encoded data removed]",
      "text/plain": [
       "<Figure size 432x288 with 1 Axes>"
      ]
     },
     "metadata": {
      "needs_background": "light"
     },
     "output_type": "display_data"
    }
   ],
   "source": [
    "fig_mlp = sns.barplot(x=[35, 32, 30, 28, 25, 23, 20, 19, 17, 15, 13, 10, 8, 5, 2],\n",
    "                      y=mplr_clf.cv_results_['mean_test_score'],\n",
    "            ci=mplr_clf.cv_results_['std_test_score'], palette=\"tab10\")\n",
    "plt.xlabel(\"Количество элементов\")\n",
    "plt.ylabel(\"AUR_ROC\")\n",
    "pass"
   ]
  },
  {
   "cell_type": "markdown",
   "metadata": {},
   "source": [
    "При обучении алгоритмов стоит обращать внимание не только на их качество, но и каким образом они работают с данными. В этой задаче получилось так, что некоторые из используемых алгоритмов чувствительны к масштабу признаков. Чтобы убедиться, что это могло повлиять на качество, давайте посмотрим на значения самих признаков."
   ]
  },
  {
   "cell_type": "markdown",
   "metadata": {},
   "source": [
    "**Задание 4** (1 балл) \n",
    "\n",
    "Посмотрите на значения признаков по gold и lh. В чем заключается особенность данных? На какие из рассматриваемых алгоритмов это может повлиять? Может ли масштабирование повлиять на работу этих алгоритмов?"
   ]
  },
  {
   "cell_type": "markdown",
   "metadata": {},
   "source": [
    "Для анализа возьмем одну колонку какого-нибудь игрока в данных о золоте и добиваниях. Расмотрим стандартные характеристики среднее значение и диспресия (так как у нас много данных, то по одной колонке мы может говорить о харакетере всего датасета)."
   ]
  },
  {
   "cell_type": "code",
   "execution_count": 32,
   "metadata": {},
   "outputs": [
    {
     "name": "stdout",
     "output_type": "stream",
     "text": [
      "count    499480.000000\n",
      "mean       2152.879521\n",
      "std        1431.458854\n",
      "min         168.000000\n",
      "25%        1010.000000\n",
      "50%        1876.000000\n",
      "75%        3006.000000\n",
      "max       15046.000000\n",
      "Name: player_0, dtype: float64\n",
      "--------------------\n",
      "count    499480.000000\n",
      "mean         14.600811\n",
      "std          14.283622\n",
      "min           1.000000\n",
      "25%           3.000000\n",
      "50%           9.000000\n",
      "75%          23.000000\n",
      "max         113.000000\n",
      "Name: player_0, dtype: float64\n"
     ]
    }
   ],
   "source": [
    "print(gold_data[\"player_0\"].describe())\n",
    "print('-' * 20)\n",
    "print(lh_data[\"player_0\"].describe())"
   ]
  },
  {
   "cell_type": "markdown",
   "metadata": {},
   "source": [
    "Мы видим, что данные очень отличаются и по среднему и по дисперсии."
   ]
  },
  {
   "cell_type": "code",
   "execution_count": 33,
   "metadata": {},
   "outputs": [
    {
     "name": "stdout",
     "output_type": "stream",
     "text": [
      "count    24974.000000\n",
      "mean     20089.322535\n",
      "std       2614.068298\n",
      "min      11247.000000\n",
      "25%      18316.250000\n",
      "50%      19929.000000\n",
      "75%      21666.000000\n",
      "max      47074.000000\n",
      "Name: radiant_sum_gold, dtype: float64\n",
      "--------------------\n",
      "count    24974.000000\n",
      "mean        51.800753\n",
      "std         13.038086\n",
      "min         13.000000\n",
      "25%         42.000000\n",
      "50%         51.000000\n",
      "75%         60.000000\n",
      "max        131.000000\n",
      "Name: radiant_max_lh, dtype: float64\n"
     ]
    }
   ],
   "source": [
    "print(train_agregate_data[\"radiant_sum_gold\"].describe())\n",
    "print('-' * 20)\n",
    "print(train_agregate_data[\"radiant_max_lh\"].describe())"
   ]
  },
  {
   "cell_type": "markdown",
   "metadata": {},
   "source": [
    "Еще сильнее данные разнятся на наших агрегатных признаках."
   ]
  },
  {
   "cell_type": "markdown",
   "metadata": {},
   "source": [
    "Масштабирование признаков можно выполнить, например, одним из следующих способов:\n",
    " - $x_{new} = \\dfrac{x - \\mu}{\\sigma}$, где $\\mu, \\sigma$ — среднее и стандартное отклонение значения признака по всей выборке (см. функцию [scale](http://scikit-learn.org/stable/modules/generated/sklearn.preprocessing.scale.html))\n",
    " - $x_{new} = \\dfrac{x - x_{min}}{x_{max} - x_{min}}$, где $[x_{min}, x_{max}]$ — минимальный интервал значений признака\n",
    "\n",
    "Похожие схемы масштабирования приведены в классах [StandardScaler](http://scikit-learn.org/stable/modules/generated/sklearn.preprocessing.StandardScaler.html#sklearn.preprocessing.StandardScaler) и [MinMaxScaler](http://scikit-learn.org/stable/modules/generated/sklearn.preprocessing.MinMaxScaler.html#sklearn.preprocessing.MinMaxScaler).\n",
    " "
   ]
  },
  {
   "cell_type": "markdown",
   "metadata": {},
   "source": [
    "**Задание 5** (1 балл) \n",
    "\n",
    "Отмасштабируйте все вещественные признаки одним из указанных выше способов и подберите оптимальные значения гиперпараметров аналогично пункту выше.\n",
    "\n",
    "Изменилось ли качество алгоритмов и почему?"
   ]
  },
  {
   "cell_type": "code",
   "execution_count": 6,
   "metadata": {},
   "outputs": [],
   "source": [
    "from sklearn.preprocessing import scale\n",
    "from sklearn.preprocessing import StandardScaler"
   ]
  },
  {
   "cell_type": "code",
   "execution_count": 35,
   "metadata": {},
   "outputs": [],
   "source": [
    "from sklearn.pipeline import Pipeline\n",
    "log_reg_pipe = Pipeline([('scale', StandardScaler()), \n",
    "                        ('log_reg', LogisticRegression(max_iter=100000, solver='liblinear'))])\n",
    "\n",
    "\n",
    "log_reg_scale_params = {'log_reg__C' : [1e-5, 1e-3, 1, 100, 1e4]}                        \n",
    "\n",
    "log_reg_clf_scaled = GridSearchCV(log_reg_pipe, log_reg_scale_params, scoring='roc_auc', n_jobs=-1, cv=5)"
   ]
  },
  {
   "cell_type": "code",
   "execution_count": 36,
   "metadata": {},
   "outputs": [
    {
     "data": {
      "text/plain": [
       "GridSearchCV(cv=5,\n",
       "             estimator=Pipeline(steps=[('scale', StandardScaler()),\n",
       "                                       ('log_reg',\n",
       "                                        LogisticRegression(max_iter=100000,\n",
       "                                                           solver='liblinear'))]),\n",
       "             n_jobs=-1,\n",
       "             param_grid={'log_reg__C': [1e-05, 0.001, 1, 100, 10000.0]},\n",
       "             scoring='roc_auc')"
      ]
     },
     "execution_count": 36,
     "metadata": {},
     "output_type": "execute_result"
    }
   ],
   "source": [
    "log_reg_clf_scaled.fit(train_agregate_data, target)"
   ]
  },
  {
   "cell_type": "code",
   "execution_count": 37,
   "metadata": {},
   "outputs": [
    {
     "data": {
      "image/png": "[encoded data removed]",
      "text/plain": [
       "<Figure size 432x288 with 1 Axes>"
      ]
     },
     "metadata": {
      "needs_background": "light"
     },
     "output_type": "display_data"
    }
   ],
   "source": [
    "fig = sns.barplot(x=[1e-5, 1e-3, 1, 100, 1e4], y=log_reg_clf_scaled.cv_results_['mean_test_score'],\n",
    "            ci=log_reg_clf_scaled.cv_results_['std_test_score'], palette=\"tab10\")\n",
    "plt.xlabel(\"Значение параметра C\")\n",
    "plt.ylabel(\"AUR_ROC\")\n",
    "plt.title(\"Логистическая регрессия с нормализацией\")\n",
    "pass"
   ]
  },
  {
   "cell_type": "code",
   "execution_count": 38,
   "metadata": {},
   "outputs": [],
   "source": [
    "svc_pipe = Pipeline([('scale', StandardScaler()), \n",
    "                        ('svc', LinearSVC(max_iter=20000))])\n",
    "\n",
    "svc_scale_parms = {'svc__C': [0.001, 0.1, 1, 10]}\n",
    "\n",
    "svc_scale_clf = GridSearchCV(svc_pipe, svc_scale_parms, scoring='roc_auc', n_jobs=-1, cv=5)"
   ]
  },
  {
   "cell_type": "code",
   "execution_count": 39,
   "metadata": {},
   "outputs": [
    {
     "data": {
      "text/plain": [
       "GridSearchCV(cv=5,\n",
       "             estimator=Pipeline(steps=[('scale', StandardScaler()),\n",
       "                                       ('svc', LinearSVC(max_iter=20000))]),\n",
       "             n_jobs=-1, param_grid={'svc__C': [0.001, 0.1, 1, 10]},\n",
       "             scoring='roc_auc')"
      ]
     },
     "execution_count": 39,
     "metadata": {},
     "output_type": "execute_result"
    }
   ],
   "source": [
    "svc_scale_clf.fit(train_agregate_data, target)"
   ]
  },
  {
   "cell_type": "code",
   "execution_count": 68,
   "metadata": {},
   "outputs": [
    {
     "data": {
      "image/png": "[encoded data removed]",
      "text/plain": [
       "<Figure size 432x288 with 1 Axes>"
      ]
     },
     "metadata": {
      "needs_background": "light"
     },
     "output_type": "display_data"
    }
   ],
   "source": [
    "fig = sns.barplot(x=svc_scale_parms['svc__C'], y=svc_scale_clf.cv_results_['mean_test_score'],\n",
    "            ci=svc_scale_clf.cv_results_['std_test_score'], palette=\"tab10\")\n",
    "plt.xlabel(\"Значение параметра C\")\n",
    "plt.ylabel(\"AUR_ROC\")\n",
    "pass"
   ]
  },
  {
   "cell_type": "code",
   "execution_count": 99,
   "metadata": {},
   "outputs": [],
   "source": [
    "perceptron_pipe = Pipeline([('scale', StandardScaler()),\n",
    "                            ('perc', MLPClassifier(activation='logistic'))]);\n",
    "                           \n",
    "perceptron_scale_parms = {'perc__hidden_layer_sizes': [35, 32, 30, 28, 25, 23, 20, 19, 17, 15, 13, 10, 8, 5, 2]}\n",
    "                            \n",
    "mplr_scale_clf = GridSearchCV(perceptron_pipe, perceptron_scale_parms, scoring='roc_auc', n_jobs=-1, cv=5)"
   ]
  },
  {
   "cell_type": "code",
   "execution_count": 100,
   "metadata": {},
   "outputs": [
    {
     "data": {
      "text/plain": [
       "GridSearchCV(cv=5,\n",
       "             estimator=Pipeline(steps=[('scale', StandardScaler()),\n",
       "                                       ('perc',\n",
       "                                        MLPClassifier(activation='logistic'))]),\n",
       "             n_jobs=-1,\n",
       "             param_grid={'perc__hidden_layer_sizes': [35, 32, 30, 28, 25, 23,\n",
       "                                                      20, 19, 17, 15, 13, 10, 8,\n",
       "                                                      5, 2]},\n",
       "             scoring='roc_auc')"
      ]
     },
     "execution_count": 100,
     "metadata": {},
     "output_type": "execute_result"
    }
   ],
   "source": [
    "mplr_scale_clf.fit(train_agregate_data, target)"
   ]
  },
  {
   "cell_type": "code",
   "execution_count": 104,
   "metadata": {},
   "outputs": [
    {
     "data": {
      "image/png": "[encoded data removed]",
      "text/plain": [
       "<Figure size 432x288 with 1 Axes>"
      ]
     },
     "metadata": {
      "needs_background": "light"
     },
     "output_type": "display_data"
    }
   ],
   "source": [
    "fig = sns.barplot(x=perceptron_scale_parms['perc__hidden_layer_sizes'], y=mplr_scale_clf.cv_results_['mean_test_score'],\n",
    "            ci=mplr_scale_clf.cv_results_['std_test_score'], palette=\"tab10\")\n",
    "plt.xlabel(\"Значение параметра C\")\n",
    "plt.ylabel(\"AUR_ROC\")\n",
    "pass"
   ]
  },
  {
   "cell_type": "markdown",
   "metadata": {},
   "source": [
    "**Задание 6** (1.5 балла) \n",
    "\n",
    "Теперь сделайте перебор нескольких гиперпараметров по сетке и найдите оптимальные комбинации (лучшее среднее значение качества) для каждого алгоритма. Какие гиперпараметры вы настраивали? Удалось ли улучшить качество алгоритмов?"
   ]
  },
  {
   "cell_type": "code",
   "execution_count": 9,
   "metadata": {},
   "outputs": [],
   "source": [
    "from sklearn.pipeline import Pipeline\n",
    "log_reg_pipe_multy = Pipeline([('scale', StandardScaler()), \n",
    "                        ('log_reg', LogisticRegression(max_iter=100000, solver='liblinear'))])\n",
    "\n",
    "\n",
    "log_reg_scale_params_multy = {'log_reg__penalty' : ['l1', 'l2'],\n",
    "                              'log_reg__C' : [i for i in np.logspace(-3, 3, 7)]}                        \n",
    "\n",
    "log_reg_clf_multy = GridSearchCV(log_reg_pipe_multy, log_reg_scale_params_multy, scoring='roc_auc', n_jobs=-1, cv=5)"
   ]
  },
  {
   "cell_type": "code",
   "execution_count": 10,
   "metadata": {},
   "outputs": [
    {
     "data": {
      "text/plain": [
       "GridSearchCV(cv=5,\n",
       "             estimator=Pipeline(steps=[('scale', StandardScaler()),\n",
       "                                       ('log_reg',\n",
       "                                        LogisticRegression(max_iter=100000,\n",
       "                                                           solver='liblinear'))]),\n",
       "             n_jobs=-1,\n",
       "             param_grid={'log_reg__C': [0.001, 0.01, 0.1, 1.0, 10.0, 100.0,\n",
       "                                        1000.0],\n",
       "                         'log_reg__penalty': ['l1', 'l2']},\n",
       "             scoring='roc_auc')"
      ]
     },
     "execution_count": 10,
     "metadata": {},
     "output_type": "execute_result"
    }
   ],
   "source": [
    "log_reg_clf_multy.fit(train_agregate_data, target)"
   ]
  },
  {
   "cell_type": "code",
   "execution_count": 11,
   "metadata": {},
   "outputs": [],
   "source": [
    "log_reg_clf_multy_scores = pd.DataFrame()\n",
    "log_reg_clf_multy_scores['val'] = [C['log_reg__C'] for C in log_reg_clf_multy.cv_results_['params']]\n",
    "log_reg_clf_multy_scores['reg'] = [C['log_reg__penalty'] for C in log_reg_clf_multy.cv_results_['params']]\n",
    "log_reg_clf_multy_scores['score'] = log_reg_clf_multy.cv_results_['mean_test_score']        "
   ]
  },
  {
   "cell_type": "code",
   "execution_count": 70,
   "metadata": {},
   "outputs": [
    {
     "data": {
      "image/png": "[encoded data removed]",
      "text/plain": [
       "<Figure size 432x288 with 1 Axes>"
      ]
     },
     "metadata": {
      "needs_background": "light"
     },
     "output_type": "display_data"
    }
   ],
   "source": [
    "plt.yscale('log')\n",
    "fig = sns.barplot(x='val', y='score', hue='reg', data=log_reg_clf_multy_scores,\n",
    "            ci=svc_scale_clf.cv_results_['std_test_score'], palette=\"tab10\")\n",
    "plt.legend(title=\"Регуляризация\")\n",
    "plt.xlabel(\"Значение параметра C\")\n",
    "plt.ylabel(\"AUR_ROC\")\n",
    "pass"
   ]
  },
  {
   "cell_type": "markdown",
   "metadata": {},
   "source": [
    "При значениях больше 0,1 качество почти не отличается при обоих видах регуляризации"
   ]
  },
  {
   "cell_type": "code",
   "execution_count": 50,
   "metadata": {},
   "outputs": [],
   "source": [
    "svc_pipe_multy = Pipeline([('scale', StandardScaler()), \n",
    "                        ('svc', LinearSVC(max_iter=20000, loss='squared_hinge', dual=False))])\n",
    "\n",
    "svc_scale_parms_multy = {'svc__C': list(range(1, 10)),\n",
    "                  'svc__penalty' : ['l1', 'l2']}\n",
    "\n",
    "svc_scale_clf_multy = GridSearchCV(svc_pipe_multy, svc_scale_parms_multy, scoring='roc_auc', n_jobs=-1, cv=5)"
   ]
  },
  {
   "cell_type": "code",
   "execution_count": 90,
   "metadata": {},
   "outputs": [
    {
     "data": {
      "text/plain": [
       "GridSearchCV(cv=5,\n",
       "             estimator=Pipeline(steps=[('scale', StandardScaler()),\n",
       "                                       ('svc',\n",
       "                                        LinearSVC(dual=False,\n",
       "                                                  max_iter=20000))]),\n",
       "             n_jobs=-1,\n",
       "             param_grid={'svc__C': [1, 2, 3, 4, 5, 6, 7, 8, 9],\n",
       "                         'svc__penalty': ['l1', 'l2']},\n",
       "             scoring='roc_auc')"
      ]
     },
     "execution_count": 90,
     "metadata": {},
     "output_type": "execute_result"
    }
   ],
   "source": [
    "svc_scale_clf_multy.fit(train_agregate_data, target)"
   ]
  },
  {
   "cell_type": "code",
   "execution_count": 92,
   "metadata": {},
   "outputs": [],
   "source": [
    "svc_scale_parms_multy_scores = pd.DataFrame()\n",
    "svc_scale_parms_multy_scores['val'] = [C['svc__C'] for C in svc_scale_clf_multy.cv_results_['params']]\n",
    "svc_scale_parms_multy_scores['reg'] = [C['svc__penalty'] for C in svc_scale_clf_multy.cv_results_['params']]\n",
    "svc_scale_parms_multy_scores['score'] = svc_scale_clf_multy.cv_results_['mean_test_score']        "
   ]
  },
  {
   "cell_type": "code",
   "execution_count": 129,
   "metadata": {},
   "outputs": [
    {
     "ename": "NameError",
     "evalue": "name 'svc_scale_parms_multy_scores' is not defined",
     "output_type": "error",
     "traceback": [
      "\u001b[0;31m---------------------------------------------------------------------------\u001b[0m",
      "\u001b[0;31mNameError\u001b[0m                                 Traceback (most recent call last)",
      "\u001b[0;32m<ipython-input-129-7198f5dc4ba1>\u001b[0m in \u001b[0;36m<module>\u001b[0;34m\u001b[0m\n\u001b[0;32m----> 1\u001b[0;31m fig = sns.barplot(x='val', y='score', hue='reg', data=svc_scale_parms_multy_scores,\n\u001b[0m\u001b[1;32m      2\u001b[0m             ci=svc_scale_clf_multy.cv_results_['std_test_score'], palette=\"tab10\")\n\u001b[1;32m      3\u001b[0m \u001b[0mplt\u001b[0m\u001b[0;34m.\u001b[0m\u001b[0mlegend\u001b[0m\u001b[0;34m(\u001b[0m\u001b[0mtitle\u001b[0m\u001b[0;34m=\u001b[0m\u001b[0;34m\"Регуляризация\"\u001b[0m\u001b[0;34m)\u001b[0m\u001b[0;34m\u001b[0m\u001b[0;34m\u001b[0m\u001b[0m\n\u001b[1;32m      4\u001b[0m \u001b[0mplt\u001b[0m\u001b[0;34m.\u001b[0m\u001b[0mtitle\u001b[0m\u001b[0;34m(\u001b[0m\u001b[0;34m\"Метод опорных векторов с мастштабированием\"\u001b[0m\u001b[0;34m)\u001b[0m\u001b[0;34m\u001b[0m\u001b[0;34m\u001b[0m\u001b[0m\n\u001b[1;32m      5\u001b[0m \u001b[0mplt\u001b[0m\u001b[0;34m.\u001b[0m\u001b[0mxlabel\u001b[0m\u001b[0;34m(\u001b[0m\u001b[0;34m\"Значение параметра C\"\u001b[0m\u001b[0;34m)\u001b[0m\u001b[0;34m\u001b[0m\u001b[0;34m\u001b[0m\u001b[0m\n",
      "\u001b[0;31mNameError\u001b[0m: name 'svc_scale_parms_multy_scores' is not defined"
     ]
    }
   ],
   "source": [
    "fig = sns.barplot(x='val', y='score', hue='reg', data=svc_scale_parms_multy_scores,\n",
    "            ci=svc_scale_clf_multy.cv_results_['std_test_score'], palette=\"tab10\")\n",
    "plt.legend(title=\"Регуляризация\")\n",
    "plt.title(\"Метод опорных векторов с мастштабированием\")\n",
    "plt.xlabel(\"Значение параметра C\")\n",
    "plt.ylabel(\"AUR_ROC\")\n",
    "pass"
   ]
  },
  {
   "cell_type": "code",
   "execution_count": 51,
   "metadata": {},
   "outputs": [],
   "source": [
    "perceptron_pipe = Pipeline([('scale', StandardScaler()),\n",
    "                            ('perc', MLPClassifier(activation='logistic'))]);\n",
    "                           \n",
    "perceptron_scale_parms_multy = {'perc__hidden_layer_sizes': [35, 32, 30, 28, 25, 23, 20, 19, 17, 15, 13, 10, 8, 5, 2],\n",
    "                               'perc__activation' : ['logistic', 'relu']}\n",
    "                            \n",
    "mplr_scale_clf_multy = GridSearchCV(perceptron_pipe, perceptron_scale_parms_multy, scoring='roc_auc', n_jobs=-1, cv=5)"
   ]
  },
  {
   "cell_type": "code",
   "execution_count": 112,
   "metadata": {},
   "outputs": [
    {
     "data": {
      "text/plain": [
       "GridSearchCV(cv=5,\n",
       "             estimator=Pipeline(steps=[('scale', StandardScaler()),\n",
       "                                       ('perc',\n",
       "                                        MLPClassifier(activation='logistic'))]),\n",
       "             n_jobs=-1,\n",
       "             param_grid={'perc__activation': ['logistic', 'relu'],\n",
       "                         'perc__hidden_layer_sizes': [35, 32, 30, 28, 25, 23,\n",
       "                                                      20, 19, 17, 15, 13, 10, 8,\n",
       "                                                      5, 2]},\n",
       "             scoring='roc_auc')"
      ]
     },
     "execution_count": 112,
     "metadata": {},
     "output_type": "execute_result"
    }
   ],
   "source": [
    "mplr_scale_clf_multy.fit(train_agregate_data, target)"
   ]
  },
  {
   "cell_type": "code",
   "execution_count": 114,
   "metadata": {},
   "outputs": [],
   "source": [
    "mplr_scale_clf_multy_scores = pd.DataFrame()\n",
    "mplr_scale_clf_multy_scores['nodes'] = [C['perc__hidden_layer_sizes'] for C in mplr_scale_clf_multy.cv_results_['params']]\n",
    "mplr_scale_clf_multy_scores['act'] = [C['perc__activation'] for C in mplr_scale_clf_multy.cv_results_['params']]\n",
    "mplr_scale_clf_multy_scores['score'] = mplr_scale_clf_multy.cv_results_['mean_test_score']        "
   ]
  },
  {
   "cell_type": "code",
   "execution_count": 115,
   "metadata": {},
   "outputs": [
    {
     "data": {
      "image/png": "[encoded data removed]",
      "text/plain": [
       "<Figure size 432x288 with 1 Axes>"
      ]
     },
     "metadata": {
      "needs_background": "light"
     },
     "output_type": "display_data"
    }
   ],
   "source": [
    "fig = sns.barplot(x='nodes', y='score', hue='act', data=mplr_scale_clf_multy_scores,\n",
    "            ci=svc_scale_clf_multy.cv_results_['std_test_score'], palette=\"tab10\")\n",
    "plt.legend(title=\"Регуляризация\")\n",
    "plt.title(\"Многослойный персептрон с мастштабированием\")\n",
    "plt.xlabel(\"Количество неронов в скрытом слое C\")\n",
    "plt.ylabel(\"AUR_ROC\")\n",
    "pass"
   ]
  },
  {
   "cell_type": "code",
   "execution_count": null,
   "metadata": {},
   "outputs": [],
   "source": [
    "print(\"Качество лог. регрессии\" + log_reg_clf_multy.best_score)\n",
    "print(\"Качество метода опорных векторов\" + svc_scale_clf_multy.best_score)\n",
    "print(\"Качество MLP векторов\" + mplr_scale_clf_multy.best_score)"
   ]
  },
  {
   "cell_type": "markdown",
   "metadata": {},
   "source": [
    "**Вывод**: "
   ]
  },
  {
   "cell_type": "markdown",
   "metadata": {},
   "source": [
    "### Добавление категориальных признаков в модели"
   ]
  },
  {
   "cell_type": "markdown",
   "metadata": {},
   "source": [
    "**Задание 7** (1 балл) \n",
    "\n",
    "Постройте для разных алгоритмов графики [кривых обучения](http://scikit-learn.org/stable/modules/generated/sklearn.model_selection.learning_curve.html), изображающие зависимость качества на тестовой и обучающей выборках от количества объектов, на которых обучаются модели. Посмотрите на поведение кривых и ответьте на вопросы:\n",
    "* Может ли с ростом числа объектов убывать качество на тестовой выборке? А на обучающей? Почему?\n",
    "* Для каких целей можно использовать знание качества на обучающей части выборки?\n",
    "* Какой из алгоритмов лучше обучается на меньшем числе объектов?\n",
    "* Может ли добавление новых объектов значительно повысить качество какого-то из алгоритмов или при существующем наборе данных для всех алгоритмов произошло насыщение?"
   ]
  },
  {
   "cell_type": "code",
   "execution_count": 8,
   "metadata": {},
   "outputs": [],
   "source": [
    "from sklearn.model_selection import learning_curve"
   ]
  },
  {
   "cell_type": "code",
   "execution_count": 55,
   "metadata": {},
   "outputs": [],
   "source": [
    "log_reg_sizes, log_reg_train, log_reg_test = learning_curve(log_reg_clf_multy, \n",
    "                                                            X=train_agregate_data, \n",
    "                                                            y=target, \n",
    "                                                            train_sizes=np.linspace(0.1, 1.0, 10),\n",
    "                                                            scoring='roc_auc',\n",
    "                                                            return_times=False)\n",
    "\n",
    "svс_sizes, svс_train, svс_test = learning_curve(svc_scale_clf_multy, \n",
    "                                                X=train_agregate_data, \n",
    "                                                y=target, \n",
    "                                                train_sizes=np.linspace(0.1, 1.0, 10),\n",
    "                                                scoring='roc_auc',\n",
    "                                                return_times=False)\n",
    "\n",
    "mlp_sizes, mlp_train, mlp_test = learning_curve(Pipeline([('scale', StandardScaler()),\n",
    "                            ('perc', MLPClassifier(activation='logistic', hidden_layer_sizes=5))], \n",
    "                                                X=train_agregate_data, \n",
    "                                                y=target, \n",
    "                                                train_sizes=np.linspace(0.1, 1.0, 10),\n",
    "                                                scoring='roc_auc',\n",
    "                                                return_times=False)"
   ]
  },
  {
   "cell_type": "code",
   "execution_count": 143,
   "metadata": {},
   "outputs": [
    {
     "data": {
      "image/png": "[encoded data removed]",
      "text/plain": [
       "<Figure size 1224x360 with 3 Axes>"
      ]
     },
     "metadata": {},
     "output_type": "display_data"
    }
   ],
   "source": [
    "names = ['log_reg', 'svc', 'mlp']\n",
    "fig, axes = plt.subplots(1, 3, sharey='row', figsize=(17, 5))\n",
    "sns.set_theme({\"axes.facecolor\": \"white\"})\n",
    "\n",
    "sizes = [log_reg_sizes, svс_sizes, mlp_sizes]\n",
    "train = [log_reg_train.mean(-1), svс_train.mean(-1), mlp_train.mean(-1)]\n",
    "test = [log_reg_test.mean(-1), svс_test.mean(-1), mlp_test.mean(-1)]\n",
    "names = ['Логистическая регрессия', 'Метод опорных векторов', 'Многослойный перцептрон']\n",
    "\n",
    "for i in range(3):\n",
    "    sns.lineplot(ax = axes[i], x=sizes[i], y=train[i], label='Train')\n",
    "    sns.lineplot(ax = axes[i], x=sizes[i], y=test[i], label='Test')\n",
    "    axes[i].legend(title=\"Данные\", frameon=True, facecolor='white')\n",
    "    axes[i].set_title(names[i] + \" с масштабированием\")\n",
    "    axes[i].set(xlabel=\"Размер выборки\", ylabel=\"AUR_ROC\")\n",
    "    \n",
    "fig.suptitle(\"Кривая обучения\")\n",
    "pass"
   ]
  },
  {
   "cell_type": "markdown",
   "metadata": {},
   "source": [
    "После выполнения данного блока вы получите решение, которое можно отправить в соревнование на [kaggle](https://www.kaggle.com/t/f2f20fc510f042dfa9751a03c6108805). \n",
    "\n",
    "Будьте внимательными, для части матчей из test.csv отсутствуют некоторые данные, для этих матчей все равно требуется что-то предсказать."
   ]
  },
  {
   "cell_type": "code",
   "execution_count": null,
   "metadata": {},
   "outputs": [],
   "source": []
  },
  {
   "cell_type": "markdown",
   "metadata": {},
   "source": [
    " "
   ]
  },
  {
   "cell_type": "markdown",
   "metadata": {},
   "source": [
    "Пока мы не использовали нечисловые признаки, которые есть в датасете. Давайте посмотрим, правильно ли мы сделали и увеличится ли качество моделей после добавлениях этих признаков. \n",
    "\n",
    "**Задание 8** (1 балл) \n",
    "\n",
    "Преобразуйте все категориальные признаки с помощью метода one-hot-encoding (например, это можно сделать с помощью функции [pandas.get_dummies](http://pandas.pydata.org/pandas-docs/stable/generated/pandas.get_dummies.html) или [DictVectorizer](http://scikit-learn.org/stable/modules/generated/sklearn.feature_extraction.DictVectorizer.html) / [OneHotEncoder](http://scikit-learn.org/stable/modules/generated/sklearn.preprocessing.OneHotEncoder.html) из sklearn). Это задание предлагается делать с использованием *heroes.csv*. Представьте каждую из команд в виде one-hot-encoded вектора с пятью единицами и остальными нулями."
   ]
  },
  {
   "cell_type": "code",
   "execution_count": 100,
   "metadata": {},
   "outputs": [],
   "source": [
    "from sklearn.preprocessing import OneHotEncoder\n",
    "heros_data = pd.read_csv(\"heroes.csv\", index_col='mid')"
   ]
  },
  {
   "cell_type": "code",
   "execution_count": 105,
   "metadata": {},
   "outputs": [],
   "source": [
    "encoder = OneHotEncoder(sparse=False)\n",
    "\n",
    "radiant = pd.DataFrame()\n",
    "\n",
    "radiant = encoder.fit_transform(heros_data[[\"player_0\"]])+ encoder.fit_transform(heros_data[[\"player_1\"]]) + \\\n",
    "            encoder.fit_transform(heros_data[[\"player_2\"]]) + encoder.fit_transform(heros_data[[\"player_3\"]]) + \\\n",
    "encoder.fit_transform(heros_data[[\"player_4\"]])\n",
    "\n",
    "dire =  ( encoder.fit_transform(heros_data[[\"player_5\"]]) + encoder.fit_transform(heros_data[[\"player_6\"]]) + \\\n",
    "    encoder.fit_transform(heros_data[[\"player_7\"]]) + encoder.fit_transform(heros_data[[\"player_8\"]])  + \\\n",
    "    encoder.fit_transform(heros_data[[\"player_9\"]]))"
   ]
  },
  {
   "cell_type": "code",
   "execution_count": 106,
   "metadata": {},
   "outputs": [],
   "source": [
    "heroes_encoded = pd.DataFrame(np.hstack((radiant, dire)), columns=[\"radiant_hero_\" + str(i) for i in range(0, radiant.shape[1])] + \\\n",
    "                              [\"dire_hero_\" + str(i) for i in range(0, dire.shape[1])])"
   ]
  },
  {
   "cell_type": "code",
   "execution_count": 109,
   "metadata": {},
   "outputs": [
    {
     "data": {
      "text/plain": [
       "0        10.0\n",
       "1        10.0\n",
       "2        10.0\n",
       "3        10.0\n",
       "4        10.0\n",
       "         ... \n",
       "49943    10.0\n",
       "49944    10.0\n",
       "49945    10.0\n",
       "49946    10.0\n",
       "49947    10.0\n",
       "Length: 49948, dtype: float64"
      ]
     },
     "execution_count": 109,
     "metadata": {},
     "output_type": "execute_result"
    }
   ],
   "source": [
    "heroes_encoded.sum(axis=1)"
   ]
  },
  {
   "cell_type": "markdown",
   "metadata": {},
   "source": [
    "Как и было необходимо, сумма каждой строчки равна 10."
   ]
  },
  {
   "cell_type": "code",
   "execution_count": 110,
   "metadata": {},
   "outputs": [
    {
     "data": {
      "text/html": [
       "<div>\n",
       "<style scoped>\n",
       "    .dataframe tbody tr th:only-of-type {\n",
       "        vertical-align: middle;\n",
       "    }\n",
       "\n",
       "    .dataframe tbody tr th {\n",
       "        vertical-align: top;\n",
       "    }\n",
       "\n",
       "    .dataframe thead th {\n",
       "        text-align: right;\n",
       "    }\n",
       "</style>\n",
       "<table border=\"1\" class=\"dataframe\">\n",
       "  <thead>\n",
       "    <tr style=\"text-align: right;\">\n",
       "      <th></th>\n",
       "      <th>radiant_sum_gold</th>\n",
       "      <th>radiant_max_gold</th>\n",
       "      <th>radiant_min_gold</th>\n",
       "      <th>dire_sum_gold</th>\n",
       "      <th>dire_max_gold</th>\n",
       "      <th>dire_min_gold</th>\n",
       "      <th>radiant_max_lh</th>\n",
       "      <th>radiant_min_lh</th>\n",
       "      <th>radiant_sum_lh</th>\n",
       "      <th>dire_max_lh</th>\n",
       "      <th>...</th>\n",
       "      <th>dire_hero_101</th>\n",
       "      <th>dire_hero_102</th>\n",
       "      <th>dire_hero_103</th>\n",
       "      <th>dire_hero_104</th>\n",
       "      <th>dire_hero_105</th>\n",
       "      <th>dire_hero_106</th>\n",
       "      <th>dire_hero_107</th>\n",
       "      <th>dire_hero_108</th>\n",
       "      <th>dire_hero_109</th>\n",
       "      <th>dire_hero_110</th>\n",
       "    </tr>\n",
       "    <tr>\n",
       "      <th>mid</th>\n",
       "      <th></th>\n",
       "      <th></th>\n",
       "      <th></th>\n",
       "      <th></th>\n",
       "      <th></th>\n",
       "      <th></th>\n",
       "      <th></th>\n",
       "      <th></th>\n",
       "      <th></th>\n",
       "      <th></th>\n",
       "      <th></th>\n",
       "      <th></th>\n",
       "      <th></th>\n",
       "      <th></th>\n",
       "      <th></th>\n",
       "      <th></th>\n",
       "      <th></th>\n",
       "      <th></th>\n",
       "      <th></th>\n",
       "      <th></th>\n",
       "      <th></th>\n",
       "    </tr>\n",
       "  </thead>\n",
       "  <tbody>\n",
       "    <tr>\n",
       "      <th>0</th>\n",
       "      <td>21454</td>\n",
       "      <td>5755</td>\n",
       "      <td>2613</td>\n",
       "      <td>22095</td>\n",
       "      <td>6384</td>\n",
       "      <td>1725</td>\n",
       "      <td>57</td>\n",
       "      <td>3</td>\n",
       "      <td>148</td>\n",
       "      <td>75</td>\n",
       "      <td>...</td>\n",
       "      <td>0.0</td>\n",
       "      <td>0.0</td>\n",
       "      <td>0.0</td>\n",
       "      <td>0.0</td>\n",
       "      <td>0.0</td>\n",
       "      <td>0.0</td>\n",
       "      <td>0.0</td>\n",
       "      <td>0.0</td>\n",
       "      <td>0.0</td>\n",
       "      <td>0.0</td>\n",
       "    </tr>\n",
       "    <tr>\n",
       "      <th>1</th>\n",
       "      <td>22165</td>\n",
       "      <td>5760</td>\n",
       "      <td>2477</td>\n",
       "      <td>24536</td>\n",
       "      <td>7659</td>\n",
       "      <td>2748</td>\n",
       "      <td>63</td>\n",
       "      <td>5</td>\n",
       "      <td>157</td>\n",
       "      <td>49</td>\n",
       "      <td>...</td>\n",
       "      <td>0.0</td>\n",
       "      <td>0.0</td>\n",
       "      <td>0.0</td>\n",
       "      <td>0.0</td>\n",
       "      <td>0.0</td>\n",
       "      <td>0.0</td>\n",
       "      <td>0.0</td>\n",
       "      <td>0.0</td>\n",
       "      <td>0.0</td>\n",
       "      <td>0.0</td>\n",
       "    </tr>\n",
       "    <tr>\n",
       "      <th>2</th>\n",
       "      <td>21392</td>\n",
       "      <td>8581</td>\n",
       "      <td>1948</td>\n",
       "      <td>15548</td>\n",
       "      <td>5130</td>\n",
       "      <td>2301</td>\n",
       "      <td>69</td>\n",
       "      <td>6</td>\n",
       "      <td>174</td>\n",
       "      <td>56</td>\n",
       "      <td>...</td>\n",
       "      <td>0.0</td>\n",
       "      <td>0.0</td>\n",
       "      <td>0.0</td>\n",
       "      <td>1.0</td>\n",
       "      <td>0.0</td>\n",
       "      <td>0.0</td>\n",
       "      <td>0.0</td>\n",
       "      <td>0.0</td>\n",
       "      <td>0.0</td>\n",
       "      <td>0.0</td>\n",
       "    </tr>\n",
       "    <tr>\n",
       "      <th>4</th>\n",
       "      <td>18038</td>\n",
       "      <td>5154</td>\n",
       "      <td>2076</td>\n",
       "      <td>17484</td>\n",
       "      <td>4458</td>\n",
       "      <td>2220</td>\n",
       "      <td>45</td>\n",
       "      <td>4</td>\n",
       "      <td>143</td>\n",
       "      <td>37</td>\n",
       "      <td>...</td>\n",
       "      <td>0.0</td>\n",
       "      <td>0.0</td>\n",
       "      <td>0.0</td>\n",
       "      <td>0.0</td>\n",
       "      <td>0.0</td>\n",
       "      <td>0.0</td>\n",
       "      <td>0.0</td>\n",
       "      <td>0.0</td>\n",
       "      <td>0.0</td>\n",
       "      <td>0.0</td>\n",
       "    </tr>\n",
       "    <tr>\n",
       "      <th>5</th>\n",
       "      <td>16017</td>\n",
       "      <td>4264</td>\n",
       "      <td>2412</td>\n",
       "      <td>22041</td>\n",
       "      <td>5389</td>\n",
       "      <td>2992</td>\n",
       "      <td>42</td>\n",
       "      <td>3</td>\n",
       "      <td>96</td>\n",
       "      <td>53</td>\n",
       "      <td>...</td>\n",
       "      <td>1.0</td>\n",
       "      <td>0.0</td>\n",
       "      <td>0.0</td>\n",
       "      <td>0.0</td>\n",
       "      <td>0.0</td>\n",
       "      <td>0.0</td>\n",
       "      <td>0.0</td>\n",
       "      <td>0.0</td>\n",
       "      <td>1.0</td>\n",
       "      <td>0.0</td>\n",
       "    </tr>\n",
       "    <tr>\n",
       "      <th>...</th>\n",
       "      <td>...</td>\n",
       "      <td>...</td>\n",
       "      <td>...</td>\n",
       "      <td>...</td>\n",
       "      <td>...</td>\n",
       "      <td>...</td>\n",
       "      <td>...</td>\n",
       "      <td>...</td>\n",
       "      <td>...</td>\n",
       "      <td>...</td>\n",
       "      <td>...</td>\n",
       "      <td>...</td>\n",
       "      <td>...</td>\n",
       "      <td>...</td>\n",
       "      <td>...</td>\n",
       "      <td>...</td>\n",
       "      <td>...</td>\n",
       "      <td>...</td>\n",
       "      <td>...</td>\n",
       "      <td>...</td>\n",
       "      <td>...</td>\n",
       "    </tr>\n",
       "    <tr>\n",
       "      <th>49939</th>\n",
       "      <td>21636</td>\n",
       "      <td>7316</td>\n",
       "      <td>2199</td>\n",
       "      <td>20907</td>\n",
       "      <td>5718</td>\n",
       "      <td>2520</td>\n",
       "      <td>74</td>\n",
       "      <td>2</td>\n",
       "      <td>167</td>\n",
       "      <td>47</td>\n",
       "      <td>...</td>\n",
       "      <td>0.0</td>\n",
       "      <td>0.0</td>\n",
       "      <td>0.0</td>\n",
       "      <td>0.0</td>\n",
       "      <td>0.0</td>\n",
       "      <td>0.0</td>\n",
       "      <td>0.0</td>\n",
       "      <td>0.0</td>\n",
       "      <td>0.0</td>\n",
       "      <td>0.0</td>\n",
       "    </tr>\n",
       "    <tr>\n",
       "      <th>49940</th>\n",
       "      <td>26811</td>\n",
       "      <td>7250</td>\n",
       "      <td>2954</td>\n",
       "      <td>17305</td>\n",
       "      <td>5105</td>\n",
       "      <td>1811</td>\n",
       "      <td>61</td>\n",
       "      <td>2</td>\n",
       "      <td>177</td>\n",
       "      <td>71</td>\n",
       "      <td>...</td>\n",
       "      <td>0.0</td>\n",
       "      <td>0.0</td>\n",
       "      <td>0.0</td>\n",
       "      <td>0.0</td>\n",
       "      <td>0.0</td>\n",
       "      <td>0.0</td>\n",
       "      <td>0.0</td>\n",
       "      <td>0.0</td>\n",
       "      <td>0.0</td>\n",
       "      <td>0.0</td>\n",
       "    </tr>\n",
       "    <tr>\n",
       "      <th>49941</th>\n",
       "      <td>20823</td>\n",
       "      <td>4923</td>\n",
       "      <td>2873</td>\n",
       "      <td>22511</td>\n",
       "      <td>5978</td>\n",
       "      <td>2801</td>\n",
       "      <td>54</td>\n",
       "      <td>7</td>\n",
       "      <td>186</td>\n",
       "      <td>53</td>\n",
       "      <td>...</td>\n",
       "      <td>0.0</td>\n",
       "      <td>0.0</td>\n",
       "      <td>0.0</td>\n",
       "      <td>0.0</td>\n",
       "      <td>0.0</td>\n",
       "      <td>0.0</td>\n",
       "      <td>0.0</td>\n",
       "      <td>0.0</td>\n",
       "      <td>0.0</td>\n",
       "      <td>0.0</td>\n",
       "    </tr>\n",
       "    <tr>\n",
       "      <th>49945</th>\n",
       "      <td>17017</td>\n",
       "      <td>5542</td>\n",
       "      <td>1813</td>\n",
       "      <td>18165</td>\n",
       "      <td>5997</td>\n",
       "      <td>2044</td>\n",
       "      <td>67</td>\n",
       "      <td>2</td>\n",
       "      <td>125</td>\n",
       "      <td>61</td>\n",
       "      <td>...</td>\n",
       "      <td>0.0</td>\n",
       "      <td>0.0</td>\n",
       "      <td>0.0</td>\n",
       "      <td>0.0</td>\n",
       "      <td>0.0</td>\n",
       "      <td>0.0</td>\n",
       "      <td>0.0</td>\n",
       "      <td>0.0</td>\n",
       "      <td>0.0</td>\n",
       "      <td>0.0</td>\n",
       "    </tr>\n",
       "    <tr>\n",
       "      <th>49946</th>\n",
       "      <td>19283</td>\n",
       "      <td>4405</td>\n",
       "      <td>3141</td>\n",
       "      <td>24853</td>\n",
       "      <td>7450</td>\n",
       "      <td>2887</td>\n",
       "      <td>30</td>\n",
       "      <td>2</td>\n",
       "      <td>94</td>\n",
       "      <td>72</td>\n",
       "      <td>...</td>\n",
       "      <td>0.0</td>\n",
       "      <td>0.0</td>\n",
       "      <td>0.0</td>\n",
       "      <td>0.0</td>\n",
       "      <td>0.0</td>\n",
       "      <td>0.0</td>\n",
       "      <td>0.0</td>\n",
       "      <td>0.0</td>\n",
       "      <td>0.0</td>\n",
       "      <td>0.0</td>\n",
       "    </tr>\n",
       "  </tbody>\n",
       "</table>\n",
       "<p>24974 rows × 234 columns</p>\n",
       "</div>"
      ],
      "text/plain": [
       "       radiant_sum_gold  radiant_max_gold  radiant_min_gold  dire_sum_gold  \\\n",
       "mid                                                                          \n",
       "0                 21454              5755              2613          22095   \n",
       "1                 22165              5760              2477          24536   \n",
       "2                 21392              8581              1948          15548   \n",
       "4                 18038              5154              2076          17484   \n",
       "5                 16017              4264              2412          22041   \n",
       "...                 ...               ...               ...            ...   \n",
       "49939             21636              7316              2199          20907   \n",
       "49940             26811              7250              2954          17305   \n",
       "49941             20823              4923              2873          22511   \n",
       "49945             17017              5542              1813          18165   \n",
       "49946             19283              4405              3141          24853   \n",
       "\n",
       "       dire_max_gold  dire_min_gold  radiant_max_lh  radiant_min_lh  \\\n",
       "mid                                                                   \n",
       "0               6384           1725              57               3   \n",
       "1               7659           2748              63               5   \n",
       "2               5130           2301              69               6   \n",
       "4               4458           2220              45               4   \n",
       "5               5389           2992              42               3   \n",
       "...              ...            ...             ...             ...   \n",
       "49939           5718           2520              74               2   \n",
       "49940           5105           1811              61               2   \n",
       "49941           5978           2801              54               7   \n",
       "49945           5997           2044              67               2   \n",
       "49946           7450           2887              30               2   \n",
       "\n",
       "       radiant_sum_lh  dire_max_lh  ...  dire_hero_101  dire_hero_102  \\\n",
       "mid                                 ...                                 \n",
       "0                 148           75  ...            0.0            0.0   \n",
       "1                 157           49  ...            0.0            0.0   \n",
       "2                 174           56  ...            0.0            0.0   \n",
       "4                 143           37  ...            0.0            0.0   \n",
       "5                  96           53  ...            1.0            0.0   \n",
       "...               ...          ...  ...            ...            ...   \n",
       "49939             167           47  ...            0.0            0.0   \n",
       "49940             177           71  ...            0.0            0.0   \n",
       "49941             186           53  ...            0.0            0.0   \n",
       "49945             125           61  ...            0.0            0.0   \n",
       "49946              94           72  ...            0.0            0.0   \n",
       "\n",
       "       dire_hero_103  dire_hero_104  dire_hero_105  dire_hero_106  \\\n",
       "mid                                                                 \n",
       "0                0.0            0.0            0.0            0.0   \n",
       "1                0.0            0.0            0.0            0.0   \n",
       "2                0.0            1.0            0.0            0.0   \n",
       "4                0.0            0.0            0.0            0.0   \n",
       "5                0.0            0.0            0.0            0.0   \n",
       "...              ...            ...            ...            ...   \n",
       "49939            0.0            0.0            0.0            0.0   \n",
       "49940            0.0            0.0            0.0            0.0   \n",
       "49941            0.0            0.0            0.0            0.0   \n",
       "49945            0.0            0.0            0.0            0.0   \n",
       "49946            0.0            0.0            0.0            0.0   \n",
       "\n",
       "       dire_hero_107  dire_hero_108  dire_hero_109  dire_hero_110  \n",
       "mid                                                                \n",
       "0                0.0            0.0            0.0            0.0  \n",
       "1                0.0            0.0            0.0            0.0  \n",
       "2                0.0            0.0            0.0            0.0  \n",
       "4                0.0            0.0            0.0            0.0  \n",
       "5                0.0            0.0            1.0            0.0  \n",
       "...              ...            ...            ...            ...  \n",
       "49939            0.0            0.0            0.0            0.0  \n",
       "49940            0.0            0.0            0.0            0.0  \n",
       "49941            0.0            0.0            0.0            0.0  \n",
       "49945            0.0            0.0            0.0            0.0  \n",
       "49946            0.0            0.0            0.0            0.0  \n",
       "\n",
       "[24974 rows x 234 columns]"
      ]
     },
     "execution_count": 110,
     "metadata": {},
     "output_type": "execute_result"
    }
   ],
   "source": [
    "train_with_heroes = train_agregate_data.join(heroes_encoded)\n",
    "train_with_heroes"
   ]
  },
  {
   "cell_type": "markdown",
   "metadata": {},
   "source": [
    "После кодирования признаков получилось достаточно много и правильно будет заново подобрать оптимальные гиперпараметры для моделей. \n",
    "\n",
    "**Задание 9** (1 балл)\n",
    "\n",
    "Добавьте к масштабированным вещественным признакам закодированные категориальные и подберите гиперпараметры заново. Дало ли добавление новых признаков прирост качества? Измеряйте качество, как и раньше, используя 5-Fold CV. Для этого удобно воспользоваться функцией [cross_val_score](http://scikit-learn.org/stable/modules/generated/sklearn.cross_validation.cross_val_score.html#sklearn.cross_validation.cross_val_score).\n",
    "\n",
    "Отличается ли теперь наилучший классификатор от наилучшего в предыдущем пункте?\n",
    "\n",
    "One-hot encoding значительно увеличил количество входных данных. \n",
    "\n",
    "Как изменилось количество параметров у моделей? Наблюдается ли переобучение?"
   ]
  },
  {
   "cell_type": "code",
   "execution_count": 120,
   "metadata": {},
   "outputs": [],
   "source": [
    "from sklearn.compose import ColumnTransformer\n",
    "from sklearn.preprocessing import StandardScaler\n",
    "from sklearn.compose import make_column_transformer"
   ]
  },
  {
   "cell_type": "code",
   "execution_count": 118,
   "metadata": {},
   "outputs": [
    {
     "data": {
      "text/plain": [
       "Index(['radiant_sum_gold', 'radiant_max_gold', 'radiant_min_gold',\n",
       "       'dire_sum_gold', 'dire_max_gold', 'dire_min_gold', 'radiant_max_lh',\n",
       "       'radiant_min_lh', 'radiant_sum_lh', 'dire_max_lh', 'dire_min_lh',\n",
       "       'dire_sum_lh'],\n",
       "      dtype='object')"
      ]
     },
     "execution_count": 118,
     "metadata": {},
     "output_type": "execute_result"
    }
   ],
   "source": [
    "train_with_heroes.columns[:12]"
   ]
  },
  {
   "cell_type": "code",
   "execution_count": 227,
   "metadata": {},
   "outputs": [],
   "source": [
    "log_reg_heroes_pipe_multy = Pipeline([\n",
    "    # Применям мастшабирование только к вещественным признакам\n",
    "    ('scale', make_column_transformer((StandardScaler(), train_with_heroes.columns[:12]), remainder='passthrough')), \n",
    "    ('log_reg', LogisticRegression(max_iter=100000, solver='liblinear'))])\n",
    "\n",
    "\n",
    "log_reg_heroes_scale_params_multy = {'log_reg__penalty' : ['l1', 'l2'],\n",
    "                              'log_reg__C' : [i for i in np.logspace(-3, 3, 7)]}                        \n",
    "\n",
    "log_reg_heroes_clf_multy = GridSearchCV(log_reg_heroes_pipe_multy, log_reg_heroes_scale_params_multy, scoring='roc_auc', n_jobs=-1, cv=5)"
   ]
  },
  {
   "cell_type": "code",
   "execution_count": 228,
   "metadata": {},
   "outputs": [
    {
     "data": {
      "text/plain": [
       "GridSearchCV(cv=5,\n",
       "             estimator=Pipeline(steps=[('scale',\n",
       "                                        ColumnTransformer(remainder='passthrough',\n",
       "                                                          transformers=[('standardscaler',\n",
       "                                                                         StandardScaler(),\n",
       "                                                                         Index(['radiant_sum_gold', 'radiant_max_gold', 'radiant_min_gold',\n",
       "       'dire_sum_gold', 'dire_max_gold', 'dire_min_gold', 'radiant_max_lh',\n",
       "       'radiant_min_lh', 'radiant_sum_lh', 'dire_max_lh', 'dire_min_lh',\n",
       "       'dire_sum_lh'],\n",
       "      dtype='object'))])),\n",
       "                                       ('log_reg',\n",
       "                                        LogisticRegression(max_iter=100000,\n",
       "                                                           solver='liblinear'))]),\n",
       "             n_jobs=-1,\n",
       "             param_grid={'log_reg__C': [0.001, 0.01, 0.1, 1.0, 10.0, 100.0,\n",
       "                                        1000.0],\n",
       "                         'log_reg__penalty': ['l1', 'l2']},\n",
       "             scoring='roc_auc')"
      ]
     },
     "execution_count": 228,
     "metadata": {},
     "output_type": "execute_result"
    }
   ],
   "source": [
    "log_reg_heroes_clf_multy.fit(train_with_heroes, target)"
   ]
  },
  {
   "cell_type": "code",
   "execution_count": 229,
   "metadata": {},
   "outputs": [],
   "source": [
    "log_reg_heroes_clf_multy_scores = pd.DataFrame()\n",
    "log_reg_heroes_clf_multy_scores['val'] = [C['log_reg__C'] for C in log_reg_heroes_clf_multy.cv_results_['params']]\n",
    "log_reg_heroes_clf_multy_scores['reg'] = [C['log_reg__penalty'] for C in log_reg_heroes_clf_multy.cv_results_['params']]\n",
    "log_reg_heroes_clf_multy_scores['score'] = log_reg_heroes_clf_multy.cv_results_['mean_test_score']        "
   ]
  },
  {
   "cell_type": "code",
   "execution_count": 230,
   "metadata": {},
   "outputs": [
    {
     "data": {
      "image/png": "[encoded data removed]",
      "text/plain": [
       "<Figure size 432x288 with 1 Axes>"
      ]
     },
     "metadata": {},
     "output_type": "display_data"
    }
   ],
   "source": [
    "# plt.yscale('log')\n",
    "fig = sns.barplot(x='val', y='score', hue='reg', data=log_reg_heroes_clf_multy_scores,\n",
    "            ci=log_reg_heroes_clf_multy.cv_results_['std_test_score'], palette=\"tab10\")\n",
    "plt.legend(title=\"Регуляризация\")\n",
    "plt.title(\"Логистическая регрессия с масштабированием и героями\")\n",
    "plt.xlabel(\"Значение параметра C\")\n",
    "plt.ylabel(\"AUR_ROC\")\n",
    "pass"
   ]
  },
  {
   "cell_type": "code",
   "execution_count": 233,
   "metadata": {},
   "outputs": [],
   "source": [
    "svc_heroes_pipe_multy = Pipeline([\n",
    "    ('scale', make_column_transformer((StandardScaler(), train_with_heroes.columns[:12]), remainder='passthrough')), \n",
    "    ('svc', LinearSVC(max_iter=20000, loss='squared_hinge', dual=False))])\n",
    "\n",
    "svc_scale_heroes_parms_multy = {'svc__C': np.logspace(-3, 3, num=7),\n",
    "                  'svc__penalty' : ['l1', 'l2']}\n",
    "\n",
    "svc_scale_heroes_clf_multy = GridSearchCV(svc_heroes_pipe_multy, svc_scale_heroes_parms_multy, scoring='roc_auc', n_jobs=-1, cv=5)"
   ]
  },
  {
   "cell_type": "code",
   "execution_count": 234,
   "metadata": {},
   "outputs": [
    {
     "data": {
      "text/plain": [
       "GridSearchCV(cv=5,\n",
       "             estimator=Pipeline(steps=[('scale',\n",
       "                                        ColumnTransformer(remainder='passthrough',\n",
       "                                                          transformers=[('standardscaler',\n",
       "                                                                         StandardScaler(),\n",
       "                                                                         Index(['radiant_sum_gold', 'radiant_max_gold', 'radiant_min_gold',\n",
       "       'dire_sum_gold', 'dire_max_gold', 'dire_min_gold', 'radiant_max_lh',\n",
       "       'radiant_min_lh', 'radiant_sum_lh', 'dire_max_lh', 'dire_min_lh',\n",
       "       'dire_sum_lh'],\n",
       "      dtype='object'))])),\n",
       "                                       ('svc',\n",
       "                                        LinearSVC(dual=False,\n",
       "                                                  max_iter=20000))]),\n",
       "             n_jobs=-1,\n",
       "             param_grid={'svc__C': array([1.e-03, 1.e-02, 1.e-01, 1.e+00, 1.e+01, 1.e+02, 1.e+03]),\n",
       "                         'svc__penalty': ['l1', 'l2']},\n",
       "             scoring='roc_auc')"
      ]
     },
     "execution_count": 234,
     "metadata": {},
     "output_type": "execute_result"
    }
   ],
   "source": [
    "svc_scale_heroes_clf_multy.fit(train_with_heroes, target)"
   ]
  },
  {
   "cell_type": "code",
   "execution_count": 235,
   "metadata": {},
   "outputs": [],
   "source": [
    "svc_scale_heroes_parms_multy_scores = pd.DataFrame()\n",
    "svc_scale_heroes_parms_multy_scores['val'] = [C['svc__C'] for C in svc_scale_heroes_clf_multy.cv_results_['params']]\n",
    "svc_scale_heroes_parms_multy_scores['reg'] = [C['svc__penalty'] for C in svc_scale_heroes_clf_multy.cv_results_['params']]\n",
    "svc_scale_heroes_parms_multy_scores['score'] = svc_scale_heroes_clf_multy.cv_results_['mean_test_score']        "
   ]
  },
  {
   "cell_type": "code",
   "execution_count": 236,
   "metadata": {},
   "outputs": [
    {
     "data": {
      "image/png": "[encoded data removed]",
      "text/plain": [
       "<Figure size 432x288 with 1 Axes>"
      ]
     },
     "metadata": {},
     "output_type": "display_data"
    }
   ],
   "source": [
    "fig = sns.barplot(x='val', y='score', hue='reg', data=svc_scale_heroes_parms_multy_scores,\n",
    "            ci=svc_scale_heroes_clf_multy.cv_results_['std_test_score'], palette=\"tab10\")\n",
    "plt.legend(title=\"Регуляризация\")\n",
    "plt.title(\"Метод опорных векторов с мастштабированием и героями\")\n",
    "plt.xlabel(\"Значение параметра C\")\n",
    "plt.ylabel(\"AUR_ROC\")\n",
    "pass"
   ]
  },
  {
   "cell_type": "code",
   "execution_count": 237,
   "metadata": {},
   "outputs": [],
   "source": [
    "perceptron_heroes_pipe = Pipeline([\n",
    "    ('scale', make_column_transformer((StandardScaler(), train_with_heroes.columns[:12]), remainder='passthrough')), \n",
    "    ('perc', MLPClassifier(activation='logistic'))]);\n",
    "                           \n",
    "perceptron_scale_heroes_parms_multy = {'perc__hidden_layer_sizes': [17, 15, 13, 10, 8, 5, 2],\n",
    "                               'perc__activation' : ['logistic', 'relu']}\n",
    "                            \n",
    "mplr_scale__heroes_clf_multy = GridSearchCV(perceptron_heroes_pipe, perceptron_scale_heroes_parms_multy, scoring='roc_auc', n_jobs=-1, cv=5)"
   ]
  },
  {
   "cell_type": "code",
   "execution_count": 238,
   "metadata": {
    "collapsed": true
   },
   "outputs": [
    {
     "ename": "KeyboardInterrupt",
     "evalue": "",
     "output_type": "error",
     "traceback": [
      "\u001b[0;31m---------------------------------------------------------------------------\u001b[0m",
      "\u001b[0;31mKeyboardInterrupt\u001b[0m                         Traceback (most recent call last)",
      "\u001b[0;32m<ipython-input-238-3d4aef7839fa>\u001b[0m in \u001b[0;36m<module>\u001b[0;34m\u001b[0m\n\u001b[0;32m----> 1\u001b[0;31m \u001b[0mmplr_scale__heroes_clf_multy\u001b[0m\u001b[0;34m.\u001b[0m\u001b[0mfit\u001b[0m\u001b[0;34m(\u001b[0m\u001b[0mtrain_with_heroes\u001b[0m\u001b[0;34m,\u001b[0m \u001b[0mtarget\u001b[0m\u001b[0;34m)\u001b[0m\u001b[0;34m\u001b[0m\u001b[0;34m\u001b[0m\u001b[0m\n\u001b[0m",
      "\u001b[0;32m~/DAS/SecondSemester/ML/ml_env/lib/python3.8/site-packages/sklearn/utils/validation.py\u001b[0m in \u001b[0;36minner_f\u001b[0;34m(*args, **kwargs)\u001b[0m\n\u001b[1;32m     61\u001b[0m             \u001b[0mextra_args\u001b[0m \u001b[0;34m=\u001b[0m \u001b[0mlen\u001b[0m\u001b[0;34m(\u001b[0m\u001b[0margs\u001b[0m\u001b[0;34m)\u001b[0m \u001b[0;34m-\u001b[0m \u001b[0mlen\u001b[0m\u001b[0;34m(\u001b[0m\u001b[0mall_args\u001b[0m\u001b[0;34m)\u001b[0m\u001b[0;34m\u001b[0m\u001b[0;34m\u001b[0m\u001b[0m\n\u001b[1;32m     62\u001b[0m             \u001b[0;32mif\u001b[0m \u001b[0mextra_args\u001b[0m \u001b[0;34m<=\u001b[0m \u001b[0;36m0\u001b[0m\u001b[0;34m:\u001b[0m\u001b[0;34m\u001b[0m\u001b[0;34m\u001b[0m\u001b[0m\n\u001b[0;32m---> 63\u001b[0;31m                 \u001b[0;32mreturn\u001b[0m \u001b[0mf\u001b[0m\u001b[0;34m(\u001b[0m\u001b[0;34m*\u001b[0m\u001b[0margs\u001b[0m\u001b[0;34m,\u001b[0m \u001b[0;34m**\u001b[0m\u001b[0mkwargs\u001b[0m\u001b[0;34m)\u001b[0m\u001b[0;34m\u001b[0m\u001b[0;34m\u001b[0m\u001b[0m\n\u001b[0m\u001b[1;32m     64\u001b[0m \u001b[0;34m\u001b[0m\u001b[0m\n\u001b[1;32m     65\u001b[0m             \u001b[0;31m# extra_args > 0\u001b[0m\u001b[0;34m\u001b[0m\u001b[0;34m\u001b[0m\u001b[0;34m\u001b[0m\u001b[0m\n",
      "\u001b[0;32m~/DAS/SecondSemester/ML/ml_env/lib/python3.8/site-packages/sklearn/model_selection/_search.py\u001b[0m in \u001b[0;36mfit\u001b[0;34m(self, X, y, groups, **fit_params)\u001b[0m\n\u001b[1;32m    839\u001b[0m                 \u001b[0;32mreturn\u001b[0m \u001b[0mresults\u001b[0m\u001b[0;34m\u001b[0m\u001b[0;34m\u001b[0m\u001b[0m\n\u001b[1;32m    840\u001b[0m \u001b[0;34m\u001b[0m\u001b[0m\n\u001b[0;32m--> 841\u001b[0;31m             \u001b[0mself\u001b[0m\u001b[0;34m.\u001b[0m\u001b[0m_run_search\u001b[0m\u001b[0;34m(\u001b[0m\u001b[0mevaluate_candidates\u001b[0m\u001b[0;34m)\u001b[0m\u001b[0;34m\u001b[0m\u001b[0;34m\u001b[0m\u001b[0m\n\u001b[0m\u001b[1;32m    842\u001b[0m \u001b[0;34m\u001b[0m\u001b[0m\n\u001b[1;32m    843\u001b[0m             \u001b[0;31m# multimetric is determined here because in the case of a callable\u001b[0m\u001b[0;34m\u001b[0m\u001b[0;34m\u001b[0m\u001b[0;34m\u001b[0m\u001b[0m\n",
      "\u001b[0;32m~/DAS/SecondSemester/ML/ml_env/lib/python3.8/site-packages/sklearn/model_selection/_search.py\u001b[0m in \u001b[0;36m_run_search\u001b[0;34m(self, evaluate_candidates)\u001b[0m\n\u001b[1;32m   1286\u001b[0m     \u001b[0;32mdef\u001b[0m \u001b[0m_run_search\u001b[0m\u001b[0;34m(\u001b[0m\u001b[0mself\u001b[0m\u001b[0;34m,\u001b[0m \u001b[0mevaluate_candidates\u001b[0m\u001b[0;34m)\u001b[0m\u001b[0;34m:\u001b[0m\u001b[0;34m\u001b[0m\u001b[0;34m\u001b[0m\u001b[0m\n\u001b[1;32m   1287\u001b[0m         \u001b[0;34m\"\"\"Search all candidates in param_grid\"\"\"\u001b[0m\u001b[0;34m\u001b[0m\u001b[0;34m\u001b[0m\u001b[0m\n\u001b[0;32m-> 1288\u001b[0;31m         \u001b[0mevaluate_candidates\u001b[0m\u001b[0;34m(\u001b[0m\u001b[0mParameterGrid\u001b[0m\u001b[0;34m(\u001b[0m\u001b[0mself\u001b[0m\u001b[0;34m.\u001b[0m\u001b[0mparam_grid\u001b[0m\u001b[0;34m)\u001b[0m\u001b[0;34m)\u001b[0m\u001b[0;34m\u001b[0m\u001b[0;34m\u001b[0m\u001b[0m\n\u001b[0m\u001b[1;32m   1289\u001b[0m \u001b[0;34m\u001b[0m\u001b[0m\n\u001b[1;32m   1290\u001b[0m \u001b[0;34m\u001b[0m\u001b[0m\n",
      "\u001b[0;32m~/DAS/SecondSemester/ML/ml_env/lib/python3.8/site-packages/sklearn/model_selection/_search.py\u001b[0m in \u001b[0;36mevaluate_candidates\u001b[0;34m(candidate_params, cv, more_results)\u001b[0m\n\u001b[1;32m    793\u001b[0m                               n_splits, n_candidates, n_candidates * n_splits))\n\u001b[1;32m    794\u001b[0m \u001b[0;34m\u001b[0m\u001b[0m\n\u001b[0;32m--> 795\u001b[0;31m                 out = parallel(delayed(_fit_and_score)(clone(base_estimator),\n\u001b[0m\u001b[1;32m    796\u001b[0m                                                        \u001b[0mX\u001b[0m\u001b[0;34m,\u001b[0m \u001b[0my\u001b[0m\u001b[0;34m,\u001b[0m\u001b[0;34m\u001b[0m\u001b[0;34m\u001b[0m\u001b[0m\n\u001b[1;32m    797\u001b[0m                                                        \u001b[0mtrain\u001b[0m\u001b[0;34m=\u001b[0m\u001b[0mtrain\u001b[0m\u001b[0;34m,\u001b[0m \u001b[0mtest\u001b[0m\u001b[0;34m=\u001b[0m\u001b[0mtest\u001b[0m\u001b[0;34m,\u001b[0m\u001b[0;34m\u001b[0m\u001b[0;34m\u001b[0m\u001b[0m\n",
      "\u001b[0;32m~/DAS/SecondSemester/ML/ml_env/lib/python3.8/site-packages/joblib/parallel.py\u001b[0m in \u001b[0;36m__call__\u001b[0;34m(self, iterable)\u001b[0m\n\u001b[1;32m   1052\u001b[0m \u001b[0;34m\u001b[0m\u001b[0m\n\u001b[1;32m   1053\u001b[0m             \u001b[0;32mwith\u001b[0m \u001b[0mself\u001b[0m\u001b[0;34m.\u001b[0m\u001b[0m_backend\u001b[0m\u001b[0;34m.\u001b[0m\u001b[0mretrieval_context\u001b[0m\u001b[0;34m(\u001b[0m\u001b[0;34m)\u001b[0m\u001b[0;34m:\u001b[0m\u001b[0;34m\u001b[0m\u001b[0;34m\u001b[0m\u001b[0m\n\u001b[0;32m-> 1054\u001b[0;31m                 \u001b[0mself\u001b[0m\u001b[0;34m.\u001b[0m\u001b[0mretrieve\u001b[0m\u001b[0;34m(\u001b[0m\u001b[0;34m)\u001b[0m\u001b[0;34m\u001b[0m\u001b[0;34m\u001b[0m\u001b[0m\n\u001b[0m\u001b[1;32m   1055\u001b[0m             \u001b[0;31m# Make sure that we get a last message telling us we are done\u001b[0m\u001b[0;34m\u001b[0m\u001b[0;34m\u001b[0m\u001b[0;34m\u001b[0m\u001b[0m\n\u001b[1;32m   1056\u001b[0m             \u001b[0melapsed_time\u001b[0m \u001b[0;34m=\u001b[0m \u001b[0mtime\u001b[0m\u001b[0;34m.\u001b[0m\u001b[0mtime\u001b[0m\u001b[0;34m(\u001b[0m\u001b[0;34m)\u001b[0m \u001b[0;34m-\u001b[0m \u001b[0mself\u001b[0m\u001b[0;34m.\u001b[0m\u001b[0m_start_time\u001b[0m\u001b[0;34m\u001b[0m\u001b[0;34m\u001b[0m\u001b[0m\n",
      "\u001b[0;32m~/DAS/SecondSemester/ML/ml_env/lib/python3.8/site-packages/joblib/parallel.py\u001b[0m in \u001b[0;36mretrieve\u001b[0;34m(self)\u001b[0m\n\u001b[1;32m    931\u001b[0m             \u001b[0;32mtry\u001b[0m\u001b[0;34m:\u001b[0m\u001b[0;34m\u001b[0m\u001b[0;34m\u001b[0m\u001b[0m\n\u001b[1;32m    932\u001b[0m                 \u001b[0;32mif\u001b[0m \u001b[0mgetattr\u001b[0m\u001b[0;34m(\u001b[0m\u001b[0mself\u001b[0m\u001b[0;34m.\u001b[0m\u001b[0m_backend\u001b[0m\u001b[0;34m,\u001b[0m \u001b[0;34m'supports_timeout'\u001b[0m\u001b[0;34m,\u001b[0m \u001b[0;32mFalse\u001b[0m\u001b[0;34m)\u001b[0m\u001b[0;34m:\u001b[0m\u001b[0;34m\u001b[0m\u001b[0;34m\u001b[0m\u001b[0m\n\u001b[0;32m--> 933\u001b[0;31m                     \u001b[0mself\u001b[0m\u001b[0;34m.\u001b[0m\u001b[0m_output\u001b[0m\u001b[0;34m.\u001b[0m\u001b[0mextend\u001b[0m\u001b[0;34m(\u001b[0m\u001b[0mjob\u001b[0m\u001b[0;34m.\u001b[0m\u001b[0mget\u001b[0m\u001b[0;34m(\u001b[0m\u001b[0mtimeout\u001b[0m\u001b[0;34m=\u001b[0m\u001b[0mself\u001b[0m\u001b[0;34m.\u001b[0m\u001b[0mtimeout\u001b[0m\u001b[0;34m)\u001b[0m\u001b[0;34m)\u001b[0m\u001b[0;34m\u001b[0m\u001b[0;34m\u001b[0m\u001b[0m\n\u001b[0m\u001b[1;32m    934\u001b[0m                 \u001b[0;32melse\u001b[0m\u001b[0;34m:\u001b[0m\u001b[0;34m\u001b[0m\u001b[0;34m\u001b[0m\u001b[0m\n\u001b[1;32m    935\u001b[0m                     \u001b[0mself\u001b[0m\u001b[0;34m.\u001b[0m\u001b[0m_output\u001b[0m\u001b[0;34m.\u001b[0m\u001b[0mextend\u001b[0m\u001b[0;34m(\u001b[0m\u001b[0mjob\u001b[0m\u001b[0;34m.\u001b[0m\u001b[0mget\u001b[0m\u001b[0;34m(\u001b[0m\u001b[0;34m)\u001b[0m\u001b[0;34m)\u001b[0m\u001b[0;34m\u001b[0m\u001b[0;34m\u001b[0m\u001b[0m\n",
      "\u001b[0;32m~/DAS/SecondSemester/ML/ml_env/lib/python3.8/site-packages/joblib/_parallel_backends.py\u001b[0m in \u001b[0;36mwrap_future_result\u001b[0;34m(future, timeout)\u001b[0m\n\u001b[1;32m    540\u001b[0m         AsyncResults.get from multiprocessing.\"\"\"\n\u001b[1;32m    541\u001b[0m         \u001b[0;32mtry\u001b[0m\u001b[0;34m:\u001b[0m\u001b[0;34m\u001b[0m\u001b[0;34m\u001b[0m\u001b[0m\n\u001b[0;32m--> 542\u001b[0;31m             \u001b[0;32mreturn\u001b[0m \u001b[0mfuture\u001b[0m\u001b[0;34m.\u001b[0m\u001b[0mresult\u001b[0m\u001b[0;34m(\u001b[0m\u001b[0mtimeout\u001b[0m\u001b[0;34m=\u001b[0m\u001b[0mtimeout\u001b[0m\u001b[0;34m)\u001b[0m\u001b[0;34m\u001b[0m\u001b[0;34m\u001b[0m\u001b[0m\n\u001b[0m\u001b[1;32m    543\u001b[0m         \u001b[0;32mexcept\u001b[0m \u001b[0mCfTimeoutError\u001b[0m \u001b[0;32mas\u001b[0m \u001b[0me\u001b[0m\u001b[0;34m:\u001b[0m\u001b[0;34m\u001b[0m\u001b[0;34m\u001b[0m\u001b[0m\n\u001b[1;32m    544\u001b[0m             \u001b[0;32mraise\u001b[0m \u001b[0mTimeoutError\u001b[0m \u001b[0;32mfrom\u001b[0m \u001b[0me\u001b[0m\u001b[0;34m\u001b[0m\u001b[0;34m\u001b[0m\u001b[0m\n",
      "\u001b[0;32m~/.pyenv/versions/3.8.5/lib/python3.8/concurrent/futures/_base.py\u001b[0m in \u001b[0;36mresult\u001b[0;34m(self, timeout)\u001b[0m\n\u001b[1;32m    432\u001b[0m                 \u001b[0;32mreturn\u001b[0m \u001b[0mself\u001b[0m\u001b[0;34m.\u001b[0m\u001b[0m__get_result\u001b[0m\u001b[0;34m(\u001b[0m\u001b[0;34m)\u001b[0m\u001b[0;34m\u001b[0m\u001b[0;34m\u001b[0m\u001b[0m\n\u001b[1;32m    433\u001b[0m \u001b[0;34m\u001b[0m\u001b[0m\n\u001b[0;32m--> 434\u001b[0;31m             \u001b[0mself\u001b[0m\u001b[0;34m.\u001b[0m\u001b[0m_condition\u001b[0m\u001b[0;34m.\u001b[0m\u001b[0mwait\u001b[0m\u001b[0;34m(\u001b[0m\u001b[0mtimeout\u001b[0m\u001b[0;34m)\u001b[0m\u001b[0;34m\u001b[0m\u001b[0;34m\u001b[0m\u001b[0m\n\u001b[0m\u001b[1;32m    435\u001b[0m \u001b[0;34m\u001b[0m\u001b[0m\n\u001b[1;32m    436\u001b[0m             \u001b[0;32mif\u001b[0m \u001b[0mself\u001b[0m\u001b[0;34m.\u001b[0m\u001b[0m_state\u001b[0m \u001b[0;32min\u001b[0m \u001b[0;34m[\u001b[0m\u001b[0mCANCELLED\u001b[0m\u001b[0;34m,\u001b[0m \u001b[0mCANCELLED_AND_NOTIFIED\u001b[0m\u001b[0;34m]\u001b[0m\u001b[0;34m:\u001b[0m\u001b[0;34m\u001b[0m\u001b[0;34m\u001b[0m\u001b[0m\n",
      "\u001b[0;32m~/.pyenv/versions/3.8.5/lib/python3.8/threading.py\u001b[0m in \u001b[0;36mwait\u001b[0;34m(self, timeout)\u001b[0m\n\u001b[1;32m    300\u001b[0m         \u001b[0;32mtry\u001b[0m\u001b[0;34m:\u001b[0m    \u001b[0;31m# restore state no matter what (e.g., KeyboardInterrupt)\u001b[0m\u001b[0;34m\u001b[0m\u001b[0;34m\u001b[0m\u001b[0m\n\u001b[1;32m    301\u001b[0m             \u001b[0;32mif\u001b[0m \u001b[0mtimeout\u001b[0m \u001b[0;32mis\u001b[0m \u001b[0;32mNone\u001b[0m\u001b[0;34m:\u001b[0m\u001b[0;34m\u001b[0m\u001b[0;34m\u001b[0m\u001b[0m\n\u001b[0;32m--> 302\u001b[0;31m                 \u001b[0mwaiter\u001b[0m\u001b[0;34m.\u001b[0m\u001b[0macquire\u001b[0m\u001b[0;34m(\u001b[0m\u001b[0;34m)\u001b[0m\u001b[0;34m\u001b[0m\u001b[0;34m\u001b[0m\u001b[0m\n\u001b[0m\u001b[1;32m    303\u001b[0m                 \u001b[0mgotit\u001b[0m \u001b[0;34m=\u001b[0m \u001b[0;32mTrue\u001b[0m\u001b[0;34m\u001b[0m\u001b[0;34m\u001b[0m\u001b[0m\n\u001b[1;32m    304\u001b[0m             \u001b[0;32melse\u001b[0m\u001b[0;34m:\u001b[0m\u001b[0;34m\u001b[0m\u001b[0;34m\u001b[0m\u001b[0m\n",
      "\u001b[0;31mKeyboardInterrupt\u001b[0m: "
     ]
    }
   ],
   "source": [
    "mplr_scale__heroes_clf_multy.fit(train_with_heroes, target)"
   ]
  },
  {
   "cell_type": "code",
   "execution_count": null,
   "metadata": {},
   "outputs": [],
   "source": [
    "mplr_scale_heroes_clf_multy_scores = pd.DataFrame()\n",
    "mplr_scale_heroes_clf_multy_scores['nodes'] = [C['perc__hidden_layer_sizes'] for C in mplr_scale__heroes_clf_multy.cv_results_['params']]\n",
    "mplr_scale_heroes_clf_multy_scores['act'] = [C['perc__activation'] for C in mplr_scale__heroes_clf_multy.cv_results_['params']]\n",
    "mplr_scale_heroes_clf_multy_scores['score'] = mplr_scale__heroes_clf_multy.cv_results_['mean_test_score']        "
   ]
  },
  {
   "cell_type": "code",
   "execution_count": null,
   "metadata": {},
   "outputs": [],
   "source": [
    "fig = sns.barplot(x='nodes', y='score', hue='act', data=mplr_scale_heroes_clf_multy_scores,\n",
    "            ci=mplr_scale__heroes_clf_multy.cv_results_['std_test_score'], palette=\"tab10\")\n",
    "plt.legend(title=\"Функция активации\")\n",
    "plt.title(\"Многослойный персептрон с мастштабированием\")\n",
    "plt.xlabel(\"Количество неронов в скрытом слое C\")\n",
    "plt.ylabel(\"AUR_ROC\")\n",
    "pass"
   ]
  },
  {
   "cell_type": "code",
   "execution_count": null,
   "metadata": {},
   "outputs": [],
   "source": [
    "print(\"Качество лог. регрессии \", log_reg_heroes_clf_multy.best_score_)\n",
    "print(\"Качество метода опорных векторов \", svc_scale_heroes_clf_multy.best_score_)\n",
    "print(\"Качество MLP векторов \", mplr_scale__heroes_clf_multy.best_score_)"
   ]
  },
  {
   "cell_type": "markdown",
   "metadata": {},
   "source": [
    "**Вывод:** лучшим алгоритмом оказалась логистическая регрессия (не изменилось, после добавления героев), однако качество ..."
   ]
  },
  {
   "cell_type": "markdown",
   "metadata": {},
   "source": [
    "### Смешивание моделей (blending)\n",
    "\n",
    "Часто на практике оказывается возможным увеличить качество предсказания путем смешивания разных моделей. Давайте посмотрим, действительно ли такой подход дает прирост в качестве.\n",
    "\n",
    "Выберите из построенных моделей двух предыдущих пунктов две, которые дали наибольшее начество на кросс-валидации (обозначим их $clf_1$ и $clf_2$). Далее постройте новый классификатор, ответ которого на некотором объекте $x$ будет выглядеть следующим образом:\n",
    "\n",
    "$$result(x) = clf_1(x) * \\alpha + clf_2(x) * (1 - \\alpha)$$\n",
    "\n",
    "где $\\alpha$ — гиперпараметр нового классификатора."
   ]
  },
  {
   "cell_type": "markdown",
   "metadata": {},
   "source": [
    "**Задание 10** (2 балла)\n",
    "\n",
    "При реализации своих моделей хорошей практикой является создание sklearn-совместимых классов. Во-первых, такая реализация будет иметь стандартный интерфейс и позволит другим людям безболезненно обучать реализованные вами модели. Во-вторых, появляется возможность использовать любой функционал пакета sklearn, принимающий на вход модель.\n",
    "\n",
    "Создайте классификатор, который инициализируется двумя произвольными классификаторами и параметром $\\alpha$. Во время обучения такой классификатор должен обучать обе базовые модели, а на этапе предсказания замешивать предсказания базовых моделей по формуле, указанной выше. \n",
    "\n",
    "Для создания пользовательского классификатора необходимо отнаследоваться от базовых классов *[BaseEstimator](http://scikit-learn.org/stable/modules/generated/sklearn.base.BaseEstimator.html), [ClassifierMixin](http://scikit-learn.org/stable/modules/generated/sklearn.base.ClassifierMixin.html)* и реализовать методы *\\_\\_init\\_\\_, fit, predict и predict_proba*. Пример sklearn-совместимого классификатора с комментариями можно найти [здесь](http://scikit-learn.org/stable/developers/contributing.html#rolling-your-own-estimator) "
   ]
  },
  {
   "cell_type": "code",
   "execution_count": 181,
   "metadata": {},
   "outputs": [],
   "source": [
    "from sklearn.base import BaseEstimator\n",
    "from sklearn.base import ClassifierMixin\n",
    "from sklearn.utils.validation import check_X_y, check_array, check_is_fitted"
   ]
  },
  {
   "cell_type": "code",
   "execution_count": 260,
   "metadata": {},
   "outputs": [],
   "source": [
    "class BlendedEstimator(BaseEstimator):\n",
    "    def __init__(self, first_clf = LogisticRegression(), second_clf = LinearSVC(), coef = 0.5):\n",
    "        self.first_clf = first_clf\n",
    "        self.second_clf = second_clf\n",
    "        self.coef = coef\n",
    "        \n",
    "    def fit(self, X, y):\n",
    "        self.first_clf.fit(X, y)\n",
    "        self.second_clf.fit(X, y)\n",
    "        return self\n",
    "        \n",
    "    def predict(self, X):\n",
    "        check_is_fitted(self)\n",
    "        return (self.first_clf.predict_proba(X) * self.coef + self.second_clf.predict_proba(X) * (1 - self.coef)) > 0.5\n",
    "    \n",
    "    def predict_proba(self, X):\n",
    "        return self.first_clf.decision_function(X) * self.coef + self.second_clf.decision_function(X) * (1 - self.coef)\n",
    "    \n",
    "    def decision_function(self, X):\n",
    "        return self.first_clf.decision_function(X) * self.coef + self.second_clf.decision_function(X) * (1 - self.coef)"
   ]
  },
  {
   "cell_type": "code",
   "execution_count": 261,
   "metadata": {},
   "outputs": [],
   "source": [
    "blended_parms = {'coef' : np.linspace(0.1, 1, 10)}\n",
    "\n",
    "blended_clf = GridSearchCV(BlendedEstimator(log_reg_heroes_clf_multy.best_estimator_, svc_scale_heroes_clf_multy.best_estimator_), blended_parms, \n",
    "                           scoring='roc_auc', n_jobs=-1, cv=2)"
   ]
  },
  {
   "cell_type": "code",
   "execution_count": 262,
   "metadata": {},
   "outputs": [
    {
     "data": {
      "text/plain": [
       "GridSearchCV(cv=2,\n",
       "             estimator=BlendedEstimator(first_clf=Pipeline(steps=[('scale',\n",
       "                                                                   ColumnTransformer(remainder='passthrough',\n",
       "                                                                                     transformers=[('standardscaler',\n",
       "                                                                                                    StandardScaler(),\n",
       "                                                                                                    Index(['radiant_sum_gold', 'radiant_max_gold', 'radiant_min_gold',\n",
       "       'dire_sum_gold', 'dire_max_gold', 'dire_min_gold', 'radiant_max_lh',\n",
       "       'radiant_min_lh', 'radiant_sum_lh', 'dire_max_lh', 'd...\n",
       "                                                                                                     Index(['radiant_sum_gold', 'radiant_max_gold', 'radiant_min_gold',\n",
       "       'dire_sum_gold', 'dire_max_gold', 'dire_min_gold', 'radiant_max_lh',\n",
       "       'radiant_min_lh', 'radiant_sum_lh', 'dire_max_lh', 'dire_min_lh',\n",
       "       'dire_sum_lh'],\n",
       "      dtype='object'))])),\n",
       "                                                                   ('svc',\n",
       "                                                                    LinearSVC(C=0.01,\n",
       "                                                                              dual=False,\n",
       "                                                                              max_iter=20000))])),\n",
       "             n_jobs=-1,\n",
       "             param_grid={'coef': array([0.1, 0.2, 0.3, 0.4, 0.5, 0.6, 0.7, 0.8, 0.9, 1. ])},\n",
       "             scoring='roc_auc')"
      ]
     },
     "execution_count": 262,
     "metadata": {},
     "output_type": "execute_result"
    }
   ],
   "source": [
    "blended_clf.fit(train_with_heroes, target)"
   ]
  },
  {
   "cell_type": "code",
   "execution_count": 263,
   "metadata": {},
   "outputs": [
    {
     "data": {
      "text/plain": [
       "{'mean_fit_time': array([1.68759465, 1.75434101, 1.72049284, 1.86399066, 1.74407399,\n",
       "        1.62240934, 1.74059665, 1.69832909, 0.88722491, 0.89690053]),\n",
       " 'std_fit_time': array([0.01240635, 0.02227032, 0.09887671, 0.05093467, 0.21859896,\n",
       "        0.15904951, 0.16112792, 0.05407584, 0.03442979, 0.07555401]),\n",
       " 'mean_score_time': array([0.36658108, 0.27379155, 0.26038575, 0.26426005, 0.26667809,\n",
       "        0.27316058, 0.23465002, 0.26239038, 0.13856065, 0.13308704]),\n",
       " 'std_score_time': array([0.05937636, 0.02574754, 0.03167963, 0.02772069, 0.05495191,\n",
       "        0.04797137, 0.00687778, 0.0248642 , 0.00239551, 0.01836097]),\n",
       " 'param_coef': masked_array(data=[0.1, 0.2, 0.30000000000000004, 0.4, 0.5, 0.6,\n",
       "                    0.7000000000000001, 0.8, 0.9, 1.0],\n",
       "              mask=[False, False, False, False, False, False, False, False,\n",
       "                    False, False],\n",
       "        fill_value='?',\n",
       "             dtype=object),\n",
       " 'params': [{'coef': 0.1},\n",
       "  {'coef': 0.2},\n",
       "  {'coef': 0.30000000000000004},\n",
       "  {'coef': 0.4},\n",
       "  {'coef': 0.5},\n",
       "  {'coef': 0.6},\n",
       "  {'coef': 0.7000000000000001},\n",
       "  {'coef': 0.8},\n",
       "  {'coef': 0.9},\n",
       "  {'coef': 1.0}],\n",
       " 'split0_test_score': array([0.75558705, 0.75561364, 0.75562774, 0.75564046, 0.75565076,\n",
       "        0.75565964, 0.75567084, 0.75567557, 0.75567906, 0.75568412]),\n",
       " 'split1_test_score': array([0.75294051, 0.75295958, 0.75297934, 0.75298995, 0.75299831,\n",
       "        0.75300517, 0.75300694, 0.753009  , 0.75301352, 0.75301714]),\n",
       " 'mean_test_score': array([0.75426378, 0.75428661, 0.75430354, 0.7543152 , 0.75432453,\n",
       "        0.75433241, 0.75433889, 0.75434228, 0.75434629, 0.75435063]),\n",
       " 'std_test_score': array([0.00132327, 0.00132703, 0.0013242 , 0.00132525, 0.00132622,\n",
       "        0.00132724, 0.00133195, 0.00133329, 0.00133277, 0.00133349]),\n",
       " 'rank_test_score': array([10,  9,  8,  7,  6,  5,  4,  3,  2,  1], dtype=int32)}"
      ]
     },
     "execution_count": 263,
     "metadata": {},
     "output_type": "execute_result"
    }
   ],
   "source": [
    "blended_clf.cv_results_"
   ]
  },
  {
   "cell_type": "markdown",
   "metadata": {},
   "source": [
    "**Задание 11** (1 балл)\n",
    "\n",
    "Подберите по сетке от 0 до 1 значение $\\alpha$ для этого классификатора. Если класс реализован правильно, то вы cможете использовать *GridSearchCV*, как в случае с обычными классификаторами.\n",
    "\n",
    "Изобразите на графике среднее качество по фолдам и доверительный интервал в зависимости от $\\alpha$.\n",
    "\n",
    "Дал ли этот подход прирост к качеству по сравнению с моделями, обученными по-отдельности? Поясните, почему даже простой блендинг моделей может влять на итоговое качество?"
   ]
  },
  {
   "cell_type": "code",
   "execution_count": null,
   "metadata": {
    "jupyter": {
     "outputs_hidden": true
    }
   },
   "outputs": [],
   "source": []
  },
  {
   "cell_type": "markdown",
   "metadata": {},
   "source": [
    "### Сравнение построенных моделей\n",
    "\n",
    "![](http://cdn.shopify.com/s/files/1/0870/1066/files/compare_e8b89647-3cb6-4871-a976-2e36e5987773.png?1750043340268621065)\n",
    "\n",
    "После того как было построено много моделей, правильным продолжением является сравнение их между собой.  Воспользуйтесь диаграммой размаха (\"ящик с усами\") для сравнения алгоритмов между собой. Эту диаграмму можно построить при помощи [boxplot](https://matplotlib.org/3.1.0/api/_as_gen/matplotlib.pyplot.boxplot.html) из matplotlib либо через [обертку](https://pandas.pydata.org/pandas-docs/stable/reference/api/pandas.DataFrame.boxplot.html) над ней из pandas."
   ]
  },
  {
   "cell_type": "markdown",
   "metadata": {},
   "source": [
    "**Задание 12** (2 балла) \n",
    "\n",
    "Для каждого типа классификатора, а так же смешанной модели, выберите тот, которых давал наилучшее качество на кросс-валидации и постройте диаграмму размаха. Все классификаторы должны быть изображены на одном графике.\n",
    " \n",
    "Сделайте общие итоговые выводы о классификаторах с точки зрения их работы с признаками и сложности самой модели (какие гиперпараметры есть у модели, сильно ли изменение значения гиперпараметра влияет на качество модели)."
   ]
  },
  {
   "cell_type": "code",
   "execution_count": null,
   "metadata": {},
   "outputs": [],
   "source": []
  },
  {
   "cell_type": "markdown",
   "metadata": {},
   "source": [
    "Не забудьте продолжить участвовать в соревнование, воспользовавшись всеми полученными наработками."
   ]
  }
 ],
 "metadata": {
  "kernelspec": {
   "display_name": "Python 3",
   "language": "python",
   "name": "python3"
  },
  "language_info": {
   "codemirror_mode": {
    "name": "ipython",
    "version": 3
   },
   "file_extension": ".py",
   "mimetype": "text/x-python",
   "name": "python",
   "nbconvert_exporter": "python",
   "pygments_lexer": "ipython3",
   "version": "3.8.5"
  }
 },
 "nbformat": 4,
 "nbformat_minor": 4
}
